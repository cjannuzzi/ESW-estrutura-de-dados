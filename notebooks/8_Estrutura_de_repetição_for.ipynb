{
  "cells": [
    {
      "cell_type": "markdown",
      "metadata": {
        "id": "5hg58pyZe2oS"
      },
      "source": [
        "# Estruturas de repetição - for"
      ]
    },
    {
      "cell_type": "code",
      "execution_count": null,
      "metadata": {
        "colab": {
          "base_uri": "https://localhost:8080/",
          "height": 101
        },
        "id": "Vqvjpfi6e_L-",
        "outputId": "b5e88e15-3f0c-46cc-b90c-6c413f356d57"
      },
      "outputs": [],
      "source": [
        "print(1)\n",
        "print(2)\n",
        "print(3)\n",
        "print(4)\n",
        "print(5)"
      ]
    },
    {
      "cell_type": "code",
      "execution_count": null,
      "metadata": {
        "colab": {
          "base_uri": "https://localhost:8080/",
          "height": 101
        },
        "id": "c2iluHyETYEU",
        "outputId": "83f36526-cbe8-4b15-f25e-6248a0dd4754"
      },
      "outputs": [],
      "source": [
        "for numero in range(1, 6):\n",
        "    print(numero)"
      ]
    },
    {
      "cell_type": "code",
      "execution_count": null,
      "metadata": {
        "colab": {
          "base_uri": "https://localhost:8080/",
          "height": 101
        },
        "id": "P7NuY7N4TxMK",
        "outputId": "5ce98328-efb7-4ffd-81d8-fe122919f27f"
      },
      "outputs": [],
      "source": [
        "for numero in range(5, 0, -1):\n",
        "    print(numero)"
      ]
    },
    {
      "cell_type": "code",
      "execution_count": null,
      "metadata": {
        "colab": {
          "base_uri": "https://localhost:8080/",
          "height": 34
        },
        "id": "Tte1Ylh6UAtK",
        "outputId": "2ac82940-1088-4e83-d278-922647df20a4"
      },
      "outputs": [],
      "source": [
        "5 + 4 + 3 + 2 + 1"
      ]
    },
    {
      "cell_type": "code",
      "execution_count": null,
      "metadata": {
        "colab": {
          "base_uri": "https://localhost:8080/",
          "height": 118
        },
        "id": "H5x4zHkfUFmb",
        "outputId": "2fd622dc-6c23-48bc-891f-904c8e98d2d9"
      },
      "outputs": [],
      "source": [
        "soma = 0\n",
        "for numero in range(1, 6):\n",
        "    soma = soma + numero\n",
        "    # print(soma)\n",
        "\n",
        "print(soma)"
      ]
    },
    {
      "cell_type": "code",
      "execution_count": null,
      "metadata": {
        "colab": {
          "base_uri": "https://localhost:8080/",
          "height": 34
        },
        "id": "JZnG40IVUnwn",
        "outputId": "f452ab47-bce1-4c75-9274-c05c0eb06e97"
      },
      "outputs": [],
      "source": [
        "palavra = \"sorvete\"\n",
        "for letra in palavra:\n",
        "    # print(letra)\n",
        "    if letra == \"v\":\n",
        "        print(\"Achou a letra v\")"
      ]
    },
    {
      "cell_type": "code",
      "execution_count": null,
      "metadata": {
        "colab": {
          "base_uri": "https://localhost:8080/",
          "height": 521
        },
        "id": "UXEE2wmwVMBq",
        "outputId": "9a712589-73a9-4bcb-d140-30af99d035cb"
      },
      "outputs": [],
      "source": [
        "for i in range(0, 5):\n",
        "    print(i)\n",
        "    print(\"---\")\n",
        "    for j in range(0, 3):\n",
        "        print(j)\n",
        "    print()"
      ]
    }
  ],
  "metadata": {
    "colab": {
      "provenance": []
    },
    "kernelspec": {
      "display_name": "Python 3",
      "name": "python3"
    },
    "language_info": {
      "codemirror_mode": {
        "name": "ipython",
        "version": 3
      },
      "file_extension": ".py",
      "mimetype": "text/x-python",
      "name": "python",
      "nbconvert_exporter": "python",
      "pygments_lexer": "ipython3",
      "version": "3.12.2"
    }
  },
  "nbformat": 4,
  "nbformat_minor": 0
}
