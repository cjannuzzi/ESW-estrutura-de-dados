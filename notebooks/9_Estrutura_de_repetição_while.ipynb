{
  "cells": [
    {
      "cell_type": "markdown",
      "metadata": {
        "id": "5hg58pyZe2oS"
      },
      "source": [
        "# Estruturas de repetição - while"
      ]
    },
    {
      "cell_type": "code",
      "execution_count": null,
      "metadata": {
        "colab": {
          "base_uri": "https://localhost:8080/",
          "height": 118
        },
        "id": "97oTadu-WF4t",
        "outputId": "331b0f90-fa6d-4c89-b5a4-906843b430ed"
      },
      "outputs": [
        {
          "name": "stdout",
          "output_type": "stream",
          "text": [
            "1\n",
            "2\n",
            "3\n",
            "4\n",
            "5\n",
            "---\n"
          ]
        }
      ],
      "source": [
        "numero = 1\n",
        "while numero < 6:\n",
        "    print(numero)\n",
        "    numero += 1\n",
        "print(\"---\")"
      ]
    },
    {
      "cell_type": "code",
      "execution_count": null,
      "metadata": {
        "colab": {
          "base_uri": "https://localhost:8080/",
          "height": 101
        },
        "id": "aXkrSeO2Wvms",
        "outputId": "0547bd89-793f-469d-985c-021d2cd8d3d2"
      },
      "outputs": [
        {
          "name": "stdout",
          "output_type": "stream",
          "text": [
            "5\n",
            "4\n",
            "3\n",
            "2\n",
            "1\n"
          ]
        }
      ],
      "source": [
        "numero = 5\n",
        "while numero > 0:\n",
        "    print(numero)\n",
        "    numero -= 1"
      ]
    },
    {
      "cell_type": "code",
      "execution_count": null,
      "metadata": {
        "colab": {
          "base_uri": "https://localhost:8080/",
          "height": 34
        },
        "id": "-nIW4iunW6QQ",
        "outputId": "d874ba2a-4b8d-4ac3-ab49-a5ff91f7db5c"
      },
      "outputs": [
        {
          "data": {
            "text/plain": [
              "15"
            ]
          },
          "execution_count": 5,
          "metadata": {
            "tags": []
          },
          "output_type": "execute_result"
        }
      ],
      "source": [
        "1 + 2 + 3 + 4 + 5"
      ]
    },
    {
      "cell_type": "code",
      "execution_count": null,
      "metadata": {
        "colab": {
          "base_uri": "https://localhost:8080/",
          "height": 34
        },
        "id": "uCoU9t1wW9fG",
        "outputId": "6086ed13-2749-4ed2-b562-a70f80f3bb43"
      },
      "outputs": [
        {
          "name": "stdout",
          "output_type": "stream",
          "text": [
            "15\n"
          ]
        }
      ],
      "source": [
        "soma = 0\n",
        "numero = 1\n",
        "while numero < 6:\n",
        "    soma += numero\n",
        "    numero += 1\n",
        "print(soma)"
      ]
    },
    {
      "cell_type": "code",
      "execution_count": null,
      "metadata": {
        "colab": {
          "base_uri": "https://localhost:8080/",
          "height": 34
        },
        "id": "b7oXoYxXXNH6",
        "outputId": "9276dd2e-eb45-4c36-c82e-579a775dfe47"
      },
      "outputs": [
        {
          "name": "stdout",
          "output_type": "stream",
          "text": [
            "Digite um número de 1 a 10: 5\n"
          ]
        }
      ],
      "source": [
        "numero = 12\n",
        "while numero < 1 or numero > 10:\n",
        "    numero = int(input(\"Digite um número de 1 a 10: \"))"
      ]
    }
  ],
  "metadata": {
    "colab": {
      "provenance": []
    },
    "kernelspec": {
      "display_name": "Python 3",
      "name": "python3"
    },
    "language_info": {
      "name": "python",
      "version": "3.12.2"
    }
  },
  "nbformat": 4,
  "nbformat_minor": 0
}
