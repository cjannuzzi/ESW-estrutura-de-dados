{
  "cells": [
    {
      "cell_type": "markdown",
      "metadata": {
        "id": "c9BudZ2gNE2n"
      },
      "source": [
        "# Exercício 1 - listas\n",
        "\n",
        "Crie uma estrutura de repetição para fazer a leitura de 5 números inteiros e os armazene dentro de uma lista. Após a leitura, crie outra estrutura de repetição para somar todos os valores digitados"
      ]
    },
    {
      "cell_type": "code",
      "execution_count": 1,
      "metadata": {
        "colab": {
          "base_uri": "https://localhost:8080/",
          "height": 101
        },
        "id": "VVxui4nim6Xk",
        "outputId": "c1c411e1-2475-4b0d-983f-bf06133ffbc6"
      },
      "outputs": [],
      "source": [
        "lista = []  # lista vazia\n",
        "for _ in range(1, 6):  # 5 iterações\n",
        "    valor = int(input(\"Digite o valor: \"))  # leia o valor\n",
        "    lista.append(valor)  # adicione o valor a lista"
      ]
    },
    {
      "cell_type": "code",
      "execution_count": 2,
      "metadata": {
        "colab": {
          "base_uri": "https://localhost:8080/",
          "height": 34
        },
        "id": "i5H_wkoinORR",
        "outputId": "d84b513f-0fdc-4c2e-f8a9-acdf43e7541d"
      },
      "outputs": [
        {
          "data": {
            "text/plain": [
              "[20, 34, 22, 24, 56]"
            ]
          },
          "execution_count": 2,
          "metadata": {},
          "output_type": "execute_result"
        }
      ],
      "source": [
        "lista"
      ]
    },
    {
      "cell_type": "code",
      "execution_count": 3,
      "metadata": {
        "colab": {
          "base_uri": "https://localhost:8080/",
          "height": 34
        },
        "id": "8iC4MSq1tU82",
        "outputId": "7d26eab7-8b49-46a9-eeb6-4096f6f385c8"
      },
      "outputs": [
        {
          "data": {
            "text/plain": [
              "5"
            ]
          },
          "execution_count": 3,
          "metadata": {},
          "output_type": "execute_result"
        }
      ],
      "source": [
        "len(lista)  # tamanho da lista ... lembrem-se do índice."
      ]
    },
    {
      "cell_type": "code",
      "execution_count": 4,
      "metadata": {
        "colab": {
          "base_uri": "https://localhost:8080/",
          "height": 34
        },
        "id": "3o0BCJOLnP2g",
        "outputId": "41e77aaa-92a8-4c25-b738-8f51ab4d2361"
      },
      "outputs": [
        {
          "name": "stdout",
          "output_type": "stream",
          "text": [
            "Soma:  156\n"
          ]
        }
      ],
      "source": [
        "soma = 0\n",
        "for i in range(\n",
        "    len(lista)\n",
        "):  # 0, 1, 2, 3, 4... poderiamos ter colocado o range(1, 6) mas quis usar o len para o script ler automagicamente o tamanho da lista.\n",
        "    # print(lista[i])\n",
        "    soma += lista[\n",
        "        i\n",
        "    ]  # acessa cada um dos elementos e variável soma recebe a própria soma como também o item da lista.\n",
        "print(\"Soma: \", soma)"
      ]
    },
    {
      "cell_type": "code",
      "execution_count": 9,
      "metadata": {
        "colab": {
          "base_uri": "https://localhost:8080/",
          "height": 34
        },
        "id": "fWHgU9oJnn2K",
        "outputId": "bddc8de0-275b-4992-9338-596e29d68701"
      },
      "outputs": [
        {
          "data": {
            "text/plain": [
              "156"
            ]
          },
          "execution_count": 9,
          "metadata": {},
          "output_type": "execute_result"
        }
      ],
      "source": [
        "import numpy as np  # importe o numpy para o script\n",
        "\n",
        "np.array(\n",
        "    lista\n",
        ").sum()  # Estamos convertendo a lista para o formato do numpy array e com esse formato temos acesso a algumas funções matemáticas como soma, média e por ai vai.\n",
        "# tente usar o lista.sum() e perceberá um erro pois não esta usando a biblioteca do numpy."
      ]
    },
    {
      "cell_type": "markdown",
      "metadata": {
        "id": "fPUAsfsonjUq"
      },
      "source": [
        "# Exercícios 2 - dicionários\n",
        "\n",
        "Crie um dicionário para armazenar o nome e a idade de 3 piratas, fazendo a leitura dos valores por meio de uma estrutura de repetição. Depois, crie uma nova estrutura de repetição para somar todas as idades e retornar a média"
      ]
    },
    {
      "cell_type": "code",
      "execution_count": 8,
      "metadata": {
        "colab": {
          "base_uri": "https://localhost:8080/",
          "height": 118
        },
        "id": "1l72uOv1oCZR",
        "outputId": "1751040f-0463-4d3c-c33c-78027cbbaa45"
      },
      "outputs": [],
      "source": [
        "piratas = {}\n",
        "for _ in range(1, 4):\n",
        "    nome = input(\"Digite o nome: \")\n",
        "    idade = float(input(\"Digite a idade: \"))\n",
        "    piratas[nome] = idade"
      ]
    },
    {
      "cell_type": "code",
      "execution_count": 9,
      "metadata": {
        "colab": {
          "base_uri": "https://localhost:8080/",
          "height": 34
        },
        "id": "G2P6lolZobRW",
        "outputId": "661bf3a8-d01d-4ab3-80b2-9b2755d9ba32"
      },
      "outputs": [
        {
          "data": {
            "text/plain": [
              "{'Monkey D. Luffy': 19.0, 'Roronoa Zoro': 21.0, 'Nami': 20.0}"
            ]
          },
          "execution_count": 9,
          "metadata": {},
          "output_type": "execute_result"
        }
      ],
      "source": [
        "piratas"
      ]
    },
    {
      "cell_type": "code",
      "execution_count": 10,
      "metadata": {
        "colab": {
          "base_uri": "https://localhost:8080/",
          "height": 34
        },
        "id": "uS4j6fZYpByn",
        "outputId": "d7a6be69-64a5-42c6-d939-c20f2e059bcd"
      },
      "outputs": [
        {
          "data": {
            "text/plain": [
              "20.0"
            ]
          },
          "execution_count": 10,
          "metadata": {},
          "output_type": "execute_result"
        }
      ],
      "source": [
        "piratas[\"Nami\"]"
      ]
    },
    {
      "cell_type": "code",
      "execution_count": 11,
      "metadata": {
        "colab": {
          "base_uri": "https://localhost:8080/",
          "height": 34
        },
        "id": "4HBJVAuEodmI",
        "outputId": "f3afe8c9-ecbf-4250-cbe5-a0e2161c04fc"
      },
      "outputs": [
        {
          "data": {
            "text/plain": [
              "dict_values([19.0, 21.0, 20.0])"
            ]
          },
          "execution_count": 11,
          "metadata": {},
          "output_type": "execute_result"
        }
      ],
      "source": [
        "piratas.values()"
      ]
    },
    {
      "cell_type": "code",
      "execution_count": 12,
      "metadata": {
        "colab": {
          "base_uri": "https://localhost:8080/",
          "height": 34
        },
        "id": "WqpxxH5GpUgW",
        "outputId": "0a9c5750-508a-41f7-f408-71efcfde26b8"
      },
      "outputs": [
        {
          "name": "stdout",
          "output_type": "stream",
          "text": [
            "Média:  20.0\n"
          ]
        }
      ],
      "source": [
        "soma = 0\n",
        "for idade in piratas.values():\n",
        "    # print(nota)\n",
        "    soma += idade\n",
        "print(\"Média: \", soma / 3)"
      ]
    },
    {
      "cell_type": "markdown",
      "metadata": {
        "id": "9CJi3c3zprrp"
      },
      "source": [
        "# Exercício 3: Matriz\n",
        "\n",
        "Dada a matriz abaixo, construa uma estrutura de repetição para percorrer e somar todos os elementos da matriz"
      ]
    },
    {
      "cell_type": "code",
      "execution_count": null,
      "metadata": {
        "colab": {
          "base_uri": "https://localhost:8080/",
          "height": 50
        },
        "id": "-NkeiH0Ap0zT",
        "outputId": "8a2c5773-a0f6-4be4-b216-f518476207f9"
      },
      "outputs": [
        {
          "data": {
            "text/plain": [
              "array([[3, 4, 1],\n",
              "       [3, 1, 5]])"
            ]
          },
          "execution_count": 16,
          "metadata": {
            "tags": []
          },
          "output_type": "execute_result"
        }
      ],
      "source": [
        "matriz = np.array([[3, 4, 1], [3, 1, 5]])\n",
        "matriz"
      ]
    },
    {
      "cell_type": "code",
      "execution_count": null,
      "metadata": {
        "colab": {
          "base_uri": "https://localhost:8080/",
          "height": 34
        },
        "id": "clrFxS5tqCb-",
        "outputId": "2bb8c522-4999-4150-8b55-d8a014988471"
      },
      "outputs": [
        {
          "data": {
            "text/plain": [
              "(2, 3)"
            ]
          },
          "execution_count": 17,
          "metadata": {
            "tags": []
          },
          "output_type": "execute_result"
        }
      ],
      "source": [
        "matriz.shape"
      ]
    },
    {
      "cell_type": "code",
      "execution_count": null,
      "metadata": {
        "colab": {
          "base_uri": "https://localhost:8080/",
          "height": 34
        },
        "id": "DGlq3rtvp9Km",
        "outputId": "58c425b6-9ee0-4754-89e1-f1a867f931f6"
      },
      "outputs": [
        {
          "name": "stdout",
          "output_type": "stream",
          "text": [
            "Soma:  17\n"
          ]
        }
      ],
      "source": [
        "soma = 0\n",
        "for i in range(matriz.shape[0]):\n",
        "    for j in range(matriz.shape[1]):\n",
        "        # print(matriz[i][j])\n",
        "        soma += matriz[i][j]\n",
        "print(\"Soma: \", soma)"
      ]
    }
  ],
  "metadata": {
    "colab": {
      "provenance": []
    },
    "kernelspec": {
      "display_name": "Python 3",
      "name": "python3"
    },
    "language_info": {
      "codemirror_mode": {
        "name": "ipython",
        "version": 3
      },
      "file_extension": ".py",
      "mimetype": "text/x-python",
      "name": "python",
      "nbconvert_exporter": "python",
      "pygments_lexer": "ipython3",
      "version": "3.12.2"
    }
  },
  "nbformat": 4,
  "nbformat_minor": 0
}
