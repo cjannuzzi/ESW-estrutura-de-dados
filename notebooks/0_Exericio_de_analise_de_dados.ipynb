{
 "cells": [
  {
   "cell_type": "markdown",
   "metadata": {},
   "source": [
    "# Exercício de Análise de Dados com vetores\n",
    "\n",
    "Dividiremos em 3 passos, sendo:\n",
    "\n",
    "1. Coleta de Dados:\n",
    "\n",
    "Criem um vetor para armazenar um conjunto de dados. Este pode ser, por exemplo, uma lista de idades ou qualquer outro conjunto de dados numéricos simples.\n",
    "O vetor deve ser preenchido com dados fornecidos pelo usuário, gerados aleatoriamente dentro de um intervalo definido, ou diretamente no código, conforme a preferência.\n",
    "\n",
    "2. Processamento de Dados:\n",
    "\n",
    "Implementar funções ou procedimentos para realizar as seguintes operações no vetor de dados:\n",
    "\n",
    "* Calcular a média: calcular a média dos valores armazenados no vetor.<br>\n",
    "* Encontrar o valor máximo e mínimo: identificar os valores máximo e mínimo dentro do vetor.<br>\n",
    "* Contar elementos dentro de um intervalo: contar quantos elementos estão dentro de um intervalo específico definido pelo usuário (por exemplo, quantas idades estão entre 18 e 25 anos).\n",
    "\n",
    "3. Relatório dos Resultados:\n",
    "\n",
    "Após realizar as operações acima, os alunos devem imprimir um relatório simples que mostre os resultados de cada operação (média, valor máximo e mínimo, e contagem de elementos dentro de um intervalo)."
   ]
  },
  {
   "cell_type": "code",
   "execution_count": 1,
   "metadata": {},
   "outputs": [
    {
     "name": "stdout",
     "output_type": "stream",
     "text": [
      "Média: 22.92\n",
      "Valor máximo: 30\n",
      "Valor mínimo: 17\n",
      "Elementos entre 18 e 25 anos: 8\n",
      "Dados ordenados: [17, 18, 19, 20, 21, 22, 23, 24, 25, 27, 29, 30]\n"
     ]
    }
   ],
   "source": [
    "# 1. Criação do vetor com dados\n",
    "dados = [20, 25, 22, 19, 30, 18, 24, 27, 21, 23, 29, 17]\n",
    "\n",
    "\n",
    "# 2. Cálculo da média\n",
    "def calcular_media(vetor):\n",
    "    return sum(vetor) / len(vetor)\n",
    "\n",
    "\n",
    "media = calcular_media(dados)\n",
    "print(f\"Média: {media:.2f}\")\n",
    "\n",
    "\n",
    "# 3. Encontrar valor máximo e mínimo\n",
    "def encontrar_maximo(vetor):\n",
    "    return max(vetor)\n",
    "\n",
    "\n",
    "def encontrar_minimo(vetor):\n",
    "    return min(vetor)\n",
    "\n",
    "\n",
    "maximo = encontrar_maximo(dados)\n",
    "minimo = encontrar_minimo(dados)\n",
    "print(f\"Valor máximo: {maximo}\")\n",
    "print(f\"Valor mínimo: {minimo}\")\n",
    "\n",
    "\n",
    "# 4. Contar elementos dentro de um intervalo\n",
    "def contar_elementos_intervalo(vetor, inicio, fim):\n",
    "    contagem = 0\n",
    "    for valor in vetor:\n",
    "        if inicio <= valor <= fim:\n",
    "            contagem += 1\n",
    "    return contagem\n",
    "\n",
    "\n",
    "contagem_intervalo = contar_elementos_intervalo(dados, 18, 25)\n",
    "print(f\"Elementos entre 18 e 25 anos: {contagem_intervalo}\")\n",
    "\n",
    "\n",
    "# Desafio Opcional: Ordenação do vetor (Bubble Sort)\n",
    "def bubble_sort(vetor):\n",
    "    n = len(vetor)\n",
    "    for i in range(n):\n",
    "        for j in range(0, n - i - 1):\n",
    "            if vetor[j] > vetor[j + 1]:\n",
    "                vetor[j], vetor[j + 1] = vetor[j + 1], vetor[j]\n",
    "    return vetor\n",
    "\n",
    "\n",
    "dados_ordenados = bubble_sort(dados.copy())  # .copy() para não alterar o vetor original\n",
    "print(\"Dados ordenados:\", dados_ordenados)\n"
   ]
  },
  {
   "cell_type": "markdown",
   "metadata": {},
   "source": [
    "## Explicação do Código\n",
    "* Criação do Vetor: Inicializa um vetor dados com uma série de valores numéricos.\n",
    "* Cálculo da Média: A função calcular_media calcula a média dos valores no vetor.\n",
    "* Encontrar Máximo e Mínimo: As funções encontrar_maximo e encontrar_minimo utilizam as funções embutidas max e min de Python para encontrar os valores máximo e mínimo no vetor.\n",
    "* Contagem em Intervalo: contar_elementos_intervalo conta quantos elementos estão dentro de um determinado intervalo.\n",
    "* Ordenação (Bubble Sort): A função bubble_sort implementa o algoritmo Bubble Sort para ordenar os elementos do vetor em ordem crescente.<br>\n",
    "\n",
    "Este código proporciona uma base para que vocês explorem e entendam a manipulação básica de vetores, a importância de algoritmos de ordenação e conceitos fundamentais de análise de dados."
   ]
  }
 ],
 "metadata": {
  "kernelspec": {
   "display_name": "Python 3",
   "language": "python",
   "name": "python3"
  },
  "language_info": {
   "codemirror_mode": {
    "name": "ipython",
    "version": 3
   },
   "file_extension": ".py",
   "mimetype": "text/x-python",
   "name": "python",
   "nbconvert_exporter": "python",
   "pygments_lexer": "ipython3",
   "version": "3.12.1"
  }
 },
 "nbformat": 4,
 "nbformat_minor": 2
}
