{
  "cells": [
    {
      "cell_type": "markdown",
      "metadata": {
        "id": "--0h-g8oKeoy"
      },
      "source": [
        "# Coleções"
      ]
    },
    {
      "cell_type": "markdown",
      "metadata": {
        "id": "SeYvjhqqKg_c"
      },
      "source": [
        "## Tuplas"
      ]
    },
    {
      "cell_type": "code",
      "execution_count": 19,
      "metadata": {
        "id": "3-eVcVkon0cf"
      },
      "outputs": [],
      "source": [
        "tupla = (\"Yuji Itadori\", \"Megumi Fushiguro\", \"Nobara Kugisaki\")  # Define uma tupla com três elementos\n"
      ]
    },
    {
      "cell_type": "code",
      "execution_count": 20,
      "metadata": {
        "colab": {
          "base_uri": "https://localhost:8080/",
          "height": 34
        },
        "id": "MFQxX8UeoCM8",
        "outputId": "16b4d5fa-91cd-4f43-f85f-370ac3c51ec8"
      },
      "outputs": [
        {
          "data": {
            "text/plain": [
              "('Yuji Itadori', 'Megumi Fushiguro', 'Nobara Kugisaki')"
            ]
          },
          "execution_count": 20,
          "metadata": {},
          "output_type": "execute_result"
        }
      ],
      "source": [
        "tupla  # Exibe a tupla\n"
      ]
    },
    {
      "cell_type": "code",
      "execution_count": 21,
      "metadata": {
        "colab": {
          "base_uri": "https://localhost:8080/",
          "height": 35
        },
        "id": "EzVM_YO-oD4b",
        "outputId": "28ef4fa0-569d-4e31-82a6-1db2a6cff399"
      },
      "outputs": [
        {
          "data": {
            "text/plain": [
              "'Yuji Itadori'"
            ]
          },
          "execution_count": 21,
          "metadata": {},
          "output_type": "execute_result"
        }
      ],
      "source": [
        "tupla[0]  # Acessa o primeiro elemento da tupla"
      ]
    },
    {
      "cell_type": "code",
      "execution_count": 22,
      "metadata": {},
      "outputs": [
        {
          "data": {
            "text/plain": [
              "'Megumi Fushiguro'"
            ]
          },
          "execution_count": 22,
          "metadata": {},
          "output_type": "execute_result"
        }
      ],
      "source": [
        "tupla[1]  # Acessa o segundo elemento da tupla\n"
      ]
    },
    {
      "cell_type": "code",
      "execution_count": 23,
      "metadata": {},
      "outputs": [
        {
          "data": {
            "text/plain": [
              "'Nobara Kugisaki'"
            ]
          },
          "execution_count": 23,
          "metadata": {},
          "output_type": "execute_result"
        }
      ],
      "source": [
        "tupla[2]  # Acessa o terceiro elemento da tupla\n"
      ]
    },
    {
      "cell_type": "code",
      "execution_count": 24,
      "metadata": {
        "colab": {
          "base_uri": "https://localhost:8080/",
          "height": 34
        },
        "id": "Ppce8AdNoTK4",
        "outputId": "2d986126-50b1-4997-9ea6-d042130054f5"
      },
      "outputs": [
        {
          "data": {
            "text/plain": [
              "1"
            ]
          },
          "execution_count": 24,
          "metadata": {},
          "output_type": "execute_result"
        }
      ],
      "source": [
        "tupla.index(\"Megumi Fushiguro\")  # Retorna o índice do elemento \"Megumi Fushiguro\" na tupla\n"
      ]
    },
    {
      "cell_type": "code",
      "execution_count": 25,
      "metadata": {
        "colab": {
          "base_uri": "https://localhost:8080/",
          "height": 67
        },
        "id": "6d9gkoZyoZ-P",
        "outputId": "7e10d1e8-f232-4545-f73a-de9b4299b431"
      },
      "outputs": [
        {
          "name": "stdout",
          "output_type": "stream",
          "text": [
            "Yuji Itadori\n",
            "Megumi Fushiguro\n",
            "Nobara Kugisaki\n"
          ]
        }
      ],
      "source": [
        "for elemento in tupla:  # Itera sobre cada elemento da tupla\n",
        "    print(elemento)  # Imprime o elemento atual da iteração\n"
      ]
    },
    {
      "cell_type": "markdown",
      "metadata": {
        "id": "N7zPJp9PK5lw"
      },
      "source": [
        "## Listas"
      ]
    },
    {
      "cell_type": "code",
      "execution_count": 26,
      "metadata": {
        "id": "5ytZczB2ommH"
      },
      "outputs": [],
      "source": [
        "l1 = [\"Satoru Gojo\", \"Suguru Geto\", \"Shoko Ieiri\"]  # Define uma lista com três elementos\n",
        "l2 = [\"Maki Zenin\", \"Toge Inumaki\", \"Panda\"]  # Define outra lista com três elementos\n"
      ]
    },
    {
      "cell_type": "code",
      "execution_count": 27,
      "metadata": {
        "colab": {
          "base_uri": "https://localhost:8080/",
          "height": 34
        },
        "id": "19OHKWNIo2jN",
        "outputId": "216b883c-2d5d-4c42-ad8c-cb9281cd1b66"
      },
      "outputs": [
        {
          "name": "stdout",
          "output_type": "stream",
          "text": [
            "['Satoru Gojo', 'Suguru Geto', 'Shoko Ieiri', 'Maki Zenin', 'Toge Inumaki', 'Panda']\n"
          ]
        }
      ],
      "source": [
        "l3 = l1 + l2  # Concatena as duas listas\n",
        "print(l3)  # Imprime a lista concatenada\n"
      ]
    },
    {
      "cell_type": "code",
      "execution_count": 28,
      "metadata": {
        "colab": {
          "base_uri": "https://localhost:8080/",
          "height": 34
        },
        "id": "v4WmPWV6o-hz",
        "outputId": "a0c1a675-d0ba-498d-eee0-83d9bf2a4c0e"
      },
      "outputs": [
        {
          "data": {
            "text/plain": [
              "['Maki Zenin', 'Toge Inumaki', 'Panda']"
            ]
          },
          "execution_count": 28,
          "metadata": {},
          "output_type": "execute_result"
        }
      ],
      "source": [
        "l2  # Exibe a lista l2"
      ]
    },
    {
      "cell_type": "code",
      "execution_count": 29,
      "metadata": {
        "colab": {
          "base_uri": "https://localhost:8080/",
          "height": 34
        },
        "id": "SZR7YfLgpAua",
        "outputId": "b9b23014-e4a9-4de6-93af-b47f2e3bd309"
      },
      "outputs": [
        {
          "name": "stdout",
          "output_type": "stream",
          "text": [
            "['Maki Zenin', 'Toge Inumaki', 'Panda', 'Maki Zenin', 'Toge Inumaki', 'Panda']\n"
          ]
        }
      ],
      "source": [
        "l2_2 = l2 * 2  # Repete os elementos da lista l2 duas vezes\n",
        "print(l2_2)  # Imprime a lista repetida\n"
      ]
    },
    {
      "cell_type": "code",
      "execution_count": 30,
      "metadata": {
        "colab": {
          "base_uri": "https://localhost:8080/",
          "height": 35
        },
        "id": "QZtjvcbQpNm3",
        "outputId": "9626576f-e4bd-4a06-bd48-74eb8d23954a"
      },
      "outputs": [
        {
          "data": {
            "text/plain": [
              "'Satoru Gojo'"
            ]
          },
          "execution_count": 30,
          "metadata": {},
          "output_type": "execute_result"
        }
      ],
      "source": [
        "l1[0]  # Acessa o primeiro elemento da lista l1"
      ]
    },
    {
      "cell_type": "code",
      "execution_count": 31,
      "metadata": {
        "colab": {
          "base_uri": "https://localhost:8080/",
          "height": 34
        },
        "id": "0lx0MiBmpQYQ",
        "outputId": "ae369cec-95fe-42a8-ee8f-12b2f575a83f"
      },
      "outputs": [
        {
          "data": {
            "text/plain": [
              "['Satoru Gojo', 'Suguru Geto', 'Shoko Ieiri']"
            ]
          },
          "execution_count": 31,
          "metadata": {},
          "output_type": "execute_result"
        }
      ],
      "source": [
        "l1  # Exibe a lista l1"
      ]
    },
    {
      "cell_type": "code",
      "execution_count": 32,
      "metadata": {
        "colab": {
          "base_uri": "https://localhost:8080/",
          "height": 34
        },
        "id": "IyfdEzispSFx",
        "outputId": "82f5168a-0160-4963-cf24-230d3163e51f"
      },
      "outputs": [
        {
          "data": {
            "text/plain": [
              "['Satoru Gojo', 'Suguru Geto']"
            ]
          },
          "execution_count": 32,
          "metadata": {},
          "output_type": "execute_result"
        }
      ],
      "source": [
        "l1[0:2]  # Acessa os dois primeiros elementos da lista l1"
      ]
    },
    {
      "cell_type": "code",
      "execution_count": 33,
      "metadata": {
        "colab": {
          "base_uri": "https://localhost:8080/",
          "height": 34
        },
        "id": "3WUtBPinpaet",
        "outputId": "8fe313bb-1f84-4268-eb8b-da65ff14e3bb"
      },
      "outputs": [
        {
          "name": "stdout",
          "output_type": "stream",
          "text": [
            "['Satoru Gojo', 'Suguru Geto', 'Shoko Ieiri', 'Toji Fushiguro']\n"
          ]
        }
      ],
      "source": [
        "l1.append(\"Toji Fushiguro\")  # Adiciona um novo elemento ao final da lista l1\n",
        "print(l1)  # Imprime a lista l1 após a adição\n"
      ]
    },
    {
      "cell_type": "code",
      "execution_count": 34,
      "metadata": {
        "colab": {
          "base_uri": "https://localhost:8080/",
          "height": 34
        },
        "id": "6ogEdtAupg8U",
        "outputId": "bf9d20b9-1b0c-422e-c7b8-402594ab5929"
      },
      "outputs": [
        {
          "name": "stdout",
          "output_type": "stream",
          "text": [
            "['Satoru Gojo', 'Suguru Geto', 'Toji Fushiguro']\n"
          ]
        }
      ],
      "source": [
        "l1.remove(\"Shoko Ieiri\")  # Remove o elemento \"Shoko Ieiri\" da lista l1\n",
        "print(l1)  # Imprime a lista l1 após a remoção\n"
      ]
    },
    {
      "cell_type": "code",
      "execution_count": 35,
      "metadata": {
        "id": "CaO3BVMzpoi9"
      },
      "outputs": [],
      "source": [
        "del l1  # Deleta a lista l1"
      ]
    },
    {
      "cell_type": "code",
      "execution_count": 36,
      "metadata": {
        "colab": {
          "base_uri": "https://localhost:8080/",
          "height": 162
        },
        "id": "aCi7FLacpqzS",
        "outputId": "051fe5e6-156f-4d4c-db72-8d0b76871a12"
      },
      "outputs": [
        {
          "ename": "NameError",
          "evalue": "name 'l1' is not defined",
          "output_type": "error",
          "traceback": [
            "\u001b[1;31m---------------------------------------------------------------------------\u001b[0m",
            "\u001b[1;31mNameError\u001b[0m                                 Traceback (most recent call last)",
            "Cell \u001b[1;32mIn[36], line 1\u001b[0m\n\u001b[1;32m----> 1\u001b[0m \u001b[38;5;28mprint\u001b[39m(\u001b[43ml1\u001b[49m)  \u001b[38;5;66;03m# Tenta imprimir a lista l1 (isso causará um erro porque a lista foi deletada)\u001b[39;00m\n",
            "\u001b[1;31mNameError\u001b[0m: name 'l1' is not defined"
          ]
        }
      ],
      "source": [
        "print(l1)  # Tenta imprimir a lista l1 (isso causará um erro porque a lista foi deletada)\n"
      ]
    },
    {
      "cell_type": "code",
      "execution_count": null,
      "metadata": {
        "colab": {
          "base_uri": "https://localhost:8080/",
          "height": 84
        },
        "id": "6GqeZMgVpt3A",
        "outputId": "ca482bc5-2aa6-43d8-83d3-19f3c8ad3c5e"
      },
      "outputs": [
        {
          "name": "stdout",
          "output_type": "stream",
          "text": [
            "Maki Zenin\n",
            "Toge Inumaki\n",
            "Panda\n",
            "Maki Zenin\n",
            "Toge Inumaki\n",
            "Panda\n"
          ]
        }
      ],
      "source": [
        "for item in l2_2:  # Itera sobre cada elemento da lista l2_2\n",
        "    print(item)  # Imprime o elemento atual da iteração"
      ]
    },
    {
      "cell_type": "markdown",
      "metadata": {
        "id": "Spv86wNVLwTr"
      },
      "source": [
        "## Dicionários"
      ]
    },
    {
      "cell_type": "code",
      "execution_count": null,
      "metadata": {
        "id": "Q4A9zcJQqOLl"
      },
      "outputs": [],
      "source": [
        "rank_forca = {\"Ryomen Sukuna\": 35, \"Satoru Gojo\": 32, \"Mahito\": 14}  # Define um dicionário com três pares chave-valor\n"
      ]
    },
    {
      "cell_type": "code",
      "execution_count": null,
      "metadata": {
        "colab": {
          "base_uri": "https://localhost:8080/",
          "height": 34
        },
        "id": "H0TG_BU-qqYB",
        "outputId": "41f2d2c0-6ffe-4bc8-ba90-c48a7418779c"
      },
      "outputs": [
        {
          "data": {
            "text/plain": [
              "14"
            ]
          },
          "execution_count": 84,
          "metadata": {},
          "output_type": "execute_result"
        }
      ],
      "source": [
        "rank_forca[\"Mahito\"]  # Acessa o valor associado à chave \"Mahito\"\n"
      ]
    },
    {
      "cell_type": "code",
      "execution_count": null,
      "metadata": {
        "id": "G0Ik3zllq03-"
      },
      "outputs": [],
      "source": [
        "rank_forca[\"Mahoraga\"] = 25  # Adiciona um novo par chave-valor ao dicionário\n"
      ]
    },
    {
      "cell_type": "code",
      "execution_count": null,
      "metadata": {
        "colab": {
          "base_uri": "https://localhost:8080/",
          "height": 34
        },
        "id": "LShnTPgOrBIP",
        "outputId": "16e0424e-2431-4611-8dcc-e1db314b00c2"
      },
      "outputs": [
        {
          "name": "stdout",
          "output_type": "stream",
          "text": [
            "{'Ryomen Sukuna': 35, 'Satoru Gojo': 32, 'Mahito': 14, 'Mahoraga': 25}\n"
          ]
        }
      ],
      "source": [
        "print(rank_forca)  # Imprime o dicionário"
      ]
    },
    {
      "cell_type": "code",
      "execution_count": null,
      "metadata": {
        "colab": {
          "base_uri": "https://localhost:8080/",
          "height": 34
        },
        "id": "3zyhSKk4rFxe",
        "outputId": "06de2c7a-567d-43ea-c1f4-5c201c50634e"
      },
      "outputs": [
        {
          "name": "stdout",
          "output_type": "stream",
          "text": [
            "{'Ryomen Sukuna': 35, 'Satoru Gojo': 32, 'Mahoraga': 25}\n"
          ]
        }
      ],
      "source": [
        "del rank_forca[\"Mahito\"]  # Remove o par chave-valor com a chave \"Mahito\" do dicionário\n",
        "print(rank_forca)  # Imprime o dicionário após a remoção\n"
      ]
    },
    {
      "cell_type": "code",
      "execution_count": null,
      "metadata": {
        "colab": {
          "base_uri": "https://localhost:8080/",
          "height": 34
        },
        "id": "aQf7FunQrPBl",
        "outputId": "6aafb2c9-56c3-4116-d779-5adb0325eb8a"
      },
      "outputs": [
        {
          "data": {
            "text/plain": [
              "dict_items([('Ryomen Sukuna', 35), ('Satoru Gojo', 32), ('Mahoraga', 25)])"
            ]
          },
          "execution_count": 88,
          "metadata": {},
          "output_type": "execute_result"
        }
      ],
      "source": [
        "rank_forca.items()  # Retorna uma visão dos pares chave-valor do dicionário\n"
      ]
    },
    {
      "cell_type": "code",
      "execution_count": null,
      "metadata": {
        "colab": {
          "base_uri": "https://localhost:8080/",
          "height": 34
        },
        "id": "rBbmf65jrVf6",
        "outputId": "88896c3b-f24d-4250-b9fd-91fd08f27e15"
      },
      "outputs": [
        {
          "data": {
            "text/plain": [
              "dict_keys(['Ryomen Sukuna', 'Satoru Gojo', 'Mahoraga'])"
            ]
          },
          "execution_count": 89,
          "metadata": {},
          "output_type": "execute_result"
        }
      ],
      "source": [
        "rank_forca.keys()  # Retorna uma visão das chaves do dicionário\n"
      ]
    },
    {
      "cell_type": "code",
      "execution_count": null,
      "metadata": {
        "colab": {
          "base_uri": "https://localhost:8080/",
          "height": 34
        },
        "id": "49PWs_oJrbHg",
        "outputId": "b678f2b9-19d0-403d-ff1f-fce1441b813e"
      },
      "outputs": [
        {
          "data": {
            "text/plain": [
              "dict_values([35, 32, 25])"
            ]
          },
          "execution_count": 90,
          "metadata": {},
          "output_type": "execute_result"
        }
      ],
      "source": [
        "rank_forca.values()  # Retorna uma visão dos valores do dicionário\n"
      ]
    },
    {
      "cell_type": "code",
      "execution_count": null,
      "metadata": {
        "colab": {
          "base_uri": "https://localhost:8080/",
          "height": 34
        },
        "id": "1XQe0WHGrgoC",
        "outputId": "0a26b1e4-b8dc-40f3-b855-b12628221811"
      },
      "outputs": [
        {
          "name": "stdout",
          "output_type": "stream",
          "text": [
            "{'Yuta Okkotsu': 30, 'Kento Nanami': 13}\n"
          ]
        }
      ],
      "source": [
        "rank_forca2 = {\"Yuta Okkotsu\": 30, \"Kento Nanami\": 13}  # Define outro dicionário com dois pares chave-valor\n",
        "print(rank_forca2)  # Imprime o segundo dicionário\n"
      ]
    },
    {
      "cell_type": "code",
      "execution_count": null,
      "metadata": {
        "colab": {
          "base_uri": "https://localhost:8080/",
          "height": 54
        },
        "id": "ZH7Mfel7ruCP",
        "outputId": "8570e943-04ef-4192-f5e0-bd852e5413c2"
      },
      "outputs": [
        {
          "name": "stdout",
          "output_type": "stream",
          "text": [
            "{'Ryomen Sukuna': 35, 'Satoru Gojo': 32, 'Mahoraga': 25, 'Yuta Okkotsu': 30, 'Kento Nanami': 13}\n"
          ]
        }
      ],
      "source": [
        "rank_forca.update(rank_forca2)  # Atualiza o primeiro dicionário com os pares chave-valor do segundo dicionário\n",
        "print(rank_forca)  # Imprime o dicionário atualizado\n"
      ]
    },
    {
      "cell_type": "code",
      "execution_count": null,
      "metadata": {
        "colab": {
          "base_uri": "https://localhost:8080/",
          "height": 54
        },
        "id": "oeJdD_--r1sc",
        "outputId": "2d835706-7877-4c2f-bf7c-85dff6258f01"
      },
      "outputs": [
        {
          "data": {
            "text/plain": [
              "dict_items([('Ryomen Sukuna', 35), ('Satoru Gojo', 32), ('Mahoraga', 25), ('Yuta Okkotsu', 30), ('Kento Nanami', 13)])"
            ]
          },
          "execution_count": 93,
          "metadata": {},
          "output_type": "execute_result"
        }
      ],
      "source": [
        "rank_forca.items()  # Retorna uma visão dos pares chave-valor do dicionário atualizado\n"
      ]
    },
    {
      "cell_type": "code",
      "execution_count": null,
      "metadata": {
        "colab": {
          "base_uri": "https://localhost:8080/",
          "height": 101
        },
        "id": "JheAqSC7r5YB",
        "outputId": "3044bb1d-7ca3-4270-e4ed-c3ae071f9d70"
      },
      "outputs": [
        {
          "name": "stdout",
          "output_type": "stream",
          "text": [
            "O Ryomen Sukuna, tem seu nível de força definido em: 35\n",
            "O Satoru Gojo, tem seu nível de força definido em: 32\n",
            "O Mahoraga, tem seu nível de força definido em: 25\n",
            "O Yuta Okkotsu, tem seu nível de força definido em: 30\n",
            "O Kento Nanami, tem seu nível de força definido em: 13\n"
          ]
        }
      ],
      "source": [
        "for personagem, forca in rank_forca.items():  # Itera sobre os pares chave-valor do dicionário\n",
        "    print(f\"O {personagem}, tem seu nível de força definido em: {forca}\")  # Imprime a chave e o valor formatados\n",
        "\n"
      ]
    },
    {
      "cell_type": "markdown",
      "metadata": {
        "id": "u-3CMPGCMN_C"
      },
      "source": [
        "## Conjuntos (set)"
      ]
    },
    {
      "cell_type": "code",
      "execution_count": null,
      "metadata": {
        "id": "-g-6mwxHsW2L"
      },
      "outputs": [],
      "source": [
        "bolo_supresa = (  # Define uma tupla com ingredientes, incluindo elementos repetidos\n",
        "    \"farinha\",\n",
        "    \"água\",\n",
        "    \"pitada de sal\",\n",
        "    \"ovo\",\n",
        "    \"pitada de sal\",\n",
        "    \"ovo\",\n",
        "    \"ovo\",\n",
        "    \"baunilha\",\n",
        "    \"manteiga\",\n",
        ")\n"
      ]
    },
    {
      "cell_type": "code",
      "execution_count": null,
      "metadata": {
        "colab": {
          "base_uri": "https://localhost:8080/",
          "height": 54
        },
        "id": "GawdhDILsuDp",
        "outputId": "18cd5972-0559-40d0-c04c-5eecb829ee5d"
      },
      "outputs": [
        {
          "name": "stdout",
          "output_type": "stream",
          "text": [
            "('farinha', 'água', 'pitada de sal', 'ovo', 'pitada de sal', 'ovo', 'ovo', 'baunilha', 'manteiga')\n"
          ]
        }
      ],
      "source": [
        "print(bolo_supresa)  # Imprime a tupla de ingredientes\n"
      ]
    },
    {
      "cell_type": "code",
      "execution_count": null,
      "metadata": {
        "colab": {
          "base_uri": "https://localhost:8080/",
          "height": 34
        },
        "id": "wU8POR0WsxEK",
        "outputId": "f1c28257-86ae-41de-ebe9-61541452d815"
      },
      "outputs": [
        {
          "name": "stdout",
          "output_type": "stream",
          "text": [
            "{'ovo', 'manteiga', 'água', 'baunilha', 'farinha', 'pitada de sal'}\n"
          ]
        }
      ],
      "source": [
        "print(set(bolo_supresa))  # Converte a tupla em um conjunto (set) e imprime, removendo elementos duplicados\n"
      ]
    },
    {
      "cell_type": "code",
      "execution_count": null,
      "metadata": {
        "id": "ap6l5QldtB1l"
      },
      "outputs": [],
      "source": [
        "c1 = {1, 2, 3, 4, 5}  # Define um conjunto com cinco elementos\n",
        "c2 = {3, 4, 5, 6, 7}  # Define outro conjunto com cinco elementos\n",
        "c3 = c1.intersection(c2)  # Calcula a interseção dos dois conjuntos\n"
      ]
    },
    {
      "cell_type": "code",
      "execution_count": null,
      "metadata": {
        "colab": {
          "base_uri": "https://localhost:8080/",
          "height": 34
        },
        "id": "JT7ip_ZntTHv",
        "outputId": "01921c12-8a6a-41d8-cdfe-d6bd2ac78e52"
      },
      "outputs": [
        {
          "name": "stdout",
          "output_type": "stream",
          "text": [
            "{3, 4, 5}\n"
          ]
        }
      ],
      "source": [
        "print(c3)  # Imprime a interseção dos conjuntos\n"
      ]
    },
    {
      "cell_type": "code",
      "execution_count": null,
      "metadata": {
        "colab": {
          "base_uri": "https://localhost:8080/",
          "height": 34
        },
        "id": "eOycG2G9tdR9",
        "outputId": "d7348c0a-a0f3-4625-c351-7ea6cc692cf2"
      },
      "outputs": [
        {
          "data": {
            "text/plain": [
              "{1, 2}"
            ]
          },
          "execution_count": 6,
          "metadata": {},
          "output_type": "execute_result"
        }
      ],
      "source": [
        "c1.difference(c2)  # Calcula a diferença entre c1 e c2\n"
      ]
    },
    {
      "cell_type": "code",
      "execution_count": null,
      "metadata": {
        "colab": {
          "base_uri": "https://localhost:8080/",
          "height": 34
        },
        "id": "inpYEBhHtl51",
        "outputId": "fc59117c-162a-4395-d013-ceb92d630051"
      },
      "outputs": [
        {
          "data": {
            "text/plain": [
              "{6, 7}"
            ]
          },
          "execution_count": 7,
          "metadata": {},
          "output_type": "execute_result"
        }
      ],
      "source": [
        "c2.difference(c1)  # Calcula a diferença entre c2 e c1"
      ]
    }
  ],
  "metadata": {
    "colab": {
      "provenance": []
    },
    "kernelspec": {
      "display_name": "Python 3",
      "name": "python3"
    },
    "language_info": {
      "codemirror_mode": {
        "name": "ipython",
        "version": 3
      },
      "file_extension": ".py",
      "mimetype": "text/x-python",
      "name": "python",
      "nbconvert_exporter": "python",
      "pygments_lexer": "ipython3",
      "version": "3.12.2"
    }
  },
  "nbformat": 4,
  "nbformat_minor": 0
}
