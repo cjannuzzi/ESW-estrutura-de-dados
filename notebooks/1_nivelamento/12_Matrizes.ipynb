{
  "cells": [
    {
      "cell_type": "markdown",
      "metadata": {
        "id": "--0h-g8oKeoy"
      },
      "source": [
        "# Matrizes"
      ]
    },
    {
      "cell_type": "code",
      "execution_count": 11,
      "metadata": {},
      "outputs": [],
      "source": [
        "# pip install numpy\n",
        "# descomente acima se for necessário caso a biblioteca numpy não estiver instalada.\n"
      ]
    },
    {
      "cell_type": "code",
      "execution_count": 12,
      "metadata": {
        "id": "Hy5AufWauB55"
      },
      "outputs": [],
      "source": [
        "import numpy as np  # Importa a biblioteca numpy e a renomeia como np\n"
      ]
    },
    {
      "cell_type": "code",
      "execution_count": 13,
      "metadata": {
        "id": "0tlTplKduULh"
      },
      "outputs": [],
      "source": [
        "matriz = np.array(\n",
        "    [[2, 3, 1], [4, 5, 7]]\n",
        ")  # Cria uma matriz (array) 2x3 usando numpy, com 2 linhas e 3 colunas\n"
      ]
    },
    {
      "cell_type": "code",
      "execution_count": 14,
      "metadata": {
        "colab": {
          "base_uri": "https://localhost:8080/",
          "height": 50
        },
        "id": "flw1UoaCusHR",
        "outputId": "f83ec2ef-cfbd-4ab9-f078-db3c29739755"
      },
      "outputs": [
        {
          "data": {
            "text/plain": [
              "array([[2, 3, 1],\n",
              "       [4, 5, 7]])"
            ]
          },
          "execution_count": 14,
          "metadata": {},
          "output_type": "execute_result"
        }
      ],
      "source": [
        "matriz  # Exibe a matriz. Interessante notar que os índices começam em 0.\n"
      ]
    },
    {
      "cell_type": "code",
      "execution_count": 15,
      "metadata": {
        "colab": {
          "base_uri": "https://localhost:8080/",
          "height": 34
        },
        "id": "U_c0vmbNuxj6",
        "outputId": "2024126f-ff8d-48a0-cb35-b89bb0b77602"
      },
      "outputs": [
        {
          "data": {
            "text/plain": [
              "(2, 3)"
            ]
          },
          "execution_count": 15,
          "metadata": {},
          "output_type": "execute_result"
        }
      ],
      "source": [
        "matriz.shape  # Retorna o formato da matriz, que no caso é: (linhas, colunas)\n"
      ]
    },
    {
      "cell_type": "code",
      "execution_count": 16,
      "metadata": {
        "colab": {
          "base_uri": "https://localhost:8080/",
          "height": 34
        },
        "id": "vcWENdxDu2I5",
        "outputId": "574a689e-8fd1-424e-a558-d31e1ad78c98"
      },
      "outputs": [
        {
          "data": {
            "text/plain": [
              "array([2, 3, 1])"
            ]
          },
          "execution_count": 16,
          "metadata": {},
          "output_type": "execute_result"
        }
      ],
      "source": [
        "matriz[\n",
        "    0\n",
        "]  # Acessa a matriz na posição zero, retornando a primeira linha (índice zero)\n"
      ]
    },
    {
      "cell_type": "code",
      "execution_count": 17,
      "metadata": {
        "colab": {
          "base_uri": "https://localhost:8080/",
          "height": 34
        },
        "id": "Q3BWpEMGu4v3",
        "outputId": "532ed626-f88b-4708-97b6-9157fb64b289"
      },
      "outputs": [
        {
          "data": {
            "text/plain": [
              "array([4, 5, 7])"
            ]
          },
          "execution_count": 17,
          "metadata": {},
          "output_type": "execute_result"
        }
      ],
      "source": [
        "matriz[1]  # Acessa a matriz na posição um, retornando a segunda linha (índice 1)\n"
      ]
    },
    {
      "cell_type": "code",
      "execution_count": 18,
      "metadata": {
        "colab": {
          "base_uri": "https://localhost:8080/",
          "height": 34
        },
        "id": "KBdLd_uJu7wQ",
        "outputId": "5a5b16c7-365b-46a1-9cde-40c471ba0688"
      },
      "outputs": [
        {
          "data": {
            "text/plain": [
              "np.int64(1)"
            ]
          },
          "execution_count": 18,
          "metadata": {},
          "output_type": "execute_result"
        }
      ],
      "source": [
        "matriz[0][\n",
        "    2\n",
        "]  # Para acessar as colunas, precisamos de 2 colchetes. O primeiro colchete indica a LINHA e o segundo colchete indica a COLUNA. Lembre-se de trabalhar com índices.\n"
      ]
    },
    {
      "cell_type": "code",
      "execution_count": 19,
      "metadata": {
        "colab": {
          "base_uri": "https://localhost:8080/",
          "height": 34
        },
        "id": "sE7sbVu5vG8z",
        "outputId": "9a70c2e1-5a1d-459e-f213-2356eea7afcb"
      },
      "outputs": [
        {
          "data": {
            "text/plain": [
              "np.int64(7)"
            ]
          },
          "execution_count": 19,
          "metadata": {},
          "output_type": "execute_result"
        }
      ],
      "source": [
        "matriz[1][2]  # Acessa o elemento na segunda linha e terceira coluna (índices 1 e 2)\n"
      ]
    },
    {
      "cell_type": "code",
      "execution_count": 20,
      "metadata": {
        "colab": {
          "base_uri": "https://localhost:8080/",
          "height": 151
        },
        "id": "OMlp09zavPiv",
        "outputId": "7c337d53-8bd8-496a-8332-438c09145f02"
      },
      "outputs": [
        {
          "name": "stdout",
          "output_type": "stream",
          "text": [
            "[2 3 1]\n",
            "2\n",
            "3\n",
            "1\n",
            "[4 5 7]\n",
            "4\n",
            "5\n",
            "7\n"
          ]
        }
      ],
      "source": [
        "for i in range(matriz.shape[0]):  # Itera sobre o número de linhas da matriz\n",
        "    print(matriz[i])  # Imprime a linha atual da iteração\n",
        "    for j in range(matriz.shape[1]):  # Itera sobre o número de colunas da matriz\n",
        "        print(matriz[i][j])  # Imprime o elemento atual da iteração"
      ]
    }
  ],
  "metadata": {
    "colab": {
      "provenance": []
    },
    "kernelspec": {
      "display_name": "Python 3",
      "name": "python3"
    },
    "language_info": {
      "codemirror_mode": {
        "name": "ipython",
        "version": 3
      },
      "file_extension": ".py",
      "mimetype": "text/x-python",
      "name": "python",
      "nbconvert_exporter": "python",
      "pygments_lexer": "ipython3",
      "version": "3.12.2"
    }
  },
  "nbformat": 4,
  "nbformat_minor": 0
}
