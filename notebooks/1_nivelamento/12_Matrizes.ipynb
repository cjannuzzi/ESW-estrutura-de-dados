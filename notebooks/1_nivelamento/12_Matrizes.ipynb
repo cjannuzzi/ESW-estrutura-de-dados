{
  "cells": [
    {
      "cell_type": "markdown",
      "metadata": {
        "id": "--0h-g8oKeoy"
      },
      "source": [
        "# Matrizes"
      ]
    },
    {
      "cell_type": "code",
      "execution_count": 2,
      "metadata": {},
      "outputs": [],
      "source": [
        "# pip install numpy\n",
        "# descomente acima se for necessário caso a biblioteca numpy não estiver instalada."
      ]
    },
    {
      "cell_type": "code",
      "execution_count": 3,
      "metadata": {
        "id": "Hy5AufWauB55"
      },
      "outputs": [],
      "source": [
        "import numpy as np"
      ]
    },
    {
      "cell_type": "code",
      "execution_count": 4,
      "metadata": {
        "id": "0tlTplKduULh"
      },
      "outputs": [],
      "source": [
        "matriz = np.array(\n",
        "    [[2, 3, 1], [4, 5, 7]]\n",
        ")  # array é como se fosse uma lista um pouco melhorada. Matriz (2x3) criada, 2 linhas e 3 colunas."
      ]
    },
    {
      "cell_type": "code",
      "execution_count": 5,
      "metadata": {
        "colab": {
          "base_uri": "https://localhost:8080/",
          "height": 50
        },
        "id": "flw1UoaCusHR",
        "outputId": "f83ec2ef-cfbd-4ab9-f078-db3c29739755"
      },
      "outputs": [
        {
          "data": {
            "text/plain": [
              "array([[2, 3, 1],\n",
              "       [4, 5, 7]])"
            ]
          },
          "execution_count": 5,
          "metadata": {},
          "output_type": "execute_result"
        }
      ],
      "source": [
        "matriz  # interessante falar que os indicies comecam em 0."
      ]
    },
    {
      "cell_type": "code",
      "execution_count": 6,
      "metadata": {
        "colab": {
          "base_uri": "https://localhost:8080/",
          "height": 34
        },
        "id": "U_c0vmbNuxj6",
        "outputId": "2024126f-ff8d-48a0-cb35-b89bb0b77602"
      },
      "outputs": [
        {
          "data": {
            "text/plain": [
              "(2, 3)"
            ]
          },
          "execution_count": 6,
          "metadata": {},
          "output_type": "execute_result"
        }
      ],
      "source": [
        "matriz.shape  # shape significa formato que no caso é: (linhas, colunas)"
      ]
    },
    {
      "cell_type": "code",
      "execution_count": 7,
      "metadata": {
        "colab": {
          "base_uri": "https://localhost:8080/",
          "height": 34
        },
        "id": "vcWENdxDu2I5",
        "outputId": "574a689e-8fd1-424e-a558-d31e1ad78c98"
      },
      "outputs": [
        {
          "data": {
            "text/plain": [
              "array([2, 3, 1])"
            ]
          },
          "execution_count": 7,
          "metadata": {},
          "output_type": "execute_result"
        }
      ],
      "source": [
        "matriz[\n",
        "    0\n",
        "]  # acessanando a matriz na posição zero... retornou a primeira linha (indice zero)"
      ]
    },
    {
      "cell_type": "code",
      "execution_count": 8,
      "metadata": {
        "colab": {
          "base_uri": "https://localhost:8080/",
          "height": 34
        },
        "id": "Q3BWpEMGu4v3",
        "outputId": "532ed626-f88b-4708-97b6-9157fb64b289"
      },
      "outputs": [
        {
          "data": {
            "text/plain": [
              "array([4, 5, 7])"
            ]
          },
          "execution_count": 8,
          "metadata": {},
          "output_type": "execute_result"
        }
      ],
      "source": [
        "matriz[1]  # acessanando a matriz na posição um... retornou a segunda linha (indice 1)"
      ]
    },
    {
      "cell_type": "code",
      "execution_count": 9,
      "metadata": {
        "colab": {
          "base_uri": "https://localhost:8080/",
          "height": 34
        },
        "id": "KBdLd_uJu7wQ",
        "outputId": "5a5b16c7-365b-46a1-9cde-40c471ba0688"
      },
      "outputs": [
        {
          "data": {
            "text/plain": [
              "1"
            ]
          },
          "execution_count": 9,
          "metadata": {},
          "output_type": "execute_result"
        }
      ],
      "source": [
        "matriz[0][\n",
        "    2\n",
        "]  # para termos o retorno das colunas, precisamos de 2 colchetes. Por exemplo... o primeiro colchetes indica LINHA e o segundo colchetes indica COLUNA. Lembrem-se de trabalhar com índices."
      ]
    },
    {
      "cell_type": "code",
      "execution_count": 10,
      "metadata": {
        "colab": {
          "base_uri": "https://localhost:8080/",
          "height": 34
        },
        "id": "sE7sbVu5vG8z",
        "outputId": "9a70c2e1-5a1d-459e-f213-2356eea7afcb"
      },
      "outputs": [
        {
          "data": {
            "text/plain": [
              "7"
            ]
          },
          "execution_count": 10,
          "metadata": {},
          "output_type": "execute_result"
        }
      ],
      "source": [
        "matriz[1][2]"
      ]
    },
    {
      "cell_type": "code",
      "execution_count": 13,
      "metadata": {
        "colab": {
          "base_uri": "https://localhost:8080/",
          "height": 151
        },
        "id": "OMlp09zavPiv",
        "outputId": "7c337d53-8bd8-496a-8332-438c09145f02"
      },
      "outputs": [
        {
          "name": "stdout",
          "output_type": "stream",
          "text": [
            "[2 3 1]\n",
            "2\n",
            "3\n",
            "1\n",
            "[4 5 7]\n",
            "4\n",
            "5\n",
            "7\n"
          ]
        }
      ],
      "source": [
        "for i in range(matriz.shape[0]):  # shape[0] retorna o número de linhas\n",
        "    print(matriz[i])\n",
        "    for j in range(matriz.shape[1]):  # shape[1] retorna o número de colunas\n",
        "        print(matriz[i][j])"
      ]
    }
  ],
  "metadata": {
    "colab": {
      "provenance": []
    },
    "kernelspec": {
      "display_name": "Python 3",
      "name": "python3"
    },
    "language_info": {
      "codemirror_mode": {
        "name": "ipython",
        "version": 3
      },
      "file_extension": ".py",
      "mimetype": "text/x-python",
      "name": "python",
      "nbconvert_exporter": "python",
      "pygments_lexer": "ipython3",
      "version": "3.12.2"
    }
  },
  "nbformat": 4,
  "nbformat_minor": 0
}
