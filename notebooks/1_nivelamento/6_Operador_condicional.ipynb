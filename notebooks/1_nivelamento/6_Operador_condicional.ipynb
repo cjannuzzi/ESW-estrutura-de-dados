{
  "cells": [
    {
      "cell_type": "markdown",
      "metadata": {
        "id": "pt5Crzm9dcS-"
      },
      "source": [
        "# Operador condicional"
      ]
    },
    {
      "cell_type": "code",
      "execution_count": 5,
      "metadata": {
        "colab": {
          "base_uri": "https://localhost:8080/",
          "height": 34
        },
        "id": "l0Ipmn5t9UZM",
        "outputId": "772d91dc-9337-4b13-bd77-1beac4f97035"
      },
      "outputs": [
        {
          "name": "stdout",
          "output_type": "stream",
          "text": [
            "5 é maior que 3\n"
          ]
        }
      ],
      "source": [
        "# Primeiro exemplo de operador condicional\n",
        "if 5 > 3:  # Verifica se 5 é maior que 3\n",
        "    print(\"5 é maior que 3\")  # Se a condição for verdadeira, imprime \"5 é maior que 3\""
      ]
    },
    {
      "cell_type": "code",
      "execution_count": null,
      "metadata": {
        "colab": {
          "base_uri": "https://localhost:8080/",
          "height": 34
        },
        "id": "-bnw5b_o-EXg",
        "outputId": "56a979d0-5970-4178-bd80-9229adee1d1f"
      },
      "outputs": [
        {
          "name": "stdout",
          "output_type": "stream",
          "text": [
            "5 é maior\n"
          ]
        }
      ],
      "source": [
        "# Segundo exemplo de operador condicional com else\n",
        "if 5 > 4:  # Verifica se 5 é maior que 4\n",
        "    print(\"5 é maior\")  # Se a condição for verdadeira, imprime \"5 é maior\"\n",
        "else:  # Caso contrário\n",
        "    print(\"5 não é maior\")  # Imprime \"5 não é maior\"\n"
      ]
    },
    {
      "cell_type": "code",
      "execution_count": null,
      "metadata": {},
      "outputs": [],
      "source": [
        "# Terceiro exemplo de operador condicional com múltiplas condições\n",
        "n = 9  # Atribui o valor 9 à variável n\n",
        "if n == 4:  # Verifica se n é igual a 4\n",
        "    print(\"n é igual a 4\")  # Se a condição for verdadeira, imprime \"n é igual a 4\"\n",
        "else:  # Caso contrário\n",
        "    if n == 3:  # Verifica se n é igual a 3\n",
        "        print(\"n é igual a 3\")  # Se a condição for verdadeira, imprime \"n é igual a 3\"\n",
        "    else:  # Caso contrário\n",
        "        print(\"n não é igual a 4 nem 3\")  # Imprime \"n não é igual a 4 nem 3\"\n"
      ]
    },
    {
      "cell_type": "code",
      "execution_count": null,
      "metadata": {
        "colab": {
          "base_uri": "https://localhost:8080/",
          "height": 34
        },
        "id": "MXvFuxeU_jl4",
        "outputId": "d1050db2-c6c9-4f03-cde9-b7e0e5e7636c"
      },
      "outputs": [
        {
          "name": "stdout",
          "output_type": "stream",
          "text": [
            "Uma ou nenhuma das condições foram satisfeitas\n"
          ]
        }
      ],
      "source": [
        "# Quarto exemplo de operador condicional com operadores lógicos\n",
        "x = 1  # Atribui o valor 1 à variável x\n",
        "y = 5  # Atribui o valor 5 à variável y\n",
        "if (x > 1) or (y % 2 == 0):  # Verifica se x é maior que 1 ou se y é par\n",
        "    print(\"x é maior que 1 e y é par\")  # Se qualquer uma das condições for verdadeira, imprime \"x é maior que 1 e y é par\"\n",
        "else:  # Caso contrário\n",
        "    print(\"Uma ou nenhuma das condições foram satisfeitas\")  # Imprime \"Uma ou nenhuma das condições foram satisfeitas\""
      ]
    }
  ],
  "metadata": {
    "colab": {
      "provenance": []
    },
    "kernelspec": {
      "display_name": "Python 3",
      "name": "python3"
    },
    "language_info": {
      "codemirror_mode": {
        "name": "ipython",
        "version": 3
      },
      "file_extension": ".py",
      "mimetype": "text/x-python",
      "name": "python",
      "nbconvert_exporter": "python",
      "pygments_lexer": "ipython3",
      "version": "3.12.2"
    }
  },
  "nbformat": 4,
  "nbformat_minor": 0
}
