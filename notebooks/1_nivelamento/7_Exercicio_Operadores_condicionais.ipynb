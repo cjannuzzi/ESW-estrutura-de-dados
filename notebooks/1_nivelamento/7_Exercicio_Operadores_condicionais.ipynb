{
 "cells": [
  {
   "cell_type": "markdown",
   "metadata": {},
   "source": [
    "##### 1. Leia a idade do usuário e classifique-o em:\n",
    "- Criança – 0 a 12 anos\n",
    "- Adolescente – 13 a 17 anos\n",
    "- Adulto – acima de 18 anos\n",
    "-Se o usuário digitar um número negativo, mostrar a mensagem que a idade é inválida"
   ]
  },
  {
   "cell_type": "code",
   "execution_count": 3,
   "metadata": {},
   "outputs": [
    {
     "name": "stdout",
     "output_type": "stream",
     "text": [
      "-1\n"
     ]
    }
   ],
   "source": [
    "idade = int(input(\"Digite a idade: \"))\n",
    "print(idade)"
   ]
  },
  {
   "cell_type": "code",
   "execution_count": 4,
   "metadata": {},
   "outputs": [
    {
     "name": "stdout",
     "output_type": "stream",
     "text": [
      " Idade inválida\n"
     ]
    }
   ],
   "source": [
    "if idade >= 0 and idade <= 12:\n",
    "    print(\"Criança\")\n",
    "elif idade > 12 and idade <= 18:\n",
    "    print(\"Adolescente\")\n",
    "elif idade > 18:\n",
    "    print(\"Adulto\")\n",
    "else:\n",
    "    print(\" Idade inválida\")"
   ]
  },
  {
   "cell_type": "markdown",
   "metadata": {},
   "source": [
    "##### 2. Calcular a média de um aluno que cursou a disciplina de Programação I, a partir da leitura das notas N1, N2 e N3; passando por um cálculo da média aritmética. Após a média calculada, devemos anunciar se o aluno foi aprovado, reprovado ou pegou exame\n",
    "- Se a média estiver entre 0.0 e 4.0, o aluno está reprovado\n",
    "- Se a média estiver entre 4.1 e 6.0, o aluno pegou exame\n",
    "- Se a média for maior do que 6.0, o aluno está aprovado\n",
    "- Se o aluno pegou exame, deve ser lida a nota do exame. Se a nota do exame for maior do que 6.0, está aprovado, senão; está reprovado"
   ]
  },
  {
   "cell_type": "code",
   "execution_count": 8,
   "metadata": {},
   "outputs": [
    {
     "name": "stdout",
     "output_type": "stream",
     "text": [
      "A nota 01 foi 10.0, A nota 02 foi 4.0 e a nota 03 foi 2.0.\n"
     ]
    }
   ],
   "source": [
    "n1 = float(input(\"Digite a nota: \"))\n",
    "n2 = float(input(\"Digite a nota: \"))\n",
    "n3 = float(input(\"Digite a nota: \"))\n",
    "print(f\"A nota 01 foi {n1}, A nota 02 foi {n2} e a nota 03 foi {n3}.\")"
   ]
  },
  {
   "cell_type": "code",
   "execution_count": 9,
   "metadata": {},
   "outputs": [
    {
     "name": "stdout",
     "output_type": "stream",
     "text": [
      "5.333333333333333\n"
     ]
    }
   ],
   "source": [
    "media = (n1 + n2 + n3) / 3\n",
    "print(media)"
   ]
  },
  {
   "cell_type": "code",
   "execution_count": 10,
   "metadata": {},
   "outputs": [
    {
     "name": "stdout",
     "output_type": "stream",
     "text": [
      "Aprovado no exame\n"
     ]
    }
   ],
   "source": [
    "if media <= 4.0:\n",
    "    print(\"Aluno reprovado\")\n",
    "elif media >= 4.1 and media <= 6.0:\n",
    "    exame = float(input(\"Digite a nota do exame: \"))\n",
    "    if exame >= 6.0:\n",
    "        print(\"Aprovado no exame\")\n",
    "    else:\n",
    "        print(\"Reprovado no exame\")\n",
    "else:\n",
    "    print(\"Aluno aprovado\")"
   ]
  }
 ],
 "metadata": {
  "kernelspec": {
   "display_name": "Python 3",
   "language": "python",
   "name": "python3"
  },
  "language_info": {
   "codemirror_mode": {
    "name": "ipython",
    "version": 3
   },
   "file_extension": ".py",
   "mimetype": "text/x-python",
   "name": "python",
   "nbconvert_exporter": "python",
   "pygments_lexer": "ipython3",
   "version": "3.12.2"
  }
 },
 "nbformat": 4,
 "nbformat_minor": 2
}
