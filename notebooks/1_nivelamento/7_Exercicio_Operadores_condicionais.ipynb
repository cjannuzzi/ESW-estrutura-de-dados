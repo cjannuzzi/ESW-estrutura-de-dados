{
 "cells": [
  {
   "cell_type": "markdown",
   "metadata": {},
   "source": [
    "##### 1. Leia a idade do usuário e classifique-o em:\n",
    "- Criança – 0 a 12 anos\n",
    "- Adolescente – 13 a 17 anos\n",
    "- Adulto – acima de 18 anos\n",
    "- Se o usuário digitar um número negativo, mostrar a mensagem que a idade é inválida"
   ]
  },
  {
   "cell_type": "code",
   "execution_count": 1,
   "metadata": {},
   "outputs": [
    {
     "name": "stdout",
     "output_type": "stream",
     "text": [
      "19\n"
     ]
    }
   ],
   "source": [
    "idade = int(input(\"Digite a idade: \"))  # Lê a idade do usuário e converte para inteiro\n",
    "print(idade)  # Imprime a idade digitada pelo usuário"
   ]
  },
  {
   "cell_type": "code",
   "execution_count": 2,
   "metadata": {},
   "outputs": [
    {
     "name": "stdout",
     "output_type": "stream",
     "text": [
      "Adulto\n"
     ]
    }
   ],
   "source": [
    "if idade >= 0 and idade <= 12:  # Verifica se a idade está entre 0 e 12\n",
    "    print(\"Criança\")  # Se a condição for verdadeira, imprime \"Criança\"\n",
    "elif idade > 12 and idade <= 18:  # Verifica se a idade está entre 13 e 18\n",
    "    print(\"Adolescente\")  # Se a condição for verdadeira, imprime \"Adolescente\"\n",
    "elif idade > 18:  # Verifica se a idade é maior que 18\n",
    "    print(\"Adulto\")  # Se a condição for verdadeira, imprime \"Adulto\"\n",
    "else:  # Caso contrário (idade negativa)\n",
    "    print(\"Idade inválida\")  # Imprime \"Idade inválida\""
   ]
  },
  {
   "cell_type": "markdown",
   "metadata": {},
   "source": [
    "##### 2. Calcular a média de um aluno que cursou a disciplina de Programação I, a partir da leitura das notas N1, N2 e N3; passando por um cálculo da média aritmética. Após a média calculada, devemos anunciar se o aluno foi aprovado, reprovado ou pegou exame\n",
    "- Se a média estiver entre 0.0 e 4.0, o aluno está reprovado\n",
    "- Se a média estiver entre 4.1 e 6.0, o aluno pegou exame\n",
    "- Se a média for maior do que 6.0, o aluno está aprovado\n",
    "- Se o aluno pegou exame, deve ser lida a nota do exame. Se a nota do exame for maior do que 6.0, está aprovado, senão; está reprovado"
   ]
  },
  {
   "cell_type": "code",
   "execution_count": null,
   "metadata": {},
   "outputs": [
    {
     "name": "stdout",
     "output_type": "stream",
     "text": [
      "A nota 01 foi 8.0, A nota 02 foi 7.0 e a nota 03 foi 8.0.\n"
     ]
    }
   ],
   "source": [
    "n1 = float(\n",
    "    input(\"Digite a nota: \")\n",
    ")  # Lê a primeira nota do aluno e converte para float\n",
    "n2 = float(input(\"Digite a nota: \"))  # Lê a segunda nota do aluno e converte para float\n",
    "n3 = float(\n",
    "    input(\"Digite a nota: \")\n",
    ")  # Lê a terceira nota do aluno e converte para float\n",
    "\n",
    "print(\n",
    "    f\"A nota 01 foi {n1}, A nota 02 foi {n2} e a nota 03 foi {n3}.\"\n",
    ")  # Imprime as notas lidas"
   ]
  },
  {
   "cell_type": "code",
   "execution_count": 4,
   "metadata": {},
   "outputs": [
    {
     "name": "stdout",
     "output_type": "stream",
     "text": [
      "7.666666666666667\n"
     ]
    }
   ],
   "source": [
    "media = (n1 + n2 + n3) / 3  # Calcula a média aritmética das três notas\n",
    "print(media)  # Imprime a média calculada"
   ]
  },
  {
   "cell_type": "code",
   "execution_count": null,
   "metadata": {},
   "outputs": [
    {
     "name": "stdout",
     "output_type": "stream",
     "text": [
      "Aluno aprovado\n"
     ]
    }
   ],
   "source": [
    "if media <= 4.0:  # Verifica se a média é menor ou igual a 4.0\n",
    "    print(\"Aluno reprovado\")  # Se a condição for verdadeira, imprime \"Aluno reprovado\"\n",
    "elif media >= 4.1 and media <= 6.0:  # Verifica se a média está entre 4.1 e 6.0\n",
    "    exame = float(\n",
    "        input(\"Digite a nota do exame: \")\n",
    "    )  # Lê a nota do exame e converte para float\n",
    "    if exame >= 6.0:  # Verifica se a nota do exame é maior ou igual a 6.0\n",
    "        print(\n",
    "            \"Aprovado no exame\"\n",
    "        )  # Se a condição for verdadeira, imprime \"Aprovado no exame\"\n",
    "    else:  # Caso contrário\n",
    "        print(\"Reprovado no exame\")  # Imprime \"Reprovado no exame\"\n",
    "else:  # Caso a média seja maior que 6.0\n",
    "    print(\"Aluno aprovado\")  # Imprime \"Aluno aprovado\""
   ]
  }
 ],
 "metadata": {
  "kernelspec": {
   "display_name": "Python 3",
   "language": "python",
   "name": "python3"
  },
  "language_info": {
   "codemirror_mode": {
    "name": "ipython",
    "version": 3
   },
   "file_extension": ".py",
   "mimetype": "text/x-python",
   "name": "python",
   "nbconvert_exporter": "python",
   "pygments_lexer": "ipython3",
   "version": "3.12.2"
  }
 },
 "nbformat": 4,
 "nbformat_minor": 2
}
