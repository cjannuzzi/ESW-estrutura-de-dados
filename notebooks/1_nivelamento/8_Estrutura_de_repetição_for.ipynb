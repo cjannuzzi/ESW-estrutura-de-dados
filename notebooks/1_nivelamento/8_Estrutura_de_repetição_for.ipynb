{
  "cells": [
    {
      "cell_type": "markdown",
      "metadata": {
        "id": "5hg58pyZe2oS"
      },
      "source": [
        "# Estruturas de repetição - for"
      ]
    },
    {
      "cell_type": "code",
      "execution_count": 1,
      "metadata": {
        "colab": {
          "base_uri": "https://localhost:8080/",
          "height": 101
        },
        "id": "Vqvjpfi6e_L-",
        "outputId": "b5e88e15-3f0c-46cc-b90c-6c413f356d57"
      },
      "outputs": [
        {
          "name": "stdout",
          "output_type": "stream",
          "text": [
            "1\n",
            "2\n",
            "3\n",
            "4\n",
            "5\n"
          ]
        }
      ],
      "source": [
        "# Primeiro exemplo de impressão de números de 1 a 5\n",
        "print(1)  # Imprime o número 1\n",
        "print(2)  # Imprime o número 2\n",
        "print(3)  # Imprime o número 3\n",
        "print(4)  # Imprime o número 4\n",
        "print(5)  # Imprime o número 5"
      ]
    },
    {
      "cell_type": "code",
      "execution_count": 2,
      "metadata": {
        "colab": {
          "base_uri": "https://localhost:8080/",
          "height": 101
        },
        "id": "c2iluHyETYEU",
        "outputId": "83f36526-cbe8-4b15-f25e-6248a0dd4754"
      },
      "outputs": [
        {
          "name": "stdout",
          "output_type": "stream",
          "text": [
            "1\n",
            "2\n",
            "3\n",
            "4\n",
            "5\n"
          ]
        }
      ],
      "source": [
        "# Segundo exemplo usando a estrutura de repetição for\n",
        "for numero in range(1, 6):  # Itera sobre uma sequência de números de 1 a 5 (inclusive)\n",
        "    print(numero)  # Imprime o número atual da iteração\n"
      ]
    },
    {
      "cell_type": "code",
      "execution_count": 3,
      "metadata": {
        "colab": {
          "base_uri": "https://localhost:8080/",
          "height": 101
        },
        "id": "P7NuY7N4TxMK",
        "outputId": "5ce98328-efb7-4ffd-81d8-fe122919f27f"
      },
      "outputs": [
        {
          "name": "stdout",
          "output_type": "stream",
          "text": [
            "5\n",
            "4\n",
            "3\n",
            "2\n",
            "1\n"
          ]
        }
      ],
      "source": [
        "# Terceiro exemplo de contagem regressiva de 5 a 1\n",
        "for numero in range(5, 0, -1):  # Itera sobre uma sequência de números de 5 a 1 (inclusive), decrementando de 1 em 1\n",
        "    print(numero)  # Imprime o número atual da iteração\n"
      ]
    },
    {
      "cell_type": "code",
      "execution_count": 4,
      "metadata": {
        "colab": {
          "base_uri": "https://localhost:8080/",
          "height": 34
        },
        "id": "Tte1Ylh6UAtK",
        "outputId": "2ac82940-1088-4e83-d278-922647df20a4"
      },
      "outputs": [
        {
          "data": {
            "text/plain": [
              "15"
            ]
          },
          "execution_count": 4,
          "metadata": {},
          "output_type": "execute_result"
        }
      ],
      "source": [
        "# Quarto exemplo de soma de números\n",
        "5 + 4 + 3 + 2 + 1  # Calcula a soma dos números 5, 4, 3, 2 e 1\n"
      ]
    },
    {
      "cell_type": "code",
      "execution_count": 5,
      "metadata": {
        "colab": {
          "base_uri": "https://localhost:8080/",
          "height": 118
        },
        "id": "H5x4zHkfUFmb",
        "outputId": "2fd622dc-6c23-48bc-891f-904c8e98d2d9"
      },
      "outputs": [
        {
          "name": "stdout",
          "output_type": "stream",
          "text": [
            "15\n"
          ]
        }
      ],
      "source": [
        "# Quinto exemplo de soma de números usando a estrutura de repetição for\n",
        "soma = 0  # Inicializa a variável soma com 0\n",
        "for numero in range(1, 6):  # Itera sobre uma sequência de números de 1 a 5 (inclusive)\n",
        "    soma = soma + numero  # Adiciona o número atual da iteração à variável soma\n",
        "    # print(soma)  # (Comentado) Imprime a soma parcial a cada iteração\n",
        "\n",
        "print(soma)  # Imprime a soma total após a conclusão da iteração\n"
      ]
    },
    {
      "cell_type": "code",
      "execution_count": 6,
      "metadata": {
        "colab": {
          "base_uri": "https://localhost:8080/",
          "height": 34
        },
        "id": "JZnG40IVUnwn",
        "outputId": "f452ab47-bce1-4c75-9274-c05c0eb06e97"
      },
      "outputs": [
        {
          "name": "stdout",
          "output_type": "stream",
          "text": [
            "Achou a letra v\n"
          ]
        }
      ],
      "source": [
        "# Sexto exemplo de busca de uma letra em uma palavra\n",
        "palavra = \"sorvete\"  # Define a variável palavra com o valor \"sorvete\"\n",
        "for letra in palavra:  # Itera sobre cada letra da palavra\n",
        "    # print(letra)  # (Comentado) Imprime a letra atual da iteração\n",
        "    if letra == \"v\":  # Verifica se a letra atual é igual a \"v\"\n",
        "        print(\"Achou a letra v\")  # Se a condição for verdadeira, imprime \"Achou a letra v\"\n"
      ]
    },
    {
      "cell_type": "code",
      "execution_count": 7,
      "metadata": {
        "colab": {
          "base_uri": "https://localhost:8080/",
          "height": 521
        },
        "id": "UXEE2wmwVMBq",
        "outputId": "9a712589-73a9-4bcb-d140-30af99d035cb"
      },
      "outputs": [
        {
          "name": "stdout",
          "output_type": "stream",
          "text": [
            "0\n",
            "---\n",
            "0\n",
            "1\n",
            "2\n",
            "\n",
            "1\n",
            "---\n",
            "0\n",
            "1\n",
            "2\n",
            "\n",
            "2\n",
            "---\n",
            "0\n",
            "1\n",
            "2\n",
            "\n",
            "3\n",
            "---\n",
            "0\n",
            "1\n",
            "2\n",
            "\n",
            "4\n",
            "---\n",
            "0\n",
            "1\n",
            "2\n",
            "\n"
          ]
        }
      ],
      "source": [
        "# Sétimo exemplo de estrutura de repetição aninhada\n",
        "for i in range(0, 5):  # Itera sobre uma sequência de números de 0 a 4 (inclusive)\n",
        "    print(i)  # Imprime o número atual da iteração externa\n",
        "    print(\"---\")  # Imprime uma linha de separação\n",
        "    for j in range(0, 3):  # Itera sobre uma sequência de números de 0 a 2 (inclusive)\n",
        "        print(j)  # Imprime o número atual da iteração interna\n",
        "    print()  # Imprime uma linha em branco para separar as iterações externas\n",
        "# O resultado é a impressão de cada número da iteração externa e da iteração interna, com uma linha de separação entre elas\n",
        "# A estrutura acima é muito usada para matrizes!"
      ]
    },
    {
      "cell_type": "markdown",
      "metadata": {},
      "source": [
        "A estrutura acima é muito usada para matrizes!"
      ]
    }
  ],
  "metadata": {
    "colab": {
      "provenance": []
    },
    "kernelspec": {
      "display_name": "Python 3",
      "name": "python3"
    },
    "language_info": {
      "codemirror_mode": {
        "name": "ipython",
        "version": 3
      },
      "file_extension": ".py",
      "mimetype": "text/x-python",
      "name": "python",
      "nbconvert_exporter": "python",
      "pygments_lexer": "ipython3",
      "version": "3.12.2"
    }
  },
  "nbformat": 4,
  "nbformat_minor": 0
}
