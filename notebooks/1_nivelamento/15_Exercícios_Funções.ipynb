{
  "cells": [
    {
      "cell_type": "markdown",
      "metadata": {
        "id": "c9BudZ2gNE2n"
      },
      "source": [
        "# Exercício 1\n",
        "\n",
        "Ler uma temperatura em graus Celsius e apresentá-la convertida em graus Fahrenheit. A fórmula de conversão é F = (9 * C + 160) / 5, na qual F é a temperatura em Fahrenheit e C é a temperatura em graus Celsius\n",
        "- Função para ler e retorna o valor da temperatura (não recebe parâmetro)\n",
        "- Função para fazer o cálculo (recebe como parâmetro a temperatura em graus Celsius)\n",
        "- Função para mostrar o resultado, recebendo como parâmetro o valor e fazendo a impressão\n"
      ]
    },
    {
      "cell_type": "code",
      "execution_count": 1,
      "metadata": {
        "id": "SVlPSs0oS1XU"
      },
      "outputs": [],
      "source": [
        "def ler_temperatura():\n",
        "    temperatura = float(input(\"Digite a temperatura em graus Celsius: \"))\n",
        "    return temperatura"
      ]
    },
    {
      "cell_type": "code",
      "execution_count": 2,
      "metadata": {
        "id": "nG8uZCHWd6z0"
      },
      "outputs": [],
      "source": [
        "def converter(temperatura_celsius):\n",
        "    temperatura_f = (9 * temperatura_celsius + 160) / 5\n",
        "    return temperatura_f"
      ]
    },
    {
      "cell_type": "code",
      "execution_count": 3,
      "metadata": {
        "id": "byzWkAl0eG3X"
      },
      "outputs": [],
      "source": [
        "def mostrar(temperatura_f):\n",
        "    print(temperatura_f)"
      ]
    },
    {
      "cell_type": "code",
      "execution_count": 4,
      "metadata": {
        "colab": {
          "base_uri": "https://localhost:8080/",
          "height": 50
        },
        "id": "I4JsEBXLeSUI",
        "outputId": "2bc1ae5b-8a84-484a-e485-1a0c7eaa54b9"
      },
      "outputs": [
        {
          "name": "stdout",
          "output_type": "stream",
          "text": [
            "95.0\n"
          ]
        }
      ],
      "source": [
        "temperatura_c = ler_temperatura()\n",
        "temperatura_f = converter(temperatura_c)\n",
        "mostrar(temperatura_f)"
      ]
    },
    {
      "cell_type": "markdown",
      "metadata": {
        "id": "-44bufKRbeBf"
      },
      "source": [
        "# Exercício 2\n",
        "\n",
        "Efetuar o cálculo da quantidade de litros de combustível gasto em uma viagem, utilizando um automóvel que faz 12 Km por litro. Para obter o cálculo, o usuário deve fornecer o tempo gasto na viagem e a velocidade média durante ela. Desta forma, será possível obter a distância percorrida com a fórmula DISTANCIA = TEMPO * VELOCIDADE. Tendo o valor da distância, basta calcular a quantidade de litros de combustível utilizada na viagem, com a fórmula: LITROS_USADOS = DISTANCIA / 12. O programa deve apresentar os valores da velocidade média, tempo gasto na viagem, a distância percorrida e a quantidade de litros utilizada na viagem\n",
        "- Função para ler os valores (não recebe parâmetro e retorna os dois valores)\n",
        "- Função para calcular a distância (recebe como parâmetro o tempo e a velocidade e retorna a distância)\n",
        "- Função para calcular a quantidade de litros (recebe como parâmetro a distância e retorna os litros)\n",
        "- Função para apresentar o resultado (recebe como parâmetro os valores e somente imprime o resultado)"
      ]
    },
    {
      "cell_type": "code",
      "execution_count": 5,
      "metadata": {
        "id": "GxlRNd_meyJA"
      },
      "outputs": [],
      "source": [
        "def leitura():\n",
        "    tempo = float(input(\"Digite o tempo da viagem: \"))\n",
        "    velocidade = float(input(\"Digite a velocidade média: \"))\n",
        "    return tempo, velocidade"
      ]
    },
    {
      "cell_type": "code",
      "execution_count": 6,
      "metadata": {
        "id": "GqJx1tabfWhA"
      },
      "outputs": [],
      "source": [
        "def calcula_distancia(tempo, velocidade):\n",
        "    return tempo * velocidade"
      ]
    },
    {
      "cell_type": "code",
      "execution_count": 7,
      "metadata": {
        "id": "ns5EY4mkfdAx"
      },
      "outputs": [],
      "source": [
        "def calcula_litros(distancia):\n",
        "    return distancia / 12"
      ]
    },
    {
      "cell_type": "code",
      "execution_count": 8,
      "metadata": {
        "id": "TlebFchzfiQH"
      },
      "outputs": [],
      "source": [
        "def imprime(velocidade, tempo, distancia, litros):\n",
        "    print(\"Velocidade:\", velocidade)\n",
        "    print(\"Tempo:\", tempo)\n",
        "    print(\"Distância:\", distancia)\n",
        "    print(\"Litros:\", litros)"
      ]
    },
    {
      "cell_type": "code",
      "execution_count": 9,
      "metadata": {
        "colab": {
          "base_uri": "https://localhost:8080/",
          "height": 118
        },
        "id": "bOEk5jeAfmXL",
        "outputId": "9df9ceb3-52c9-4ead-9c6b-ee611db4157a"
      },
      "outputs": [
        {
          "name": "stdout",
          "output_type": "stream",
          "text": [
            "Velocidade: 80.0\n",
            "Tempo: 4.0\n",
            "Distância: 320.0\n",
            "Litros: 26.666666666666668\n"
          ]
        }
      ],
      "source": [
        "t, v = leitura()\n",
        "d = calcula_distancia(t, v)\n",
        "l = calcula_litros(d)\n",
        "imprime(v, t, d, l)"
      ]
    }
  ],
  "metadata": {
    "colab": {
      "provenance": []
    },
    "kernelspec": {
      "display_name": "Python 3",
      "name": "python3"
    },
    "language_info": {
      "codemirror_mode": {
        "name": "ipython",
        "version": 3
      },
      "file_extension": ".py",
      "mimetype": "text/x-python",
      "name": "python",
      "nbconvert_exporter": "python",
      "pygments_lexer": "ipython3",
      "version": "3.12.2"
    }
  },
  "nbformat": 4,
  "nbformat_minor": 0
}
