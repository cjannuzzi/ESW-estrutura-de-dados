{
  "cells": [
    {
      "cell_type": "markdown",
      "metadata": {
        "id": "c9BudZ2gNE2n"
      },
      "source": [
        "# Exercício 1 - listas\n",
        "\n",
        "Crie uma estrutura de repetição para fazer a leitura de 5 números inteiros e os armazene dentro de uma lista. Após a leitura, crie outra estrutura de repetição para somar todos os valores digitados"
      ]
    },
    {
      "cell_type": "code",
      "execution_count": 1,
      "metadata": {
        "colab": {
          "base_uri": "https://localhost:8080/",
          "height": 101
        },
        "id": "VVxui4nim6Xk",
        "outputId": "c1c411e1-2475-4b0d-983f-bf06133ffbc6"
      },
      "outputs": [],
      "source": [
        "lista = []  # Inicializa uma lista vazia\n",
        "for _ in range(1, 6):  # Estrutura de repetição para 5 iterações\n",
        "    valor = int(input(\"Digite o valor: \"))  # Lê um valor inteiro do usuário\n",
        "    lista.append(valor)  # Adiciona o valor lido à lista\n"
      ]
    },
    {
      "cell_type": "code",
      "execution_count": 2,
      "metadata": {
        "colab": {
          "base_uri": "https://localhost:8080/",
          "height": 34
        },
        "id": "i5H_wkoinORR",
        "outputId": "d84b513f-0fdc-4c2e-f8a9-acdf43e7541d"
      },
      "outputs": [
        {
          "data": {
            "text/plain": [
              "[4, 5, 6, 7, 78]"
            ]
          },
          "execution_count": 2,
          "metadata": {},
          "output_type": "execute_result"
        }
      ],
      "source": [
        "lista  # Exibe a lista com os valores lidos"
      ]
    },
    {
      "cell_type": "code",
      "execution_count": 3,
      "metadata": {
        "colab": {
          "base_uri": "https://localhost:8080/",
          "height": 34
        },
        "id": "8iC4MSq1tU82",
        "outputId": "7d26eab7-8b49-46a9-eeb6-4096f6f385c8"
      },
      "outputs": [
        {
          "data": {
            "text/plain": [
              "5"
            ]
          },
          "execution_count": 3,
          "metadata": {},
          "output_type": "execute_result"
        }
      ],
      "source": [
        "len(lista)  # Retorna o tamanho da lista\n",
        "# lembrem-se do índice."
      ]
    },
    {
      "cell_type": "code",
      "execution_count": 4,
      "metadata": {
        "colab": {
          "base_uri": "https://localhost:8080/",
          "height": 34
        },
        "id": "3o0BCJOLnP2g",
        "outputId": "41e77aaa-92a8-4c25-b738-8f51ab4d2361"
      },
      "outputs": [
        {
          "name": "stdout",
          "output_type": "stream",
          "text": [
            "Soma:  100\n"
          ]
        }
      ],
      "source": [
        "soma = 0  # Inicializa a variável soma com 0\n",
        "for i in range(len(lista)):  # Estrutura de repetição para iterar sobre o tamanho da lista\n",
        "    soma += lista[i]  # Adiciona o valor atual da lista à variável soma\n",
        "print(\"Soma: \", soma)  # Imprime a soma dos valores da lista\n"
      ]
    },
    {
      "cell_type": "code",
      "execution_count": 5,
      "metadata": {
        "colab": {
          "base_uri": "https://localhost:8080/",
          "height": 34
        },
        "id": "fWHgU9oJnn2K",
        "outputId": "bddc8de0-275b-4992-9338-596e29d68701"
      },
      "outputs": [
        {
          "data": {
            "text/plain": [
              "np.int64(100)"
            ]
          },
          "execution_count": 5,
          "metadata": {},
          "output_type": "execute_result"
        }
      ],
      "source": [
        "import numpy as np  # Importa a biblioteca numpy\n",
        "\n",
        "np.array(lista).sum()  # Converte a lista para um array numpy e calcula a soma dos elementos\n",
        "# Estamos convertendo a lista para o formato do numpy array e com esse formato temos acesso a algumas funções matemáticas como soma, média e por ai vai.\n",
        "# tente usar o lista.sum() e perceberá um erro pois não esta usando a biblioteca do numpy."
      ]
    },
    {
      "cell_type": "markdown",
      "metadata": {
        "id": "fPUAsfsonjUq"
      },
      "source": [
        "# Exercícios 2 - dicionários\n",
        "\n",
        "Crie um dicionário para armazenar o nome e a idade de 3 piratas, fazendo a leitura dos valores por meio de uma estrutura de repetição. Depois, crie uma nova estrutura de repetição para somar todas as idades e retornar a média"
      ]
    },
    {
      "cell_type": "code",
      "execution_count": 6,
      "metadata": {
        "colab": {
          "base_uri": "https://localhost:8080/",
          "height": 118
        },
        "id": "1l72uOv1oCZR",
        "outputId": "1751040f-0463-4d3c-c33c-78027cbbaa45"
      },
      "outputs": [],
      "source": [
        "piratas = {}  # Inicializa um dicionário vazio\n",
        "for _ in range(1, 4):  # Estrutura de repetição para 3 iterações\n",
        "    nome = input(\"Digite o nome: \")  # Lê o nome do pirata\n",
        "    idade = float(input(\"Digite a idade: \"))  # Lê a idade do pirata e converte para float\n",
        "    piratas[nome] = idade  # Adiciona o nome e a idade ao dicionário\n"
      ]
    },
    {
      "cell_type": "code",
      "execution_count": 7,
      "metadata": {
        "colab": {
          "base_uri": "https://localhost:8080/",
          "height": 34
        },
        "id": "G2P6lolZobRW",
        "outputId": "661bf3a8-d01d-4ab3-80b2-9b2755d9ba32"
      },
      "outputs": [
        {
          "data": {
            "text/plain": [
              "{'5': 4.0, '3': 56.0, '7': 65.0}"
            ]
          },
          "execution_count": 7,
          "metadata": {},
          "output_type": "execute_result"
        }
      ],
      "source": [
        "piratas  # Exibe o dicionário com os nomes e idades dos piratas\n"
      ]
    },
    {
      "cell_type": "code",
      "execution_count": 8,
      "metadata": {
        "colab": {
          "base_uri": "https://localhost:8080/",
          "height": 34
        },
        "id": "uS4j6fZYpByn",
        "outputId": "d7a6be69-64a5-42c6-d939-c20f2e059bcd"
      },
      "outputs": [
        {
          "ename": "KeyError",
          "evalue": "'Nami'",
          "output_type": "error",
          "traceback": [
            "\u001b[1;31m---------------------------------------------------------------------------\u001b[0m",
            "\u001b[1;31mKeyError\u001b[0m                                  Traceback (most recent call last)",
            "Cell \u001b[1;32mIn[8], line 1\u001b[0m\n\u001b[1;32m----> 1\u001b[0m \u001b[43mpiratas\u001b[49m\u001b[43m[\u001b[49m\u001b[38;5;124;43m\"\u001b[39;49m\u001b[38;5;124;43mNami\u001b[39;49m\u001b[38;5;124;43m\"\u001b[39;49m\u001b[43m]\u001b[49m  \u001b[38;5;66;03m# Acessa a idade do pirata \"Nami\"\u001b[39;00m\n",
            "\u001b[1;31mKeyError\u001b[0m: 'Nami'"
          ]
        }
      ],
      "source": [
        "piratas[\"Nami\"]  # Acessa a idade do pirata \"Nami\"\n"
      ]
    },
    {
      "cell_type": "code",
      "execution_count": null,
      "metadata": {
        "colab": {
          "base_uri": "https://localhost:8080/",
          "height": 34
        },
        "id": "4HBJVAuEodmI",
        "outputId": "f3afe8c9-ecbf-4250-cbe5-a0e2161c04fc"
      },
      "outputs": [
        {
          "data": {
            "text/plain": [
              "dict_values([19.0, 21.0, 20.0])"
            ]
          },
          "execution_count": 11,
          "metadata": {},
          "output_type": "execute_result"
        }
      ],
      "source": [
        "piratas.values()  # Retorna uma visão dos valores (idades) do dicionário\n"
      ]
    },
    {
      "cell_type": "code",
      "execution_count": null,
      "metadata": {
        "colab": {
          "base_uri": "https://localhost:8080/",
          "height": 34
        },
        "id": "WqpxxH5GpUgW",
        "outputId": "0a9c5750-508a-41f7-f408-71efcfde26b8"
      },
      "outputs": [
        {
          "name": "stdout",
          "output_type": "stream",
          "text": [
            "Média:  20.0\n"
          ]
        }
      ],
      "source": [
        "soma = 0  # Inicializa a variável soma com 0\n",
        "for idade in piratas.values():  # Estrutura de repetição para iterar sobre as idades dos piratas\n",
        "    soma += idade  # Adiciona a idade atual à variável soma\n",
        "print(\"Média: \", soma / 3)  # Calcula e imprime a média das idades\n"
      ]
    },
    {
      "cell_type": "markdown",
      "metadata": {
        "id": "9CJi3c3zprrp"
      },
      "source": [
        "# Exercício 3: Matriz\n",
        "\n",
        "Dada a matriz abaixo, construa uma estrutura de repetição para percorrer e somar todos os elementos da matriz"
      ]
    },
    {
      "cell_type": "code",
      "execution_count": null,
      "metadata": {
        "colab": {
          "base_uri": "https://localhost:8080/",
          "height": 50
        },
        "id": "-NkeiH0Ap0zT",
        "outputId": "8a2c5773-a0f6-4be4-b216-f518476207f9"
      },
      "outputs": [
        {
          "data": {
            "text/plain": [
              "array([[3, 4, 1],\n",
              "       [3, 1, 5]])"
            ]
          },
          "execution_count": 16,
          "metadata": {
            "tags": []
          },
          "output_type": "execute_result"
        }
      ],
      "source": [
        "matriz = np.array([[3, 4, 1], [3, 1, 5]])  # Cria uma matriz 2x3 usando numpy\n",
        "matriz  # Exibe a matriz\n"
      ]
    },
    {
      "cell_type": "code",
      "execution_count": null,
      "metadata": {
        "colab": {
          "base_uri": "https://localhost:8080/",
          "height": 34
        },
        "id": "clrFxS5tqCb-",
        "outputId": "2bb8c522-4999-4150-8b55-d8a014988471"
      },
      "outputs": [
        {
          "data": {
            "text/plain": [
              "(2, 3)"
            ]
          },
          "execution_count": 17,
          "metadata": {
            "tags": []
          },
          "output_type": "execute_result"
        }
      ],
      "source": [
        "matriz.shape  # Retorna o formato da matriz\n"
      ]
    },
    {
      "cell_type": "code",
      "execution_count": null,
      "metadata": {
        "colab": {
          "base_uri": "https://localhost:8080/",
          "height": 34
        },
        "id": "DGlq3rtvp9Km",
        "outputId": "58c425b6-9ee0-4754-89e1-f1a867f931f6"
      },
      "outputs": [
        {
          "name": "stdout",
          "output_type": "stream",
          "text": [
            "Soma:  17\n"
          ]
        }
      ],
      "source": [
        "soma = 0  # Inicializa a variável soma com 0\n",
        "for i in range(matriz.shape[0]):  # Estrutura de repetição para iterar sobre as linhas da matriz\n",
        "    for j in range(matriz.shape[1]):  # Estrutura de repetição para iterar sobre as colunas da matriz\n",
        "        soma += matriz[i][j]  # Adiciona o valor atual da matriz à variável soma\n",
        "print(\"Soma: \", soma)  # Imprime a soma dos elementos da matriz"
      ]
    }
  ],
  "metadata": {
    "colab": {
      "provenance": []
    },
    "kernelspec": {
      "display_name": "Python 3",
      "name": "python3"
    },
    "language_info": {
      "codemirror_mode": {
        "name": "ipython",
        "version": 3
      },
      "file_extension": ".py",
      "mimetype": "text/x-python",
      "name": "python",
      "nbconvert_exporter": "python",
      "pygments_lexer": "ipython3",
      "version": "3.12.2"
    }
  },
  "nbformat": 4,
  "nbformat_minor": 0
}
