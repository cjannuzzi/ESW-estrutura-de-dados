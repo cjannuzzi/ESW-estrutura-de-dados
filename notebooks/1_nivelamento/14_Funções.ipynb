{
  "cells": [
    {
      "cell_type": "markdown",
      "metadata": {
        "id": "IEcrEbE3Ff-i"
      },
      "source": [
        "# Funções\n",
        "\n",
        "- Trechos de programa que recebem um determinado nome e podem ser chamados várias vezes durante a execução\n",
        "- Principais vantagens: reutilização de código, modularidade e facilidade de manutenção do sistema"
      ]
    },
    {
      "cell_type": "markdown",
      "metadata": {
        "id": "hVl4JmCBFh35"
      },
      "source": [
        "## Função sem parâmetro e sem retorno\n",
        "\n"
      ]
    },
    {
      "cell_type": "code",
      "execution_count": 1,
      "metadata": {
        "id": "tDHyzEN6Y-E1"
      },
      "outputs": [],
      "source": [
        "def mensagem():  # Define uma função chamada 'mensagem' que não recebe nenhum parâmetro\n",
        "    print(\"Aprendendo funções\")  # Imprime a mensagem \"Aprendendo funções\"\n"
      ]
    },
    {
      "cell_type": "code",
      "execution_count": 2,
      "metadata": {
        "colab": {
          "base_uri": "https://localhost:8080/",
          "height": 67
        },
        "id": "r-_JEbYrZHFR",
        "outputId": "decb5710-4510-4bc0-e81e-6973722f0c10"
      },
      "outputs": [
        {
          "name": "stdout",
          "output_type": "stream",
          "text": [
            "Aprendendo funções\n",
            "Aprendendo funções\n",
            "Aprendendo funções\n"
          ]
        }
      ],
      "source": [
        "mensagem()  # Chama a função 'mensagem'\n",
        "mensagem()  # Chama a função 'mensagem'\n",
        "mensagem()  # Chama a função 'mensagem'"
      ]
    },
    {
      "cell_type": "markdown",
      "metadata": {
        "id": "acu6pXhQHffb"
      },
      "source": [
        "## Função com passagem de parâmetro"
      ]
    },
    {
      "cell_type": "code",
      "execution_count": 3,
      "metadata": {
        "id": "wCegzOSuZWNY"
      },
      "outputs": [],
      "source": [
        "def mensagem(texto):  # Define uma função chamada 'mensagem' que recebe um parâmetro 'texto'\n",
        "    print(texto)  # Imprime o valor do parâmetro 'texto'\n"
      ]
    },
    {
      "cell_type": "code",
      "execution_count": 4,
      "metadata": {
        "colab": {
          "base_uri": "https://localhost:8080/",
          "height": 67
        },
        "id": "5Mu-2bGUZdIZ",
        "outputId": "78a92c46-9d39-4a60-87f1-f37da1bd9316"
      },
      "outputs": [
        {
          "name": "stdout",
          "output_type": "stream",
          "text": [
            "Novo texto\n",
            "Outro texto\n",
            "Mais um texto\n"
          ]
        }
      ],
      "source": [
        "mensagem(\"Novo texto\")  # Chama a função 'mensagem' passando o argumento \"Novo texto\"\n",
        "mensagem(\"Outro texto\")  # Chama a função 'mensagem' passando o argumento \"Outro texto\"\n",
        "mensagem(\"Mais um texto\")  # Chama a função 'mensagem' passando o argumento \"Mais um texto\""
      ]
    },
    {
      "cell_type": "code",
      "execution_count": 5,
      "metadata": {},
      "outputs": [],
      "source": [
        "def mensagem(texto=\"Texto padrão\"):  # Define uma função 'mensagem' com um parâmetro 'texto' que tem valor padrão \"Texto padrão\"\n",
        "    print(texto)  # Imprime o valor do parâmetro 'texto'"
      ]
    },
    {
      "cell_type": "code",
      "execution_count": 6,
      "metadata": {},
      "outputs": [
        {
          "name": "stdout",
          "output_type": "stream",
          "text": [
            "Texto padrão\n",
            "Outro texto\n",
            "Texto padrão\n"
          ]
        }
      ],
      "source": [
        "mensagem()  # Chama a função 'mensagem' sem passar argumento, usando o valor padrão\n",
        "mensagem(\"Outro texto\")  # Chama a função 'mensagem' passando o argumento \"Outro texto\"\n",
        "mensagem()  # Chama a função 'mensagem' sem passar argumento, usando o valor padrão"
      ]
    },
    {
      "cell_type": "code",
      "execution_count": 7,
      "metadata": {
        "id": "Qlf-zQJCZyZR"
      },
      "outputs": [],
      "source": [
        "# Função com retorno de valor\n",
        "def soma(a, b):  # Define uma função 'soma' que recebe dois parâmetros 'a' e 'b'\n",
        "    return a + b  # Retorna a soma dos parâmetros 'a' e 'b'\n"
      ]
    },
    {
      "cell_type": "code",
      "execution_count": 8,
      "metadata": {
        "colab": {
          "base_uri": "https://localhost:8080/",
          "height": 34
        },
        "id": "ykaR-XQQZ2uf",
        "outputId": "99452147-adfe-432b-9cc1-c69f70f75d19"
      },
      "outputs": [
        {
          "name": "stdout",
          "output_type": "stream",
          "text": [
            "7\n"
          ]
        }
      ],
      "source": [
        "resultado = soma(3, 4)  # Chama a função 'soma' passando os argumentos 3 e 4, e armazena o resultado na variável 'resultado'\n",
        "print(resultado)  # Imprime o valor da variável 'resultado'\n"
      ]
    },
    {
      "cell_type": "code",
      "execution_count": 9,
      "metadata": {
        "colab": {
          "base_uri": "https://localhost:8080/",
          "height": 50
        },
        "id": "el9_XnkxZ7PT",
        "outputId": "020bf038-de45-4d1a-a27f-4d5bdefbf549"
      },
      "outputs": [
        {
          "data": {
            "text/plain": [
              "3"
            ]
          },
          "execution_count": 9,
          "metadata": {},
          "output_type": "execute_result"
        }
      ],
      "source": [
        "soma(3, 3)\n",
        "soma(1, 2)"
      ]
    },
    {
      "cell_type": "markdown",
      "metadata": {
        "id": "A_OYX7XBIBCU"
      },
      "source": [
        "## Função com múltiplos parâmetros"
      ]
    },
    {
      "cell_type": "code",
      "execution_count": 10,
      "metadata": {
        "id": "SkkVQpIHaE14"
      },
      "outputs": [],
      "source": [
        "def altera_preco(\n",
        "    valor, percentual, taxa=5, mensagem=\"Alterando preço\"\n",
        "):  # Define uma função 'altera_preco' com 4 parâmetros, sendo 2 com valores padrão\n",
        "    resultado = (valor * (1 + (percentual / 100))) + taxa  # Calcula o novo preço\n",
        "    print(mensagem)  # Imprime o valor do parâmetro 'mensagem'\n",
        "    return resultado  # Retorna o novo preço\n",
        "\n"
      ]
    },
    {
      "cell_type": "code",
      "execution_count": 11,
      "metadata": {
        "colab": {
          "base_uri": "https://localhost:8080/",
          "height": 34
        },
        "id": "V8f3NdypaMzA",
        "outputId": "d2ef74b7-84a0-4b7a-f98f-8ca7f60e0981"
      },
      "outputs": [
        {
          "name": "stdout",
          "output_type": "stream",
          "text": [
            "Alterando preço\n"
          ]
        },
        {
          "data": {
            "text/plain": [
              "115.00000000000001"
            ]
          },
          "execution_count": 11,
          "metadata": {},
          "output_type": "execute_result"
        }
      ],
      "source": [
        "altera_preco(100, 10)  # Chama a função 'altera_preco' passando apenas os argumentos obrigatórios\n"
      ]
    },
    {
      "cell_type": "code",
      "execution_count": 12,
      "metadata": {
        "colab": {
          "base_uri": "https://localhost:8080/",
          "height": 34
        },
        "id": "AhQErC_faRQl",
        "outputId": "2f428ede-f980-428a-ac93-3684673d05c1"
      },
      "outputs": [
        {
          "name": "stdout",
          "output_type": "stream",
          "text": [
            "Novo preço\n"
          ]
        },
        {
          "data": {
            "text/plain": [
              "120.00000000000001"
            ]
          },
          "execution_count": 12,
          "metadata": {},
          "output_type": "execute_result"
        }
      ],
      "source": [
        "altera_preco(\n",
        "    100, 10, 10, \"Novo preço\"\n",
        ")  # Chama a função 'altera_preco' passando todos os argumentos\n"
      ]
    },
    {
      "cell_type": "code",
      "execution_count": 13,
      "metadata": {
        "id": "wRhqE2ubamj2"
      },
      "outputs": [],
      "source": [
        "def calcula_energia_potencial_gravitacional(m, h, g=10):\n",
        "    \"\"\"\n",
        "    Calcula a energia potencial gravitacional\n",
        "    Argumentos:\n",
        "    m: massa, entrada como uma variável float\n",
        "    h: altura, entrada como uma variável float\n",
        "\n",
        "    Argumento opcional:\n",
        "    g: aceleração gravitacional, com valor default de 10\n",
        "    \"\"\"\n",
        "    e = g * m * h\n",
        "    return e"
      ]
    },
    {
      "cell_type": "code",
      "execution_count": 14,
      "metadata": {
        "colab": {
          "base_uri": "https://localhost:8080/",
          "height": 34
        },
        "id": "QecHSc8aa2ai",
        "outputId": "52dafd66-4251-41eb-e6da-ed188c0a17e9"
      },
      "outputs": [
        {
          "data": {
            "text/plain": [
              "3600"
            ]
          },
          "execution_count": 14,
          "metadata": {},
          "output_type": "execute_result"
        }
      ],
      "source": [
        "calcula_energia_potencial_gravitacional(30, 12)"
      ]
    },
    {
      "cell_type": "code",
      "execution_count": 15,
      "metadata": {
        "colab": {
          "base_uri": "https://localhost:8080/",
          "height": 34
        },
        "id": "5ZnVlGc1a6kR",
        "outputId": "e384fabb-64ae-4e8c-e566-de450d741fad"
      },
      "outputs": [
        {
          "data": {
            "text/plain": [
              "3528.0"
            ]
          },
          "execution_count": 15,
          "metadata": {},
          "output_type": "execute_result"
        }
      ],
      "source": [
        "calcula_energia_potencial_gravitacional(30, 12, 9.8)"
      ]
    },
    {
      "cell_type": "code",
      "execution_count": 16,
      "metadata": {
        "colab": {
          "base_uri": "https://localhost:8080/",
          "height": 202
        },
        "id": "4w78UhKKbJ18",
        "outputId": "d634675f-bea1-46ac-ccf7-3d666660bcc1"
      },
      "outputs": [
        {
          "name": "stdout",
          "output_type": "stream",
          "text": [
            "Help on function calcula_energia_potencial_gravitacional in module __main__:\n",
            "\n",
            "calcula_energia_potencial_gravitacional(m, h, g=10)\n",
            "    Calcula a energia potencial gravitacional\n",
            "    Argumentos:\n",
            "    m: massa, entrada como uma variável float\n",
            "    h: altura, entrada como uma variável float\n",
            "\n",
            "    Argumento opcional:\n",
            "    g: aceleração gravitacional, com valor default de 10\n",
            "\n"
          ]
        }
      ],
      "source": [
        "help(calcula_energia_potencial_gravitacional)"
      ]
    }
  ],
  "metadata": {
    "colab": {
      "provenance": []
    },
    "kernelspec": {
      "display_name": "Python 3",
      "name": "python3"
    },
    "language_info": {
      "codemirror_mode": {
        "name": "ipython",
        "version": 3
      },
      "file_extension": ".py",
      "mimetype": "text/x-python",
      "name": "python",
      "nbconvert_exporter": "python",
      "pygments_lexer": "ipython3",
      "version": "3.12.2"
    }
  },
  "nbformat": 4,
  "nbformat_minor": 0
}
