{
 "cells": [
  {
   "cell_type": "code",
   "execution_count": 1,
   "metadata": {},
   "outputs": [],
   "source": [
    "class Pilha:\n",
    "    def __init__(self):\n",
    "        # Inicializa a pilha como uma lista vazia.\n",
    "        self.itens = []\n",
    "\n",
    "    def push(self, item):\n",
    "        # Adiciona um item ao topo da pilha.\n",
    "        # Em uma lista, isso pode ser feito usando o método append.\n",
    "        self.itens.append(item)\n",
    "        print(f\"Empilhando: {item}\")\n",
    "        print(f\"Estado atual da pilha: {self.itens}\")\n",
    "\n",
    "    def pop(self):\n",
    "        # Remove o item do topo da pilha e o retorna.\n",
    "        # Primeiro, verificamos se a pilha está vazia para evitar erros.\n",
    "        if self.isEmpty():\n",
    "            print(\"Erro: tentativa de desempilhar uma pilha vazia\")\n",
    "            return None\n",
    "        else:\n",
    "            item = self.itens.pop()  # Remove e retorna o último item da lista\n",
    "            print(f\"Desempilhando: {item}\")\n",
    "            print(f\"Estado atual da pilha: {self.itens}\")\n",
    "            return item\n",
    "\n",
    "    def peek(self):\n",
    "        # Retorna o item no topo da pilha sem removê-lo.\n",
    "        # Novamente, verificamos primeiro se a pilha está vazia.\n",
    "        if self.isEmpty():\n",
    "            print(\"Erro: pilha vazia\")\n",
    "            return None\n",
    "        else:\n",
    "            return self.itens[-1]  # Retorna o último item da lista sem remover\n",
    "\n",
    "    def isEmpty(self):\n",
    "        # Retorna True se a pilha estiver vazia, caso contrário, retorna False.\n",
    "        return len(self.itens) == 0"
   ]
  },
  {
   "cell_type": "code",
   "execution_count": 2,
   "metadata": {},
   "outputs": [],
   "source": [
    "# Criando e usando a pilha\n",
    "pilha = Pilha()  # Cria uma pilha vazia"
   ]
  },
  {
   "cell_type": "code",
   "execution_count": 3,
   "metadata": {},
   "outputs": [
    {
     "name": "stdout",
     "output_type": "stream",
     "text": [
      "Empilhando: 5\n",
      "Estado atual da pilha: [5]\n",
      "Empilhando: 10\n",
      "Estado atual da pilha: [5, 10]\n"
     ]
    }
   ],
   "source": [
    "pilha.push(5)  # Empilha 5\n",
    "pilha.push(10)  # Empilha 10"
   ]
  },
  {
   "cell_type": "code",
   "execution_count": 4,
   "metadata": {},
   "outputs": [
    {
     "name": "stdout",
     "output_type": "stream",
     "text": [
      "Elemento do topo: 10\n"
     ]
    }
   ],
   "source": [
    "print(f\"Elemento do topo: {pilha.peek()}\")  # Mostra o elemento do topo"
   ]
  },
  {
   "cell_type": "code",
   "execution_count": 5,
   "metadata": {},
   "outputs": [
    {
     "name": "stdout",
     "output_type": "stream",
     "text": [
      "Desempilhando: 10\n",
      "Estado atual da pilha: [5]\n"
     ]
    },
    {
     "data": {
      "text/plain": [
       "10"
      ]
     },
     "execution_count": 5,
     "metadata": {},
     "output_type": "execute_result"
    }
   ],
   "source": [
    "pilha.pop()  # Remove o elemento do topo"
   ]
  },
  {
   "cell_type": "code",
   "execution_count": 6,
   "metadata": {},
   "outputs": [
    {
     "name": "stdout",
     "output_type": "stream",
     "text": [
      "A pilha está vazia? Não\n"
     ]
    }
   ],
   "source": [
    "print(\n",
    "    f\"A pilha está vazia? {'Sim' if pilha.isEmpty() else 'Não'}\"\n",
    ")  # Verifica se a pilha está vazia"
   ]
  }
 ],
 "metadata": {
  "kernelspec": {
   "display_name": "Python 3",
   "language": "python",
   "name": "python3"
  },
  "language_info": {
   "codemirror_mode": {
    "name": "ipython",
    "version": 3
   },
   "file_extension": ".py",
   "mimetype": "text/x-python",
   "name": "python",
   "nbconvert_exporter": "python",
   "pygments_lexer": "ipython3",
   "version": "3.12.2"
  }
 },
 "nbformat": 4,
 "nbformat_minor": 2
}
