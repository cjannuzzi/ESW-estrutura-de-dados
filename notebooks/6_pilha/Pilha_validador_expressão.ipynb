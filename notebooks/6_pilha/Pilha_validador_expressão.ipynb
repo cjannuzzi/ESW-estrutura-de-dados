{
  "cells": [
    {
      "cell_type": "markdown",
      "metadata": {
        "id": "3L3hMZxPloS9"
      },
      "source": [
        "# Pilha"
      ]
    },
    {
      "cell_type": "code",
      "execution_count": 1,
      "metadata": {
        "id": "2IUgpxk2pQW1"
      },
      "outputs": [],
      "source": [
        "import numpy as np"
      ]
    },
    {
      "cell_type": "code",
      "execution_count": 2,
      "metadata": {
        "id": "P7m0dnXelSKq"
      },
      "outputs": [],
      "source": [
        "class Pilha:\n",
        "    def __init__(self, capacidade):\n",
        "        self.capacidade = capacidade\n",
        "        self.topo = -1\n",
        "        # Array de chars\n",
        "        self.valores = np.chararray(self.capacidade, unicode=True)\n",
        "\n",
        "    def __pilha_cheia(self):\n",
        "        if self.topo == self.capacidade - 1:\n",
        "            return True\n",
        "        else:\n",
        "            return False\n",
        "\n",
        "    # Mudança para método público\n",
        "    def pilha_vazia(self):\n",
        "        if self.topo == -1:\n",
        "            return True\n",
        "        else:\n",
        "            return False\n",
        "\n",
        "    def empilhar(self, valor):\n",
        "        if self.__pilha_cheia():\n",
        "            print(\"A pilha está cheia\")\n",
        "        else:\n",
        "            self.topo += 1\n",
        "            self.valores[self.topo] = valor\n",
        "\n",
        "    # Retorno do valor desempilhado\n",
        "    def desempilhar(self):\n",
        "        if self.pilha_vazia():\n",
        "            print(\"A pilha está vazia\")\n",
        "            return -1\n",
        "        else:\n",
        "            valor = self.valores[self.topo]\n",
        "            self.topo -= 1\n",
        "            return valor\n",
        "\n",
        "    def ver_topo(self):\n",
        "        if self.topo != -1:\n",
        "            return self.valores[self.topo]\n",
        "        else:\n",
        "            return -1"
      ]
    },
    {
      "cell_type": "code",
      "execution_count": null,
      "metadata": {
        "id": "FbPXZwAKpWPs"
      },
      "outputs": [],
      "source": [
        "# Dados a serem validados, insira-os como no input a seguir. Nosso for logo mais abaixo irá somente dar um return para as expressões que não atenderem a validação.\n",
        "# c[d]\n",
        "\n",
        "# a{b[c]d}e\n",
        "\n",
        "# a{b(c]d}e\n",
        "\n",
        "# a[b{c}d]e}\n",
        "\n",
        "# a{b(c)\n",
        "\n",
        "# funcionarão os 2 primeiros casos, e os 3 últimos não."
      ]
    },
    {
      "cell_type": "code",
      "execution_count": 13,
      "metadata": {
        "colab": {
          "base_uri": "https://localhost:8080/",
          "height": 55
        },
        "id": "XKQDm364UiWe",
        "outputId": "f0cb2464-e6b2-4654-c0ff-448e4668c20d"
      },
      "outputs": [],
      "source": [
        "expressao = str(input(\"Digite uma expressão: \"))\n",
        "pilha = Pilha(len(expressao))"
      ]
    },
    {
      "cell_type": "code",
      "execution_count": 14,
      "metadata": {
        "id": "L705vNLBbs5V"
      },
      "outputs": [
        {
          "name": "stdout",
          "output_type": "stream",
          "text": [
            "Erro!\n"
          ]
        }
      ],
      "source": [
        "for i in range(len(expressao)):\n",
        "    ch = expressao[i]\n",
        "    if ch == \"{\" or ch == \"[\" or ch == \"(\":\n",
        "        pilha.empilhar(ch)\n",
        "    elif ch == \"}\" or ch == \"]\" or ch == \")\":\n",
        "        if not pilha.pilha_vazia():\n",
        "            chx = str(pilha.desempilhar())\n",
        "            if (\n",
        "                (ch == \"}\" and chx != \"{\")\n",
        "                or (ch == \"]\" and chx != \"[\")\n",
        "                or (ch == \")\" and chx != \"(\")\n",
        "            ):\n",
        "                print(\"Erro: \", ch, \" na posição \", i)\n",
        "                break\n",
        "        else:\n",
        "            print(\"Erro: \", ch, \" na posição \", i)\n",
        "if not pilha.pilha_vazia():\n",
        "    print(\"Erro!\")"
      ]
    }
  ],
  "metadata": {
    "colab": {
      "provenance": []
    },
    "kernelspec": {
      "display_name": "Python 3",
      "name": "python3"
    },
    "language_info": {
      "codemirror_mode": {
        "name": "ipython",
        "version": 3
      },
      "file_extension": ".py",
      "mimetype": "text/x-python",
      "name": "python",
      "nbconvert_exporter": "python",
      "pygments_lexer": "ipython3",
      "version": "3.12.2"
    }
  },
  "nbformat": 4,
  "nbformat_minor": 0
}
