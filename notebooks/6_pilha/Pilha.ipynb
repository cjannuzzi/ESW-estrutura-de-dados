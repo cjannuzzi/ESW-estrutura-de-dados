{
  "cells": [
    {
      "cell_type": "markdown",
      "metadata": {
        "id": "3L3hMZxPloS9"
      },
      "source": [
        "# Pilha"
      ]
    },
    {
      "cell_type": "code",
      "execution_count": 1,
      "metadata": {
        "id": "7R1oTn1dqV1l"
      },
      "outputs": [],
      "source": [
        "import numpy as np"
      ]
    },
    {
      "cell_type": "code",
      "execution_count": 2,
      "metadata": {
        "id": "uTsNap9FqYXN"
      },
      "outputs": [],
      "source": [
        "class Pilha:\n",
        "\n",
        "    def __init__(self, capacidade):  # construtor\n",
        "        self.__capacidade = capacidade  # capacidade da pilha\n",
        "        self.__topo = -1  # topo da pilha\n",
        "        self.__valores = np.empty(\n",
        "            self.__capacidade, dtype=int\n",
        "        )  # array numpy vazio com capacidade igual a capacidade da pilha\n",
        "        # __ torna o atributo privado\n",
        "\n",
        "    def __pilha_cheia(self):  # verifica se a pilha esta cheia\n",
        "        if (\n",
        "            self.__topo == self.__capacidade - 1\n",
        "        ):  # se o topo for igual a capacidade - 1 (ultima posicao do array)\n",
        "            return True  # pilha cheia\n",
        "        else:\n",
        "            return False  # pilha vazia\n",
        "\n",
        "    def __pilha_vazia(self):  # verifica se a pilha esta vazia\n",
        "        if self.__topo == -1:  # se o topo for igual a -1\n",
        "            return True  # pilha vazia\n",
        "        else:\n",
        "            return False  # pilha cheia\n",
        "\n",
        "    def empilhar(self, valor):  # empilha um valor\n",
        "        if self.__pilha_cheia():  # se a pilha estiver cheia\n",
        "            print(\"A pilha está cheia\")  # pilha cheia\n",
        "        else:\n",
        "            self.__topo += (\n",
        "                1  # incrementa o topo da pilha por 1 (ultima posicao do array)\n",
        "            )\n",
        "            self.__valores[self.__topo] = (\n",
        "                valor  # adiciona o valor na ultima posicao do array\n",
        "            )\n",
        "\n",
        "    def desempilhar(self):  # desempilha um valor\n",
        "        if self.__pilha_vazia():  # se a pilha estiver vazia\n",
        "            print(\"A pilha está vazia\")  # pilha vazia\n",
        "        else:\n",
        "            self.__topo -= (\n",
        "                1  # decrementa o topo da pilha por 1 (ultima posicao do array)\n",
        "            )\n",
        "\n",
        "    def ver_topo(self):  # verifica o valor do topo da pilha\n",
        "        if self.__topo != -1:  # se o topo for diferente de -1 (ultima posicao do array)\n",
        "            return self.__valores[self.__topo]  # retorna o valor do topo da pilha\n",
        "        else:\n",
        "            return -1  # se o topo for igual a -1 (ultima posicao do array)"
      ]
    },
    {
      "cell_type": "code",
      "execution_count": 3,
      "metadata": {
        "id": "QtWvabeOq-0U"
      },
      "outputs": [],
      "source": [
        "pilha = Pilha(5)"
      ]
    },
    {
      "cell_type": "code",
      "execution_count": 4,
      "metadata": {
        "colab": {
          "base_uri": "https://localhost:8080/",
          "height": 55
        },
        "id": "MNlDMfOHrCRL",
        "outputId": "7ab89260-93e2-4f48-8931-6d9738c1e19a"
      },
      "outputs": [
        {
          "data": {
            "text/plain": [
              "-1"
            ]
          },
          "execution_count": 4,
          "metadata": {},
          "output_type": "execute_result"
        }
      ],
      "source": [
        "pilha.ver_topo()"
      ]
    },
    {
      "cell_type": "code",
      "execution_count": 5,
      "metadata": {
        "colab": {
          "base_uri": "https://localhost:8080/",
          "height": 55
        },
        "id": "LPneWEkaspzr",
        "outputId": "382175e0-1c18-4517-8aaa-a64f4a2f5297"
      },
      "outputs": [
        {
          "data": {
            "text/plain": [
              "1"
            ]
          },
          "execution_count": 5,
          "metadata": {},
          "output_type": "execute_result"
        }
      ],
      "source": [
        "pilha.empilhar(1)\n",
        "pilha.ver_topo()"
      ]
    },
    {
      "cell_type": "code",
      "execution_count": 14,
      "metadata": {
        "id": "DESk3CzKs3Jr"
      },
      "outputs": [],
      "source": [
        "pilha.empilhar(1)\n",
        "pilha.empilhar(2)\n",
        "pilha.empilhar(3)\n",
        "pilha.empilhar(4)"
      ]
    },
    {
      "cell_type": "code",
      "execution_count": 7,
      "metadata": {
        "colab": {
          "base_uri": "https://localhost:8080/",
          "height": 55
        },
        "id": "ggPHGUVqs6oi",
        "outputId": "fb8b8854-d995-49c5-c71d-11001cf569cd"
      },
      "outputs": [
        {
          "name": "stdout",
          "output_type": "stream",
          "text": [
            "A pilha está cheia\n"
          ]
        }
      ],
      "source": [
        "pilha.empilhar(6)"
      ]
    },
    {
      "cell_type": "code",
      "execution_count": 8,
      "metadata": {
        "colab": {
          "base_uri": "https://localhost:8080/",
          "height": 55
        },
        "id": "RhoPtGMOs_XH",
        "outputId": "c858ad80-9fef-4506-ff7f-6ff211dfa2c1"
      },
      "outputs": [
        {
          "data": {
            "text/plain": [
              "4"
            ]
          },
          "execution_count": 8,
          "metadata": {},
          "output_type": "execute_result"
        }
      ],
      "source": [
        "pilha.ver_topo()"
      ]
    },
    {
      "cell_type": "code",
      "execution_count": 9,
      "metadata": {
        "id": "5HWGcf7BtE8G"
      },
      "outputs": [],
      "source": [
        "pilha.desempilhar()"
      ]
    },
    {
      "cell_type": "code",
      "execution_count": 10,
      "metadata": {
        "colab": {
          "base_uri": "https://localhost:8080/",
          "height": 55
        },
        "id": "wfmWii0UtHPG",
        "outputId": "3a1a9ca0-0a67-4764-9c93-a1db47951afb"
      },
      "outputs": [
        {
          "data": {
            "text/plain": [
              "3"
            ]
          },
          "execution_count": 10,
          "metadata": {},
          "output_type": "execute_result"
        }
      ],
      "source": [
        "pilha.ver_topo()"
      ]
    },
    {
      "cell_type": "code",
      "execution_count": 11,
      "metadata": {
        "id": "2UKSXChKtMbj"
      },
      "outputs": [],
      "source": [
        "pilha.desempilhar()\n",
        "pilha.desempilhar()\n",
        "pilha.desempilhar()"
      ]
    },
    {
      "cell_type": "code",
      "execution_count": 12,
      "metadata": {
        "colab": {
          "base_uri": "https://localhost:8080/",
          "height": 55
        },
        "id": "Vmi31QQUtTJO",
        "outputId": "7af8c276-9f04-4d31-937d-575e24205995"
      },
      "outputs": [
        {
          "data": {
            "text/plain": [
              "1"
            ]
          },
          "execution_count": 12,
          "metadata": {},
          "output_type": "execute_result"
        }
      ],
      "source": [
        "pilha.ver_topo()"
      ]
    },
    {
      "cell_type": "code",
      "execution_count": 13,
      "metadata": {
        "colab": {
          "base_uri": "https://localhost:8080/",
          "height": 55
        },
        "id": "fTia1ivdtei2",
        "outputId": "b1306403-9418-4a41-ecd2-388c8722d4b0"
      },
      "outputs": [],
      "source": [
        "pilha.desempilhar()"
      ]
    }
  ],
  "metadata": {
    "colab": {
      "provenance": []
    },
    "kernelspec": {
      "display_name": "Python 3",
      "name": "python3"
    },
    "language_info": {
      "codemirror_mode": {
        "name": "ipython",
        "version": 3
      },
      "file_extension": ".py",
      "mimetype": "text/x-python",
      "name": "python",
      "nbconvert_exporter": "python",
      "pygments_lexer": "ipython3",
      "version": "3.12.2"
    }
  },
  "nbformat": 4,
  "nbformat_minor": 0
}
