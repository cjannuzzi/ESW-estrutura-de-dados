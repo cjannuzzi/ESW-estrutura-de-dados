{
  "cells": [
    {
      "cell_type": "markdown",
      "metadata": {
        "id": "eJbkoKIhVtuf"
      },
      "source": [
        "# Manipulação de strings"
      ]
    },
    {
      "cell_type": "code",
      "execution_count": null,
      "metadata": {
        "colab": {
          "base_uri": "https://localhost:8080/",
          "height": 34
        },
        "id": "TspZ9SRGqF1l",
        "outputId": "fedb2df2-3ce1-4272-d2ea-184b96dc6ed9"
      },
      "outputs": [
        {
          "name": "stdout",
          "output_type": "stream",
          "text": [
            "casaco\n"
          ]
        }
      ],
      "source": [
        "a = \"casaco\"\n",
        "print(a)"
      ]
    },
    {
      "cell_type": "code",
      "execution_count": null,
      "metadata": {
        "colab": {
          "base_uri": "https://localhost:8080/",
          "height": 34
        },
        "id": "ECcuB0rPqNLV",
        "outputId": "48d0e644-c267-48ca-8857-1ad6e8512de3"
      },
      "outputs": [
        {
          "name": "stdout",
          "output_type": "stream",
          "text": [
            "CASACO\n"
          ]
        }
      ],
      "source": [
        "maiuscula = a.upper()\n",
        "print(maiuscula)"
      ]
    },
    {
      "cell_type": "code",
      "execution_count": null,
      "metadata": {
        "colab": {
          "base_uri": "https://localhost:8080/",
          "height": 34
        },
        "id": "Y7ew8u5nqa0s",
        "outputId": "b5c433e1-4750-4185-9a79-9a0903f3c27f"
      },
      "outputs": [
        {
          "name": "stdout",
          "output_type": "stream",
          "text": [
            "casaco\n"
          ]
        }
      ],
      "source": [
        "minuscula = maiuscula.lower()\n",
        "print(minuscula)"
      ]
    },
    {
      "cell_type": "code",
      "execution_count": null,
      "metadata": {
        "colab": {
          "base_uri": "https://localhost:8080/",
          "height": 34
        },
        "id": "_n4eG1K3qjIG",
        "outputId": "294a44e2-d48a-431e-8150-66fd9c97ef22"
      },
      "outputs": [
        {
          "name": "stdout",
          "output_type": "stream",
          "text": [
            "Casaco\n"
          ]
        }
      ],
      "source": [
        "capital = a.capitalize()\n",
        "print(capital)"
      ]
    },
    {
      "cell_type": "code",
      "execution_count": null,
      "metadata": {
        "colab": {
          "base_uri": "https://localhost:8080/",
          "height": 34
        },
        "id": "7cb8yYi_qukU",
        "outputId": "dad1e3c6-c737-4362-e2dc-0415b1522236"
      },
      "outputs": [
        {
          "name": "stdout",
          "output_type": "stream",
          "text": [
            "casa\n"
          ]
        }
      ],
      "source": [
        "metade_palavra = a[0:4]\n",
        "print(metade_palavra)"
      ]
    },
    {
      "cell_type": "code",
      "execution_count": null,
      "metadata": {
        "colab": {
          "base_uri": "https://localhost:8080/",
          "height": 34
        },
        "id": "M0zabxMJrIfI",
        "outputId": "4f3d24ea-06e0-4aac-f01b-91cf54ca1f77"
      },
      "outputs": [
        {
          "name": "stdout",
          "output_type": "stream",
          "text": [
            "aco\n"
          ]
        }
      ],
      "source": [
        "ultimas_letras = a[3:]\n",
        "print(ultimas_letras)"
      ]
    },
    {
      "cell_type": "code",
      "execution_count": null,
      "metadata": {
        "colab": {
          "base_uri": "https://localhost:8080/",
          "height": 50
        },
        "id": "F4VyXvoWrT1y",
        "outputId": "eff6d4a9-8b44-4b76-a353-3e6eb2df6919"
      },
      "outputs": [
        {
          "name": "stdout",
          "output_type": "stream",
          "text": [
            "casaco\n",
            "casinha\n"
          ]
        }
      ],
      "source": [
        "b = a.replace(\"aco\", \"inha\")\n",
        "print(a)\n",
        "print(b)"
      ]
    },
    {
      "cell_type": "code",
      "execution_count": null,
      "metadata": {
        "colab": {
          "base_uri": "https://localhost:8080/",
          "height": 34
        },
        "id": "wKLt-VwLrk8F",
        "outputId": "c30a34f8-88f3-4cd2-a175-878fc282b838"
      },
      "outputs": [
        {
          "name": "stdout",
          "output_type": "stream",
          "text": [
            "casaca\n"
          ]
        }
      ],
      "source": [
        "c = a.replace(\"o\", \"a\")\n",
        "print(c)"
      ]
    },
    {
      "cell_type": "code",
      "execution_count": null,
      "metadata": {
        "colab": {
          "base_uri": "https://localhost:8080/",
          "height": 34
        },
        "id": "2k0QLQmirwVa",
        "outputId": "bc51d4c7-0f16-467e-97a6-8e2a763bd8d5"
      },
      "outputs": [
        {
          "data": {
            "text/plain": [
              "2"
            ]
          },
          "execution_count": 11,
          "metadata": {
            "tags": []
          },
          "output_type": "execute_result"
        }
      ],
      "source": [
        "c.find(\"s\")"
      ]
    },
    {
      "cell_type": "code",
      "execution_count": null,
      "metadata": {
        "colab": {
          "base_uri": "https://localhost:8080/",
          "height": 34
        },
        "id": "4NANRZUyr6Yu",
        "outputId": "306148fd-6fc6-4cdf-ed08-d8689b2a38fe"
      },
      "outputs": [
        {
          "data": {
            "text/plain": [
              "1"
            ]
          },
          "execution_count": 12,
          "metadata": {
            "tags": []
          },
          "output_type": "execute_result"
        }
      ],
      "source": [
        "c.find(\"a\")"
      ]
    },
    {
      "cell_type": "code",
      "execution_count": null,
      "metadata": {
        "colab": {
          "base_uri": "https://localhost:8080/",
          "height": 34
        },
        "id": "HKvr0t0Ar_gH",
        "outputId": "493704a0-5337-4d39-a786-f774277affd2"
      },
      "outputs": [
        {
          "data": {
            "text/plain": [
              "-1"
            ]
          },
          "execution_count": 13,
          "metadata": {
            "tags": []
          },
          "output_type": "execute_result"
        }
      ],
      "source": [
        "c.find(\"b\")"
      ]
    },
    {
      "cell_type": "code",
      "execution_count": null,
      "metadata": {
        "colab": {
          "base_uri": "https://localhost:8080/",
          "height": 34
        },
        "id": "fdYqKZ0bsQoH",
        "outputId": "4e653f85-9774-4728-ace1-0cbee2c47fbf"
      },
      "outputs": [
        {
          "name": "stdout",
          "output_type": "stream",
          "text": [
            "8\n"
          ]
        }
      ],
      "source": [
        "e = \" casaco \"\n",
        "print(len(e))"
      ]
    },
    {
      "cell_type": "code",
      "execution_count": null,
      "metadata": {
        "colab": {
          "base_uri": "https://localhost:8080/",
          "height": 34
        },
        "id": "Hk1OiifYsbwt",
        "outputId": "6c51d68c-3796-425a-d179-7f7f8716708e"
      },
      "outputs": [
        {
          "name": "stdout",
          "output_type": "stream",
          "text": [
            "casaco\n"
          ]
        }
      ],
      "source": [
        "f = e.strip()  # strip retira espaços em branco antes e depois da palavra\n",
        "print(f)"
      ]
    },
    {
      "cell_type": "code",
      "execution_count": null,
      "metadata": {
        "colab": {
          "base_uri": "https://localhost:8080/",
          "height": 34
        },
        "id": "Kalq5EZAsive",
        "outputId": "ecd99caa-df02-4b6d-e5c8-852efada9de5"
      },
      "outputs": [
        {
          "name": "stdout",
          "output_type": "stream",
          "text": [
            "6\n"
          ]
        }
      ],
      "source": [
        "print(len(f))"
      ]
    },
    {
      "cell_type": "code",
      "execution_count": null,
      "metadata": {
        "id": "dAiQ-Tvvsq5w"
      },
      "outputs": [],
      "source": [
        "n1 = 14\n",
        "n2 = 16"
      ]
    },
    {
      "cell_type": "code",
      "execution_count": null,
      "metadata": {
        "colab": {
          "base_uri": "https://localhost:8080/",
          "height": 34
        },
        "id": "790k0NTEsuiq",
        "outputId": "300bfef5-574f-40ce-f374-b2c730c9df63"
      },
      "outputs": [
        {
          "name": "stdout",
          "output_type": "stream",
          "text": [
            "Dividindo 14 por 16 o resultado é 0.875\n"
          ]
        }
      ],
      "source": [
        "print(f\"Dividindo {n1} por {n2} o resultado é {n1/n2}\")"
      ]
    }
  ],
  "metadata": {
    "colab": {
      "provenance": []
    },
    "kernelspec": {
      "display_name": "Python 3",
      "name": "python3"
    }
  },
  "nbformat": 4,
  "nbformat_minor": 0
}
