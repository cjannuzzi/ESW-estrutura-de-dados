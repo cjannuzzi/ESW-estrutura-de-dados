{
  "nbformat": 4,
  "nbformat_minor": 0,
  "metadata": {
    "colab": {
      "provenance": []
    },
    "kernelspec": {
      "name": "python3",
      "display_name": "Python 3"
    }
  },
  "cells": [
    {
      "cell_type": "markdown",
      "metadata": {
        "id": "pt5Crzm9dcS-"
      },
      "source": [
        "# Operador condicional"
      ]
    },
    {
      "cell_type": "code",
      "metadata": {
        "id": "hLMwOWhm9EQH",
        "colab": {
          "base_uri": "https://localhost:8080/",
          "height": 34
        },
        "outputId": "2488da00-8149-4a8a-ed4f-c5fb2ee643cc"
      },
      "source": [
        "5 > 3"
      ],
      "execution_count": null,
      "outputs": [
        {
          "output_type": "execute_result",
          "data": {
            "text/plain": [
              "True"
            ]
          },
          "metadata": {
            "tags": []
          },
          "execution_count": 1
        }
      ]
    },
    {
      "cell_type": "code",
      "metadata": {
        "id": "l0Ipmn5t9UZM",
        "colab": {
          "base_uri": "https://localhost:8080/",
          "height": 34
        },
        "outputId": "772d91dc-9337-4b13-bd77-1beac4f97035"
      },
      "source": [
        "if 5 > 3:\n",
        "  print('5 é maior que 3')\n",
        "#print('teste')"
      ],
      "execution_count": null,
      "outputs": [
        {
          "output_type": "stream",
          "text": [
            "5 é maior que 3\n"
          ],
          "name": "stdout"
        }
      ]
    },
    {
      "cell_type": "code",
      "metadata": {
        "id": "-bnw5b_o-EXg",
        "colab": {
          "base_uri": "https://localhost:8080/",
          "height": 34
        },
        "outputId": "56a979d0-5970-4178-bd80-9229adee1d1f"
      },
      "source": [
        "if 5 > 4:\n",
        "  print('5 é maior')\n",
        "else:\n",
        "  print('5 não é maior')"
      ],
      "execution_count": null,
      "outputs": [
        {
          "output_type": "stream",
          "text": [
            "5 é maior\n"
          ],
          "name": "stdout"
        }
      ]
    },
    {
      "cell_type": "code",
      "metadata": {
        "id": "ed6VhpYG_CPo",
        "colab": {
          "base_uri": "https://localhost:8080/",
          "height": 34
        },
        "outputId": "c4132ddf-dadf-4c1a-b458-6fe878b2611a"
      },
      "source": [
        "n = 9\n",
        "if n == 4:\n",
        "  print('n é igual a 4')\n",
        "else:\n",
        "  if n == 3:\n",
        "    print('n é igual a 3')\n",
        "  else:\n",
        "    print('n não é igual a 4 nem 3')"
      ],
      "execution_count": null,
      "outputs": [
        {
          "output_type": "stream",
          "text": [
            "n não é igual a 4 nem 3\n"
          ],
          "name": "stdout"
        }
      ]
    },
    {
      "cell_type": "code",
      "metadata": {
        "id": "MXvFuxeU_jl4",
        "colab": {
          "base_uri": "https://localhost:8080/",
          "height": 34
        },
        "outputId": "d1050db2-c6c9-4f03-cde9-b7e0e5e7636c"
      },
      "source": [
        "x = 1\n",
        "y = 5\n",
        "if (x > 1) or (y % 2 == 0):\n",
        "  print('x é maior que 1 e y é par')\n",
        "else:\n",
        "  print('Uma ou nenhuma das condições foram satisfeitas')"
      ],
      "execution_count": null,
      "outputs": [
        {
          "output_type": "stream",
          "text": [
            "Uma ou nenhuma das condições foram satisfeitas\n"
          ],
          "name": "stdout"
        }
      ]
    }
  ]
}