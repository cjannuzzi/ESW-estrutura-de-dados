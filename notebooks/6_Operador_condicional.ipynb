{
  "cells": [
    {
      "cell_type": "markdown",
      "metadata": {
        "id": "pt5Crzm9dcS-"
      },
      "source": [
        "# Operador condicional"
      ]
    },
    {
      "cell_type": "code",
      "execution_count": 1,
      "metadata": {
        "colab": {
          "base_uri": "https://localhost:8080/",
          "height": 34
        },
        "id": "hLMwOWhm9EQH",
        "outputId": "2488da00-8149-4a8a-ed4f-c5fb2ee643cc"
      },
      "outputs": [
        {
          "data": {
            "text/plain": [
              "True"
            ]
          },
          "execution_count": 1,
          "metadata": {},
          "output_type": "execute_result"
        }
      ],
      "source": [
        "5 > 3"
      ]
    },
    {
      "cell_type": "code",
      "execution_count": 2,
      "metadata": {
        "colab": {
          "base_uri": "https://localhost:8080/",
          "height": 34
        },
        "id": "l0Ipmn5t9UZM",
        "outputId": "772d91dc-9337-4b13-bd77-1beac4f97035"
      },
      "outputs": [
        {
          "name": "stdout",
          "output_type": "stream",
          "text": [
            "5 é maior que 3\n"
          ]
        }
      ],
      "source": [
        "if 5 > 3:\n",
        "    print(\"5 é maior que 3\")\n",
        "# print('teste')"
      ]
    },
    {
      "cell_type": "code",
      "execution_count": 3,
      "metadata": {
        "colab": {
          "base_uri": "https://localhost:8080/",
          "height": 34
        },
        "id": "-bnw5b_o-EXg",
        "outputId": "56a979d0-5970-4178-bd80-9229adee1d1f"
      },
      "outputs": [
        {
          "name": "stdout",
          "output_type": "stream",
          "text": [
            "5 é maior\n"
          ]
        }
      ],
      "source": [
        "if 5 > 4:\n",
        "    print(\"5 é maior\")\n",
        "else:\n",
        "    print(\"5 não é maior\")"
      ]
    },
    {
      "cell_type": "code",
      "execution_count": 4,
      "metadata": {
        "colab": {
          "base_uri": "https://localhost:8080/",
          "height": 34
        },
        "id": "ed6VhpYG_CPo",
        "outputId": "c4132ddf-dadf-4c1a-b458-6fe878b2611a"
      },
      "outputs": [
        {
          "name": "stdout",
          "output_type": "stream",
          "text": [
            "n não é igual a 4 nem 3\n"
          ]
        }
      ],
      "source": [
        "n = 9\n",
        "if n == 4:\n",
        "    print(\"n é igual a 4\")\n",
        "else:\n",
        "    if n == 3:\n",
        "        print(\"n é igual a 3\")\n",
        "    else:\n",
        "        print(\"n não é igual a 4 nem 3\")"
      ]
    },
    {
      "cell_type": "code",
      "execution_count": 5,
      "metadata": {
        "colab": {
          "base_uri": "https://localhost:8080/",
          "height": 34
        },
        "id": "MXvFuxeU_jl4",
        "outputId": "d1050db2-c6c9-4f03-cde9-b7e0e5e7636c"
      },
      "outputs": [
        {
          "name": "stdout",
          "output_type": "stream",
          "text": [
            "Uma ou nenhuma das condições foram satisfeitas\n"
          ]
        }
      ],
      "source": [
        "x = 1\n",
        "y = 5\n",
        "if (x > 1) or (y % 2 == 0):\n",
        "    print(\"x é maior que 1 e y é par\")\n",
        "else:\n",
        "    print(\"Uma ou nenhuma das condições foram satisfeitas\")"
      ]
    }
  ],
  "metadata": {
    "colab": {
      "provenance": []
    },
    "kernelspec": {
      "display_name": "Python 3",
      "name": "python3"
    },
    "language_info": {
      "codemirror_mode": {
        "name": "ipython",
        "version": 3
      },
      "file_extension": ".py",
      "mimetype": "text/x-python",
      "name": "python",
      "nbconvert_exporter": "python",
      "pygments_lexer": "ipython3",
      "version": "3.12.2"
    }
  },
  "nbformat": 4,
  "nbformat_minor": 0
}
