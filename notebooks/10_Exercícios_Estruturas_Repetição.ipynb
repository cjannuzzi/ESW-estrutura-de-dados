{
  "cells": [
    {
      "cell_type": "markdown",
      "metadata": {
        "id": "c9BudZ2gNE2n"
      },
      "source": [
        "# Exercício 1\n",
        "\n",
        "Ler 5 notas e informar a média\n"
      ]
    },
    {
      "cell_type": "markdown",
      "metadata": {
        "id": "RFJ-2UWJSviN"
      },
      "source": [
        "## For"
      ]
    },
    {
      "cell_type": "code",
      "execution_count": 1,
      "metadata": {
        "id": "SVlPSs0oS1XU"
      },
      "outputs": [],
      "source": [
        "nota = media = soma = 0"
      ]
    },
    {
      "cell_type": "code",
      "execution_count": 2,
      "metadata": {
        "colab": {
          "base_uri": "https://localhost:8080/",
          "height": 34
        },
        "id": "H77cGoceod5M",
        "outputId": "44fccf08-190e-497f-e280-cfa1182f441c"
      },
      "outputs": [
        {
          "name": "stdout",
          "output_type": "stream",
          "text": [
            "0 0 0\n"
          ]
        }
      ],
      "source": [
        "print(nota, media, soma)"
      ]
    },
    {
      "cell_type": "code",
      "execution_count": 3,
      "metadata": {
        "colab": {
          "base_uri": "https://localhost:8080/",
          "height": 101
        },
        "id": "y69_FUgZTFAa",
        "outputId": "e80e30d7-f8ab-4d4c-a6b5-028afa3a161b"
      },
      "outputs": [],
      "source": [
        "for _ in range(1, 6):  # Repete 5 vezes\n",
        "    nota = float(input(\"Digite a nota \"))\n",
        "    soma += nota"
      ]
    },
    {
      "cell_type": "code",
      "execution_count": 4,
      "metadata": {
        "colab": {
          "base_uri": "https://localhost:8080/",
          "height": 34
        },
        "id": "PcZJcwYxbUmG",
        "outputId": "cb0df112-e562-46a0-8cb9-75711d48f206"
      },
      "outputs": [
        {
          "name": "stdout",
          "output_type": "stream",
          "text": [
            "22.0\n"
          ]
        }
      ],
      "source": [
        "print(soma)"
      ]
    },
    {
      "cell_type": "code",
      "execution_count": 5,
      "metadata": {
        "colab": {
          "base_uri": "https://localhost:8080/",
          "height": 34
        },
        "id": "EfSe5EF6bYCA",
        "outputId": "4463ec53-74d1-43e0-f8c3-c0e9459e5c2b"
      },
      "outputs": [
        {
          "name": "stdout",
          "output_type": "stream",
          "text": [
            "A média é  4.4\n"
          ]
        }
      ],
      "source": [
        "media = soma / 5\n",
        "print(\"A média é \", media)"
      ]
    },
    {
      "cell_type": "markdown",
      "metadata": {
        "id": "-44bufKRbeBf"
      },
      "source": [
        "## While"
      ]
    },
    {
      "cell_type": "code",
      "execution_count": 6,
      "metadata": {
        "colab": {
          "base_uri": "https://localhost:8080/",
          "height": 118
        },
        "id": "5O23ONtfbf9w",
        "outputId": "c6abb714-3486-435e-a004-979106f4ba6f"
      },
      "outputs": [
        {
          "name": "stdout",
          "output_type": "stream",
          "text": [
            "A média é  4.4\n"
          ]
        }
      ],
      "source": [
        "nota = soma = 0\n",
        "numero = 1\n",
        "while numero <= 5:\n",
        "    nota = float(input(\"Digite a nota:\"))\n",
        "    soma += nota\n",
        "    numero += 1\n",
        "print(\"A média é \", soma / 5)"
      ]
    },
    {
      "cell_type": "markdown",
      "metadata": {
        "id": "QK3YAlgdN0t3"
      },
      "source": [
        "# Exercício 2\n",
        "\n",
        "Imprimir a tabuada do número 3 (3 x 1 = 1 - 3 x 10 = 30)\n"
      ]
    },
    {
      "cell_type": "markdown",
      "metadata": {
        "id": "DgR_HhoqcKlH"
      },
      "source": [
        "## For"
      ]
    },
    {
      "cell_type": "code",
      "execution_count": 7,
      "metadata": {
        "colab": {
          "base_uri": "https://localhost:8080/",
          "height": 185
        },
        "id": "17IiwQLVcKM1",
        "outputId": "7c2b6ec8-1bb2-4b5a-c0e0-002c0c7d2130"
      },
      "outputs": [
        {
          "name": "stdout",
          "output_type": "stream",
          "text": [
            "3 x 1 = 3\n",
            "3 x 2 = 6\n",
            "3 x 3 = 9\n",
            "3 x 4 = 12\n",
            "3 x 5 = 15\n",
            "3 x 6 = 18\n",
            "3 x 7 = 21\n",
            "3 x 8 = 24\n",
            "3 x 9 = 27\n",
            "3 x 10 = 30\n"
          ]
        }
      ],
      "source": [
        "for i in range(1, 11):\n",
        "    print(\"3 x {} = {}\".format(i, 3 * i))"
      ]
    },
    {
      "cell_type": "markdown",
      "metadata": {
        "id": "7HRSb00ycuip"
      },
      "source": [
        "## While"
      ]
    },
    {
      "cell_type": "code",
      "execution_count": 8,
      "metadata": {
        "colab": {
          "base_uri": "https://localhost:8080/",
          "height": 185
        },
        "id": "rR51zPtEcuKg",
        "outputId": "b05cb38c-a391-4327-d976-a5a769945559"
      },
      "outputs": [
        {
          "name": "stdout",
          "output_type": "stream",
          "text": [
            "3 x 1 = 3\n",
            "3 x 2 = 6\n",
            "3 x 3 = 9\n",
            "3 x 4 = 12\n",
            "3 x 5 = 15\n",
            "3 x 6 = 18\n",
            "3 x 7 = 21\n",
            "3 x 8 = 24\n",
            "3 x 9 = 27\n",
            "3 x 10 = 30\n"
          ]
        }
      ],
      "source": [
        "numero = 1\n",
        "while numero <= 10:\n",
        "    print(\"3 x {} = {}\".format(numero, 3 * numero))\n",
        "    numero += 1"
      ]
    }
  ],
  "metadata": {
    "colab": {
      "provenance": []
    },
    "kernelspec": {
      "display_name": "Python 3",
      "name": "python3"
    },
    "language_info": {
      "codemirror_mode": {
        "name": "ipython",
        "version": 3
      },
      "file_extension": ".py",
      "mimetype": "text/x-python",
      "name": "python",
      "nbconvert_exporter": "python",
      "pygments_lexer": "ipython3",
      "version": "3.12.2"
    }
  },
  "nbformat": 4,
  "nbformat_minor": 0
}
