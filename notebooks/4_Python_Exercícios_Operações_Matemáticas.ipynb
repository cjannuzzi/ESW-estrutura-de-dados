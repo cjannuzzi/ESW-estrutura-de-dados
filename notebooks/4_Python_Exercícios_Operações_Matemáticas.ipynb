{
  "cells": [
    {
      "cell_type": "markdown",
      "metadata": {
        "id": "c9BudZ2gNE2n"
      },
      "source": [
        "# Exercício 1\n",
        "\n",
        "Ler dois números inteiros, executar e mostrar o resultado das seguintes operações: adição, subtração, multiplicação,divisão e potenciação do primeiro pelo segundo número. \n"
      ]
    },
    {
      "cell_type": "code",
      "execution_count": 10,
      "metadata": {
        "colab": {
          "base_uri": "https://localhost:8080/",
          "height": 50
        },
        "id": "iYgw0XGvM0Xz",
        "outputId": "be50b458-f3d1-4ce4-fdc5-b664ac98f4a7"
      },
      "outputs": [],
      "source": [
        "numero1 = int(input(\"Digite o primeiro número: \"))\n",
        "numero2 = int(input(\"Digite o segundo número: \"))"
      ]
    },
    {
      "cell_type": "code",
      "execution_count": 11,
      "metadata": {
        "colab": {
          "base_uri": "https://localhost:8080/",
          "height": 34
        },
        "id": "4iPC34bCkDUF",
        "outputId": "0d915457-890e-419a-dab2-9b16b2cb2af0"
      },
      "outputs": [
        {
          "name": "stdout",
          "output_type": "stream",
          "text": [
            "5 10\n"
          ]
        }
      ],
      "source": [
        "print(numero1, numero2)"
      ]
    },
    {
      "cell_type": "code",
      "execution_count": 12,
      "metadata": {
        "id": "Dy_UFha_Nb8o"
      },
      "outputs": [],
      "source": [
        "adicao = numero1 + numero2\n",
        "subtracao = numero1 - numero2\n",
        "multiplicacao = numero1 * numero2\n",
        "divisao = numero1 / numero2\n",
        "potenciacao = numero1**numero2"
      ]
    },
    {
      "cell_type": "code",
      "execution_count": 13,
      "metadata": {
        "colab": {
          "base_uri": "https://localhost:8080/",
          "height": 84
        },
        "id": "59F8tj9qNnuF",
        "outputId": "d82092a9-3b8e-4d02-8adb-93b0aa075ed1"
      },
      "outputs": [
        {
          "name": "stdout",
          "output_type": "stream",
          "text": [
            "Adição:  15\n",
            "Subtração:  -5\n",
            "Multiplicação:  50\n",
            "Divisão:  0.5\n",
            "Potenciação:  9765625\n"
          ]
        }
      ],
      "source": [
        "print(\"Adição: \", adicao)\n",
        "print(\"Subtração: \", subtracao)\n",
        "print(\"Multiplicação: \", multiplicacao)\n",
        "print(\"Divisão: \", round(divisao, 2))\n",
        "print(\"Potenciação: \", potenciacao)"
      ]
    },
    {
      "cell_type": "markdown",
      "metadata": {
        "id": "QK3YAlgdN0t3"
      },
      "source": [
        "# Exercício 2\n",
        "\n",
        "Efetuar o cálculo da quantidade de litros de combustível gasto em uma viagem, utilizando um automóvel que faz 12 Km por litro. Para obter o cálculo, o usuário deve fornecer o tempo gasto na viagem e a velocidade média durante ela. Desta forma, será possível obter a distância percorrida com a fórmula DISTANCIA = TEMPO * VELOCIDADE. Tendo o valor da distância, basta calcular a quantidade de litros de combustível utilizada na viagem, com a fórmula: LITROS_USADOS = DISTANCIA / 12. O programa deve apresentar os valores da velocidade média, tempo gasto na viagem, a distância percorrida e a quantidade de litros utilizada na viagem"
      ]
    },
    {
      "cell_type": "code",
      "execution_count": 14,
      "metadata": {
        "colab": {
          "base_uri": "https://localhost:8080/",
          "height": 50
        },
        "id": "FIz6i8_LOByQ",
        "outputId": "49ff91d1-77b7-4b93-dfe5-cbb3ab1a4a40"
      },
      "outputs": [],
      "source": [
        "tempo = float(input(\"Digite o tempo gasto na viagem: \"))  # tempo considerado em horas\n",
        "velocidade = float(input(\"Digite a velocidade média: \"))  # velocidade em km/h"
      ]
    },
    {
      "cell_type": "code",
      "execution_count": 15,
      "metadata": {
        "colab": {
          "base_uri": "https://localhost:8080/",
          "height": 34
        },
        "id": "-GFuR-Vpkh6C",
        "outputId": "6d130c84-8e11-40ab-bcdd-64baf24af13d"
      },
      "outputs": [
        {
          "name": "stdout",
          "output_type": "stream",
          "text": [
            "2.0 80.0\n"
          ]
        }
      ],
      "source": [
        "print(tempo, velocidade)"
      ]
    },
    {
      "cell_type": "code",
      "execution_count": 16,
      "metadata": {
        "id": "g1-4CUlMORsU"
      },
      "outputs": [],
      "source": [
        "distancia = tempo * velocidade\n",
        "litros_usados = distancia / 12"
      ]
    },
    {
      "cell_type": "code",
      "execution_count": 17,
      "metadata": {
        "colab": {
          "base_uri": "https://localhost:8080/",
          "height": 84
        },
        "id": "9uVrqKjhOcAV",
        "outputId": "d9daf573-5b93-40ae-8125-515221edee49"
      },
      "outputs": [
        {
          "name": "stdout",
          "output_type": "stream",
          "text": [
            "Velocidade média:  80.0\n",
            "Tempo gasto na viagem:  2.0\n",
            "Distância percorrida: 160.0\n",
            "Quantidade de litros: 13.3\n"
          ]
        }
      ],
      "source": [
        "print(\"Velocidade média: \", velocidade)\n",
        "print(\"Tempo gasto na viagem: \", tempo)\n",
        "print(\"Distância percorrida:\", distancia)\n",
        "print(\"Quantidade de litros:\", round(litros_usados, 1))"
      ]
    }
  ],
  "metadata": {
    "colab": {
      "provenance": []
    },
    "kernelspec": {
      "display_name": "Python 3",
      "name": "python3"
    },
    "language_info": {
      "codemirror_mode": {
        "name": "ipython",
        "version": 3
      },
      "file_extension": ".py",
      "mimetype": "text/x-python",
      "name": "python",
      "nbconvert_exporter": "python",
      "pygments_lexer": "ipython3",
      "version": "0.0.0"
    }
  },
  "nbformat": 4,
  "nbformat_minor": 0
}
