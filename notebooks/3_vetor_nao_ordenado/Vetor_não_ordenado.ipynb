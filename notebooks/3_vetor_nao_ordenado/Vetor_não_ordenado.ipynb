{
  "cells": [
    {
      "cell_type": "markdown",
      "metadata": {
        "id": "3L3hMZxPloS9"
      },
      "source": [
        "# Vetor não ordenado"
      ]
    },
    {
      "cell_type": "code",
      "execution_count": 1,
      "metadata": {
        "id": "ilKOzbksUosx"
      },
      "outputs": [],
      "source": [
        "import numpy as np"
      ]
    },
    {
      "cell_type": "code",
      "execution_count": 2,
      "metadata": {
        "id": "EI9-ginDUr7z"
      },
      "outputs": [],
      "source": [
        "class VetorNaoOrdenado:\n",
        "\n",
        "    def __init__(self, capacidade):  # método construtor\n",
        "        self.capacidade = capacidade  # atributo\n",
        "        self.ultima_posicao = -1  # atributo\n",
        "        self.valores = np.empty(\n",
        "            self.capacidade, dtype=int\n",
        "        )  # array vario pelo .empty( self.capacidade será o shape e será criado de acordo com o que o usuário passar como parâmetro). dtype=int = tipo inteiro\n",
        "\n",
        "    # O(n)\n",
        "    def imprime(self):  # imprime os valores do vetor (array)\n",
        "        if self.ultima_posicao == -1:  # se o array estiver vazio\n",
        "            print(\"O vetor está vazio\")\n",
        "        else:\n",
        "            for i in range(\n",
        "                self.ultima_posicao + 1\n",
        "            ):  # percorre o array de acordo com a quantidade de elementos\n",
        "                print(i, \" - \", self.valores[i])  # imprime o valor\n",
        "\n",
        "    # O(1) - O(2)\n",
        "    def insere(self, valor):  # insere um valor no array\n",
        "        if (\n",
        "            self.ultima_posicao == self.capacidade - 1\n",
        "        ):  # se o array estiver cheio (ultima_posicao = capacidade - 1)\n",
        "            print(\"Capacidade máxima atingida\")\n",
        "        else:  # se o array não estiver cheio\n",
        "            self.ultima_posicao += 1  # incrementa a ultima_posicao\n",
        "            self.valores[self.ultima_posicao] = valor  # adiciona o valor\n",
        "\n",
        "    # O(n)\n",
        "    def pesquisar(\n",
        "        self, valor\n",
        "    ):  # pesquisa um valor no array. UTILIZAREMOS A PESQUISA LINEAR!\n",
        "        for i in range(self.ultima_posicao + 1):  # percorre o array\n",
        "            if valor == self.valores[i]:  # se o valor for igual ao valor do array\n",
        "                return i  # retorna a posicao\n",
        "        return -1  # se o valor não for encontrado\n",
        "\n",
        "    # O(n)\n",
        "    def excluir(self, valor):  # exclui um valor no array\n",
        "        posicao = self.pesquisar(valor)\n",
        "        if posicao == -1:  # se o valor não for encontrado\n",
        "            return -1  #\n",
        "        else:  # se o valor for encontrado\n",
        "            for i in range(\n",
        "                posicao, self.ultima_posicao\n",
        "            ):  # percorre o array de acordo com a quantidade de elementos\n",
        "                self.valores[i] = self.valores[i + 1]  # substitui o valor\n",
        "\n",
        "            self.ultima_posicao -= 1  # decrementa a ultima_posicao"
      ]
    },
    {
      "cell_type": "code",
      "execution_count": 3,
      "metadata": {
        "id": "v4yb7C3nV5y6"
      },
      "outputs": [],
      "source": [
        "vetor = VetorNaoOrdenado(5)"
      ]
    },
    {
      "cell_type": "code",
      "execution_count": 4,
      "metadata": {
        "colab": {
          "base_uri": "https://localhost:8080/",
          "height": 55
        },
        "id": "1HsqEF2-V-rM",
        "outputId": "ec64b0c0-8969-4525-a554-70414803c373"
      },
      "outputs": [
        {
          "name": "stdout",
          "output_type": "stream",
          "text": [
            "O vetor está vazio\n"
          ]
        }
      ],
      "source": [
        "vetor.imprime()"
      ]
    },
    {
      "cell_type": "code",
      "execution_count": 5,
      "metadata": {
        "id": "6pmM0PjSXFzX"
      },
      "outputs": [],
      "source": [
        "vetor.insere(2)"
      ]
    },
    {
      "cell_type": "code",
      "execution_count": 6,
      "metadata": {
        "colab": {
          "base_uri": "https://localhost:8080/",
          "height": 55
        },
        "id": "OlOBAevAXI6A",
        "outputId": "0dea3224-bd46-4077-b1db-5c8d8324c2c4"
      },
      "outputs": [
        {
          "name": "stdout",
          "output_type": "stream",
          "text": [
            "0  -  2\n"
          ]
        }
      ],
      "source": [
        "vetor.imprime()"
      ]
    },
    {
      "cell_type": "code",
      "execution_count": 7,
      "metadata": {
        "id": "k1oiT4_aXMbK"
      },
      "outputs": [],
      "source": [
        "vetor.insere(3)\n",
        "vetor.insere(5)\n",
        "vetor.insere(8)\n",
        "vetor.insere(1)"
      ]
    },
    {
      "cell_type": "code",
      "execution_count": 8,
      "metadata": {
        "colab": {
          "base_uri": "https://localhost:8080/",
          "height": 108
        },
        "id": "nJFsUmEgXZF9",
        "outputId": "51c2f94f-c345-4892-aa2e-ca681ae329d3"
      },
      "outputs": [
        {
          "name": "stdout",
          "output_type": "stream",
          "text": [
            "0  -  2\n",
            "1  -  3\n",
            "2  -  5\n",
            "3  -  8\n",
            "4  -  1\n"
          ]
        }
      ],
      "source": [
        "vetor.imprime()"
      ]
    },
    {
      "cell_type": "code",
      "execution_count": 9,
      "metadata": {
        "id": "iZ6YDtL6Xcov"
      },
      "outputs": [
        {
          "name": "stdout",
          "output_type": "stream",
          "text": [
            "Capacidade máxima atingida\n"
          ]
        }
      ],
      "source": [
        "vetor.insere(7)"
      ]
    },
    {
      "cell_type": "code",
      "execution_count": 10,
      "metadata": {
        "colab": {
          "base_uri": "https://localhost:8080/",
          "height": 125
        },
        "id": "JyOP4eFwYhfN",
        "outputId": "b399ed2b-3624-4024-aa8c-f80fe2d7ecd0"
      },
      "outputs": [
        {
          "name": "stdout",
          "output_type": "stream",
          "text": [
            "0  -  2\n",
            "1  -  3\n",
            "2  -  5\n",
            "3  -  8\n",
            "4  -  1\n"
          ]
        }
      ],
      "source": [
        "vetor.imprime()"
      ]
    },
    {
      "cell_type": "code",
      "execution_count": 11,
      "metadata": {
        "colab": {
          "base_uri": "https://localhost:8080/",
          "height": 55
        },
        "id": "L_QlGq0rYjow",
        "outputId": "70465286-48d4-4bd9-c94a-6e8c32a0f311"
      },
      "outputs": [
        {
          "data": {
            "text/plain": [
              "3"
            ]
          },
          "execution_count": 11,
          "metadata": {},
          "output_type": "execute_result"
        }
      ],
      "source": [
        "vetor.pesquisar(8)"
      ]
    },
    {
      "cell_type": "code",
      "execution_count": 21,
      "metadata": {
        "colab": {
          "base_uri": "https://localhost:8080/",
          "height": 55
        },
        "id": "KtRasBfUYn6S",
        "outputId": "3a4f35d6-cbde-430a-9228-2d74d96a61d1"
      },
      "outputs": [
        {
          "data": {
            "text/plain": [
              "-1"
            ]
          },
          "execution_count": 21,
          "metadata": {},
          "output_type": "execute_result"
        }
      ],
      "source": [
        "vetor.pesquisar(\n",
        "    9\n",
        ")  # valor não encontrado... o que é o pior caso juntamente com o número a ser achado na última posição."
      ]
    },
    {
      "cell_type": "code",
      "execution_count": 13,
      "metadata": {
        "colab": {
          "base_uri": "https://localhost:8080/",
          "height": 55
        },
        "id": "xivb2zeIYv__",
        "outputId": "0044f3ca-1520-474b-e162-3be7de1730ef"
      },
      "outputs": [
        {
          "data": {
            "text/plain": [
              "1"
            ]
          },
          "execution_count": 13,
          "metadata": {},
          "output_type": "execute_result"
        }
      ],
      "source": [
        "vetor.pesquisar(3)"
      ]
    },
    {
      "cell_type": "code",
      "execution_count": 14,
      "metadata": {
        "colab": {
          "base_uri": "https://localhost:8080/",
          "height": 55
        },
        "id": "9vqcPNfSXsAj",
        "outputId": "dde8e7da-2943-4fa9-cbd9-33ca3d5aa3cd"
      },
      "outputs": [
        {
          "data": {
            "text/plain": [
              "4"
            ]
          },
          "execution_count": 14,
          "metadata": {},
          "output_type": "execute_result"
        }
      ],
      "source": [
        "vetor.ultima_posicao"
      ]
    },
    {
      "cell_type": "code",
      "execution_count": 15,
      "metadata": {
        "colab": {
          "base_uri": "https://localhost:8080/",
          "height": 125
        },
        "id": "GFbxRV5taey2",
        "outputId": "ef61aca5-0eb6-43e0-d00e-4d60e9e5a93f"
      },
      "outputs": [
        {
          "name": "stdout",
          "output_type": "stream",
          "text": [
            "0  -  2\n",
            "1  -  3\n",
            "2  -  5\n",
            "3  -  8\n",
            "4  -  1\n"
          ]
        }
      ],
      "source": [
        "vetor.imprime()"
      ]
    },
    {
      "cell_type": "code",
      "execution_count": 16,
      "metadata": {
        "id": "tMHP6K4OahTh"
      },
      "outputs": [],
      "source": [
        "vetor.excluir(5)"
      ]
    },
    {
      "cell_type": "code",
      "execution_count": 17,
      "metadata": {
        "colab": {
          "base_uri": "https://localhost:8080/",
          "height": 108
        },
        "id": "JGKY0EbeamIS",
        "outputId": "19d42360-0b8e-4e11-8aa9-a4fd929669f8"
      },
      "outputs": [
        {
          "name": "stdout",
          "output_type": "stream",
          "text": [
            "0  -  2\n",
            "1  -  3\n",
            "2  -  8\n",
            "3  -  1\n"
          ]
        }
      ],
      "source": [
        "vetor.imprime()"
      ]
    },
    {
      "cell_type": "code",
      "execution_count": 18,
      "metadata": {
        "colab": {
          "base_uri": "https://localhost:8080/",
          "height": 90
        },
        "id": "PQT1rygGap15",
        "outputId": "45cb57fb-148d-42a9-bdf6-0a21d8f01643"
      },
      "outputs": [
        {
          "name": "stdout",
          "output_type": "stream",
          "text": [
            "0  -  2\n",
            "1  -  3\n",
            "2  -  8\n"
          ]
        }
      ],
      "source": [
        "vetor.excluir(1)\n",
        "vetor.imprime()"
      ]
    },
    {
      "cell_type": "code",
      "execution_count": 19,
      "metadata": {
        "colab": {
          "base_uri": "https://localhost:8080/",
          "height": 72
        },
        "id": "Zhnv-0YhazPW",
        "outputId": "1b444192-54b2-4d82-dcbf-7d2d72bc2fbf"
      },
      "outputs": [
        {
          "name": "stdout",
          "output_type": "stream",
          "text": [
            "0  -  3\n",
            "1  -  8\n"
          ]
        }
      ],
      "source": [
        "vetor.excluir(2)\n",
        "vetor.imprime()"
      ]
    },
    {
      "cell_type": "code",
      "execution_count": 20,
      "metadata": {
        "colab": {
          "base_uri": "https://localhost:8080/",
          "height": 108
        },
        "id": "HsXhksvFa4AX",
        "outputId": "00a0d22d-66ce-4269-e7d2-b63359602b9a"
      },
      "outputs": [
        {
          "name": "stdout",
          "output_type": "stream",
          "text": [
            "0  -  3\n",
            "1  -  8\n",
            "2  -  5\n",
            "3  -  1\n"
          ]
        }
      ],
      "source": [
        "vetor.insere(5)\n",
        "vetor.insere(1)\n",
        "vetor.imprime()"
      ]
    }
  ],
  "metadata": {
    "colab": {
      "provenance": []
    },
    "kernelspec": {
      "display_name": "Python 3",
      "name": "python3"
    },
    "language_info": {
      "codemirror_mode": {
        "name": "ipython",
        "version": 3
      },
      "file_extension": ".py",
      "mimetype": "text/x-python",
      "name": "python",
      "nbconvert_exporter": "python",
      "pygments_lexer": "ipython3",
      "version": "3.12.2"
    }
  },
  "nbformat": 4,
  "nbformat_minor": 0
}
