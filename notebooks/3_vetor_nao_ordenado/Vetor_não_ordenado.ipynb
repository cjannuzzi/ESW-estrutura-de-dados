{
  "nbformat": 4,
  "nbformat_minor": 0,
  "metadata": {
    "colab": {
      "provenance": []
    },
    "kernelspec": {
      "name": "python3",
      "display_name": "Python 3"
    }
  },
  "cells": [
    {
      "cell_type": "markdown",
      "metadata": {
        "id": "3L3hMZxPloS9"
      },
      "source": [
        "# Vetor não ordenado"
      ]
    },
    {
      "cell_type": "code",
      "metadata": {
        "id": "ilKOzbksUosx"
      },
      "source": [
        "import numpy as np"
      ],
      "execution_count": null,
      "outputs": []
    },
    {
      "cell_type": "code",
      "metadata": {
        "id": "EI9-ginDUr7z"
      },
      "source": [
        "class VetorNaoOrdenado:\n",
        "  def __init__(self, capacidade):\n",
        "    self.capacidade = capacidade\n",
        "    self.ultima_posicao = -1\n",
        "    self.valores = np.empty(self.capacidade, dtype=int)\n",
        "\n",
        "  # O(n)\n",
        "  def imprime(self):\n",
        "    if self.ultima_posicao == -1:\n",
        "      print('O vetor está vazio')\n",
        "    else:\n",
        "      for i in range(self.ultima_posicao + 1):\n",
        "        print(i, ' - ', self.valores[i])\n",
        "\n",
        "  # O(1) - O(2)\n",
        "  def insere(self, valor):\n",
        "    if self.ultima_posicao == self.capacidade - 1:\n",
        "      print('Capacidade máxima atingida')\n",
        "    else:\n",
        "      self.ultima_posicao += 1\n",
        "      self.valores[self.ultima_posicao] = valor\n",
        "\n",
        "  # O(n)\n",
        "  def pesquisar(self, valor):\n",
        "    for i in range(self.ultima_posicao + 1):\n",
        "      if valor == self.valores[i]:\n",
        "        return i\n",
        "    return -1\n",
        "\n",
        "  # O(n)\n",
        "  def excluir(self, valor):\n",
        "    posicao = self.pesquisar(valor)\n",
        "    if posicao == -1:\n",
        "      return -1\n",
        "    else:\n",
        "      for i in range(posicao, self.ultima_posicao):\n",
        "        self.valores[i] = self.valores[i + 1]\n",
        "\n",
        "      self.ultima_posicao -= 1"
      ],
      "execution_count": null,
      "outputs": []
    },
    {
      "cell_type": "code",
      "metadata": {
        "id": "v4yb7C3nV5y6"
      },
      "source": [
        "vetor = VetorNaoOrdenado(5)"
      ],
      "execution_count": null,
      "outputs": []
    },
    {
      "cell_type": "code",
      "metadata": {
        "id": "1HsqEF2-V-rM",
        "colab": {
          "base_uri": "https://localhost:8080/",
          "height": 55
        },
        "outputId": "ec64b0c0-8969-4525-a554-70414803c373"
      },
      "source": [
        "vetor.imprime()"
      ],
      "execution_count": null,
      "outputs": [
        {
          "output_type": "stream",
          "text": [
            "O vetor está vazio\n"
          ],
          "name": "stdout"
        }
      ]
    },
    {
      "cell_type": "code",
      "metadata": {
        "id": "6pmM0PjSXFzX"
      },
      "source": [
        "vetor.insere(2)"
      ],
      "execution_count": null,
      "outputs": []
    },
    {
      "cell_type": "code",
      "metadata": {
        "id": "OlOBAevAXI6A",
        "colab": {
          "base_uri": "https://localhost:8080/",
          "height": 55
        },
        "outputId": "0dea3224-bd46-4077-b1db-5c8d8324c2c4"
      },
      "source": [
        "vetor.imprime()"
      ],
      "execution_count": null,
      "outputs": [
        {
          "output_type": "stream",
          "text": [
            "0  -  2\n"
          ],
          "name": "stdout"
        }
      ]
    },
    {
      "cell_type": "code",
      "metadata": {
        "id": "k1oiT4_aXMbK"
      },
      "source": [
        "vetor.insere(3)\n",
        "vetor.insere(5)\n",
        "vetor.insere(8)\n",
        "vetor.insere(1)"
      ],
      "execution_count": null,
      "outputs": []
    },
    {
      "cell_type": "code",
      "metadata": {
        "id": "nJFsUmEgXZF9",
        "colab": {
          "base_uri": "https://localhost:8080/",
          "height": 108
        },
        "outputId": "51c2f94f-c345-4892-aa2e-ca681ae329d3"
      },
      "source": [
        "vetor.imprime()"
      ],
      "execution_count": null,
      "outputs": [
        {
          "output_type": "stream",
          "text": [
            "0  -  3\n",
            "1  -  5\n",
            "2  -  8\n",
            "3  -  1\n"
          ],
          "name": "stdout"
        }
      ]
    },
    {
      "cell_type": "code",
      "metadata": {
        "id": "iZ6YDtL6Xcov"
      },
      "source": [
        "vetor.insere(7)"
      ],
      "execution_count": null,
      "outputs": []
    },
    {
      "cell_type": "code",
      "metadata": {
        "id": "JyOP4eFwYhfN",
        "colab": {
          "base_uri": "https://localhost:8080/",
          "height": 125
        },
        "outputId": "b399ed2b-3624-4024-aa8c-f80fe2d7ecd0"
      },
      "source": [
        "vetor.imprime()"
      ],
      "execution_count": null,
      "outputs": [
        {
          "output_type": "stream",
          "text": [
            "0  -  3\n",
            "1  -  5\n",
            "2  -  8\n",
            "3  -  1\n",
            "4  -  7\n"
          ],
          "name": "stdout"
        }
      ]
    },
    {
      "cell_type": "code",
      "metadata": {
        "id": "L_QlGq0rYjow",
        "colab": {
          "base_uri": "https://localhost:8080/",
          "height": 55
        },
        "outputId": "70465286-48d4-4bd9-c94a-6e8c32a0f311"
      },
      "source": [
        "vetor.pesquisar(8)"
      ],
      "execution_count": null,
      "outputs": [
        {
          "output_type": "execute_result",
          "data": {
            "text/plain": [
              "2"
            ]
          },
          "metadata": {
            "tags": []
          },
          "execution_count": 20
        }
      ]
    },
    {
      "cell_type": "code",
      "metadata": {
        "id": "KtRasBfUYn6S",
        "colab": {
          "base_uri": "https://localhost:8080/",
          "height": 55
        },
        "outputId": "3a4f35d6-cbde-430a-9228-2d74d96a61d1"
      },
      "source": [
        "vetor.pesquisar(9)"
      ],
      "execution_count": null,
      "outputs": [
        {
          "output_type": "execute_result",
          "data": {
            "text/plain": [
              "-1"
            ]
          },
          "metadata": {
            "tags": []
          },
          "execution_count": 21
        }
      ]
    },
    {
      "cell_type": "code",
      "metadata": {
        "id": "xivb2zeIYv__",
        "colab": {
          "base_uri": "https://localhost:8080/",
          "height": 55
        },
        "outputId": "0044f3ca-1520-474b-e162-3be7de1730ef"
      },
      "source": [
        "vetor.pesquisar(3)"
      ],
      "execution_count": null,
      "outputs": [
        {
          "output_type": "execute_result",
          "data": {
            "text/plain": [
              "0"
            ]
          },
          "metadata": {
            "tags": []
          },
          "execution_count": 22
        }
      ]
    },
    {
      "cell_type": "code",
      "metadata": {
        "id": "9vqcPNfSXsAj",
        "colab": {
          "base_uri": "https://localhost:8080/",
          "height": 55
        },
        "outputId": "dde8e7da-2943-4fa9-cbd9-33ca3d5aa3cd"
      },
      "source": [
        "vetor.ultima_posicao"
      ],
      "execution_count": null,
      "outputs": [
        {
          "output_type": "execute_result",
          "data": {
            "text/plain": [
              "4"
            ]
          },
          "metadata": {
            "tags": []
          },
          "execution_count": 13
        }
      ]
    },
    {
      "cell_type": "code",
      "metadata": {
        "id": "GFbxRV5taey2",
        "colab": {
          "base_uri": "https://localhost:8080/",
          "height": 125
        },
        "outputId": "ef61aca5-0eb6-43e0-d00e-4d60e9e5a93f"
      },
      "source": [
        "vetor.imprime()"
      ],
      "execution_count": null,
      "outputs": [
        {
          "output_type": "stream",
          "text": [
            "0  -  2\n",
            "1  -  3\n",
            "2  -  5\n",
            "3  -  8\n",
            "4  -  1\n"
          ],
          "name": "stdout"
        }
      ]
    },
    {
      "cell_type": "code",
      "metadata": {
        "id": "tMHP6K4OahTh"
      },
      "source": [
        "vetor.excluir(5)"
      ],
      "execution_count": null,
      "outputs": []
    },
    {
      "cell_type": "code",
      "metadata": {
        "id": "JGKY0EbeamIS",
        "colab": {
          "base_uri": "https://localhost:8080/",
          "height": 108
        },
        "outputId": "19d42360-0b8e-4e11-8aa9-a4fd929669f8"
      },
      "source": [
        "vetor.imprime()"
      ],
      "execution_count": null,
      "outputs": [
        {
          "output_type": "stream",
          "text": [
            "0  -  2\n",
            "1  -  3\n",
            "2  -  8\n",
            "3  -  1\n"
          ],
          "name": "stdout"
        }
      ]
    },
    {
      "cell_type": "code",
      "metadata": {
        "id": "PQT1rygGap15",
        "colab": {
          "base_uri": "https://localhost:8080/",
          "height": 90
        },
        "outputId": "45cb57fb-148d-42a9-bdf6-0a21d8f01643"
      },
      "source": [
        "vetor.excluir(1)\n",
        "vetor.imprime()"
      ],
      "execution_count": null,
      "outputs": [
        {
          "output_type": "stream",
          "text": [
            "0  -  2\n",
            "1  -  3\n",
            "2  -  8\n"
          ],
          "name": "stdout"
        }
      ]
    },
    {
      "cell_type": "code",
      "metadata": {
        "id": "Zhnv-0YhazPW",
        "colab": {
          "base_uri": "https://localhost:8080/",
          "height": 72
        },
        "outputId": "1b444192-54b2-4d82-dcbf-7d2d72bc2fbf"
      },
      "source": [
        "vetor.excluir(2)\n",
        "vetor.imprime()"
      ],
      "execution_count": null,
      "outputs": [
        {
          "output_type": "stream",
          "text": [
            "0  -  3\n",
            "1  -  8\n"
          ],
          "name": "stdout"
        }
      ]
    },
    {
      "cell_type": "code",
      "metadata": {
        "id": "HsXhksvFa4AX",
        "colab": {
          "base_uri": "https://localhost:8080/",
          "height": 108
        },
        "outputId": "00a0d22d-66ce-4269-e7d2-b63359602b9a"
      },
      "source": [
        "vetor.insere(5)\n",
        "vetor.insere(1)\n",
        "vetor.imprime()"
      ],
      "execution_count": null,
      "outputs": [
        {
          "output_type": "stream",
          "text": [
            "0  -  3\n",
            "1  -  8\n",
            "2  -  5\n",
            "3  -  1\n"
          ],
          "name": "stdout"
        }
      ]
    }
  ]
}