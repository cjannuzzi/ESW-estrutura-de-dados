{
  "cells": [
    {
      "cell_type": "markdown",
      "metadata": {
        "id": "3L3hMZxPloS9"
      },
      "source": [
        "# Vetor ordenado"
      ]
    },
    {
      "cell_type": "code",
      "execution_count": 1,
      "metadata": {
        "id": "ilKOzbksUosx"
      },
      "outputs": [],
      "source": [
        "import numpy as np"
      ]
    },
    {
      "cell_type": "code",
      "execution_count": 2,
      "metadata": {
        "id": "EI9-ginDUr7z"
      },
      "outputs": [],
      "source": [
        "class VetorOrdenado:\n",
        "\n",
        "    def __init__(\n",
        "        self, capacidade\n",
        "    ):  # método construtor que recebe como parametro a capacidade do vetor.\n",
        "        self.capacidade = capacidade  # capacidade do vetor\n",
        "        self.ultima_posicao = -1  # indica que o vetor esta vazio\n",
        "        self.valores = np.empty(\n",
        "            self.capacidade, dtype=int\n",
        "        )  # cria um array numpy vazio com capacidade igual a capacidade do vetor\n",
        "\n",
        "    # O(n)\n",
        "    def imprime(self):  # imprime o vetor\n",
        "        if self.ultima_posicao == -1:  # se o vetor estiver vazio\n",
        "            print(\"O vetor está vazio\")\n",
        "        else:\n",
        "            for i in range(self.ultima_posicao + 1):  # percorre o vetor\n",
        "                print(i, \" - \", self.valores[i])  # imprime a posicao e o valor\n",
        "\n",
        "    # O(n)\n",
        "    def insere(self, valor):  # insere um valor no vetor ao passar o parametro valor\n",
        "        if (\n",
        "            self.ultima_posicao == self.capacidade - 1\n",
        "        ):  # se a ultima posicao for igual a capacidade do vetor - 1\n",
        "            print(\"Capacidade máxima atingida\")\n",
        "            return\n",
        "\n",
        "        posicao = 0  # posicao recebe 0\n",
        "        for i in range(self.ultima_posicao + 1):  # percorre todos os elementos do vetor\n",
        "            posicao = i  # posicao recebe i (recebe a posicao do vetor a medida que for avançando na estrutura de dados)\n",
        "            if (\n",
        "                self.valores[i] > valor\n",
        "            ):  # se o valor na posicao i for maior que o valor passado como parametro\n",
        "                break  # sai do loop quando o valor na posicao i for maior que o valor passado como parametro\n",
        "            if i == self.ultima_posicao:  # se i for igual a ultima posicao\n",
        "                posicao = i + 1  # posicao recebe i + 1\n",
        "\n",
        "        x = self.ultima_posicao  #\n",
        "        while x >= posicao:  # enquanto x for maior ou igual a posicao\n",
        "            self.valores[x + 1] = self.valores[\n",
        "                x\n",
        "            ]  # o valor na posicao x + 1 recebe o valor na posicao x\n",
        "            x -= 1  # x recebe x - 1\n",
        "\n",
        "        self.valores[posicao] = (\n",
        "            valor  # o valor na posicao recebe o valor passado como parametro\n",
        "        )\n",
        "        self.ultima_posicao += 1  # a ultima posicao recebe a ultima posicao + 1"
      ]
    },
    {
      "cell_type": "code",
      "execution_count": 3,
      "metadata": {
        "colab": {
          "base_uri": "https://localhost:8080/",
          "height": 55
        },
        "id": "stsNs_K8nn4r",
        "outputId": "0cceb095-520f-43ac-b7d6-a75bfbfd6c03"
      },
      "outputs": [
        {
          "name": "stdout",
          "output_type": "stream",
          "text": [
            "O vetor está vazio\n"
          ]
        }
      ],
      "source": [
        "vetor = VetorOrdenado(10)\n",
        "vetor.imprime()"
      ]
    },
    {
      "cell_type": "code",
      "execution_count": 4,
      "metadata": {
        "colab": {
          "base_uri": "https://localhost:8080/",
          "height": 55
        },
        "id": "6OQR86hMnr74",
        "outputId": "24a67306-41ea-43cb-cb91-c2325a9eccef"
      },
      "outputs": [
        {
          "name": "stdout",
          "output_type": "stream",
          "text": [
            "0  -  6\n"
          ]
        }
      ],
      "source": [
        "vetor.insere(6)\n",
        "vetor.imprime()"
      ]
    },
    {
      "cell_type": "code",
      "execution_count": 5,
      "metadata": {
        "colab": {
          "base_uri": "https://localhost:8080/",
          "height": 72
        },
        "id": "2SD9iJjrnzpB",
        "outputId": "90c4d2d2-0890-4c55-81a6-fa6f285fbf6e"
      },
      "outputs": [
        {
          "name": "stdout",
          "output_type": "stream",
          "text": [
            "0  -  4\n",
            "1  -  6\n"
          ]
        }
      ],
      "source": [
        "vetor.insere(4)\n",
        "vetor.imprime()"
      ]
    },
    {
      "cell_type": "code",
      "execution_count": 6,
      "metadata": {
        "colab": {
          "base_uri": "https://localhost:8080/",
          "height": 90
        },
        "id": "UZiJuluyn4iq",
        "outputId": "a1139beb-1972-4002-8271-423437eb14f0"
      },
      "outputs": [
        {
          "name": "stdout",
          "output_type": "stream",
          "text": [
            "0  -  3\n",
            "1  -  4\n",
            "2  -  6\n"
          ]
        }
      ],
      "source": [
        "vetor.insere(3)\n",
        "vetor.imprime()"
      ]
    },
    {
      "cell_type": "code",
      "execution_count": 7,
      "metadata": {
        "colab": {
          "base_uri": "https://localhost:8080/",
          "height": 108
        },
        "id": "-EtyqP3ln--6",
        "outputId": "f144630e-aefb-4e49-f7d3-b216acb9d6ad"
      },
      "outputs": [
        {
          "name": "stdout",
          "output_type": "stream",
          "text": [
            "0  -  3\n",
            "1  -  4\n",
            "2  -  5\n",
            "3  -  6\n"
          ]
        }
      ],
      "source": [
        "vetor.insere(5)\n",
        "vetor.imprime()"
      ]
    },
    {
      "cell_type": "code",
      "execution_count": 8,
      "metadata": {
        "colab": {
          "base_uri": "https://localhost:8080/",
          "height": 125
        },
        "id": "Ij44GQWRoE8-",
        "outputId": "1afbfa5b-7a32-4695-db4b-a95890504ba3"
      },
      "outputs": [
        {
          "name": "stdout",
          "output_type": "stream",
          "text": [
            "0  -  1\n",
            "1  -  3\n",
            "2  -  4\n",
            "3  -  5\n",
            "4  -  6\n"
          ]
        }
      ],
      "source": [
        "vetor.insere(1)\n",
        "vetor.imprime()"
      ]
    },
    {
      "cell_type": "code",
      "execution_count": 9,
      "metadata": {
        "colab": {
          "base_uri": "https://localhost:8080/",
          "height": 143
        },
        "id": "PHQuMp8aoKX3",
        "outputId": "70c5c040-7c42-4fa8-8cba-92793d0e7296"
      },
      "outputs": [
        {
          "name": "stdout",
          "output_type": "stream",
          "text": [
            "0  -  1\n",
            "1  -  3\n",
            "2  -  4\n",
            "3  -  5\n",
            "4  -  6\n",
            "5  -  8\n"
          ]
        }
      ],
      "source": [
        "vetor.insere(8)\n",
        "vetor.imprime()"
      ]
    }
  ],
  "metadata": {
    "colab": {
      "provenance": []
    },
    "kernelspec": {
      "display_name": "Python 3",
      "name": "python3"
    },
    "language_info": {
      "codemirror_mode": {
        "name": "ipython",
        "version": 3
      },
      "file_extension": ".py",
      "mimetype": "text/x-python",
      "name": "python",
      "nbconvert_exporter": "python",
      "pygments_lexer": "ipython3",
      "version": "3.12.2"
    }
  },
  "nbformat": 4,
  "nbformat_minor": 0
}
