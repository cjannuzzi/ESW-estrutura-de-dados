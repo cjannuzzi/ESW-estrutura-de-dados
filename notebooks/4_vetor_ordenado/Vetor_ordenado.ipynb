{
  "cells": [
    {
      "cell_type": "markdown",
      "metadata": {
        "id": "3L3hMZxPloS9"
      },
      "source": [
        "# Vetor ordenado"
      ]
    },
    {
      "cell_type": "code",
      "execution_count": 95,
      "metadata": {
        "id": "ilKOzbksUosx"
      },
      "outputs": [],
      "source": [
        "import numpy as np"
      ]
    },
    {
      "cell_type": "code",
      "execution_count": 96,
      "metadata": {
        "id": "EI9-ginDUr7z"
      },
      "outputs": [],
      "source": [
        "class VetorOrdenado:\n",
        "\n",
        "    def __init__(\n",
        "        self, capacidade\n",
        "    ):  # método construtor que recebe como parametro a capacidade do vetor.\n",
        "        self.capacidade = capacidade  # capacidade do vetor\n",
        "        self.ultima_posicao = -1  # indica que o vetor esta vazio\n",
        "        self.valores = np.empty(\n",
        "            self.capacidade, dtype=int\n",
        "        )  # cria um array numpy vazio com capacidade igual a capacidade do vetor\n",
        "\n",
        "    # O(n)\n",
        "    def imprime(self):  # imprime o vetor\n",
        "        if self.ultima_posicao == -1:  # se o vetor estiver vazio\n",
        "            print(\"O vetor está vazio\")\n",
        "        else:\n",
        "            for i in range(self.ultima_posicao + 1):  # percorre o vetor\n",
        "                print(i, \" - \", self.valores[i])  # imprime a posicao e o valor\n",
        "\n",
        "    # O(n)\n",
        "    def insere(self, valor):  # insere um valor no vetor ao passar o parametro valor\n",
        "        if (\n",
        "            self.ultima_posicao == self.capacidade - 1\n",
        "        ):  # se a ultima posicao for igual a capacidade do vetor - 1\n",
        "            print(\"Capacidade máxima atingida\")\n",
        "            return\n",
        "\n",
        "        posicao = 0  # posicao recebe 0\n",
        "        for i in range(self.ultima_posicao + 1):  # percorre todos os elementos do vetor\n",
        "            posicao = i  # posicao recebe i (recebe a posicao do vetor a medida que for avançando na estrutura de dados)\n",
        "            if (\n",
        "                self.valores[i] > valor\n",
        "            ):  # se o valor na posicao i for maior que o valor passado como parametro\n",
        "                break  # sai do loop quando o valor na posicao i for maior que o valor passado como parametro\n",
        "            if i == self.ultima_posicao:  # se i for igual a ultima posicao\n",
        "                posicao = i + 1  # posicao recebe i + 1\n",
        "\n",
        "        x = self.ultima_posicao  # x recebe a ultima posicao\n",
        "        while x >= posicao:  # enquanto x for maior ou igual a posicao\n",
        "            self.valores[x + 1] = self.valores[\n",
        "                x\n",
        "            ]  # o valor na posicao x + 1 recebe o valor na posicao x\n",
        "            x -= 1  # x recebe x - 1\n",
        "\n",
        "        self.valores[posicao] = (\n",
        "            valor  # o valor na posicao recebe o valor passado como parametro\n",
        "        )\n",
        "        self.ultima_posicao += 1  # a ultima posicao recebe a ultima posicao + 1\n",
        "\n",
        "    # O(n)\n",
        "    def pesquisar(\n",
        "        self, valor\n",
        "    ):  # pesquisa um valor no vetor ao passar o parametro valor\n",
        "        for i in range(self.ultima_posicao + 1):  # percorre o vetor\n",
        "            if (\n",
        "                self.valores[i] > valor\n",
        "            ):  # se o valor na posicao i for maior que o valor passado como parametro\n",
        "                return -1\n",
        "            if (\n",
        "                self.valores[i] == valor\n",
        "            ):  # se o valor na posicao i for igual ao valor passado como parametro\n",
        "                return i\n",
        "            if i == self.ultima_posicao:  # se i for igual a ultima posicao\n",
        "                return -1\n",
        "\n",
        "    def excluir(self, valor):  # exclui um valor no vetor ao passar o parametro valor\n",
        "        posicao = self.pesquisar(\n",
        "            valor\n",
        "        )  # posicao recebe o valor retornado pelo metodo pesquisar\n",
        "        if posicao == -1:  # se a posicao for igual a -1\n",
        "            return -1\n",
        "        else:\n",
        "            for i in range(\n",
        "                posicao, self.ultima_posicao\n",
        "            ):  # percorre o vetor a partir da posicao ate a ultima posicao\n",
        "                self.valores[i] = self.valores[\n",
        "                    i + 1\n",
        "                ]  # o valor na posicao i recebe o valor na posicao i + 1\n",
        "            self.ultima_posicao -= 1  # a ultima posicao recebe a ultima posicao - 1\n",
        "\n",
        "    # O(log n)\n",
        "    def pesquisa_binaria(\n",
        "        self, valor\n",
        "    ):  # pesquisa um valor no vetor ao passar o parametro valor\n",
        "        limite_inferior = 0  # limite inferior recebe 0\n",
        "        limite_superior = self.ultima_posicao  # limite superior recebe a ultima posicao\n",
        "\n",
        "        while True:  # loop infinito enquanto True\n",
        "            posicao_atual = int(\n",
        "                (limite_inferior + limite_superior) / 2\n",
        "            )  # posicao atual recebe a media entre o limite inferior e o limite superior\n",
        "            # Se achou na primeira tentativa\n",
        "            if (\n",
        "                self.valores[posicao_atual] == valor\n",
        "            ):  # se o valor na posicao atual for igual ao valor passado como parametro\n",
        "                return posicao_atual\n",
        "            # Se não achou\n",
        "            elif (\n",
        "                limite_inferior > limite_superior\n",
        "            ):  # se o limite inferior for maior que o limite superior\n",
        "                return -1\n",
        "            # Divide os limites\n",
        "            else:\n",
        "                # Limite inferior\n",
        "                if (\n",
        "                    self.valores[posicao_atual] < valor\n",
        "                ):  # se o valor na posicao atual for menor que o valor passado como parametro\n",
        "                    limite_inferior = posicao_atual + 1\n",
        "                # Limite superior\n",
        "                else:  # se o valor na posicao atual for maior que o valor passado como parametro\n",
        "                    limite_superior = posicao_atual - 1"
      ]
    },
    {
      "cell_type": "code",
      "execution_count": 97,
      "metadata": {
        "colab": {
          "base_uri": "https://localhost:8080/",
          "height": 55
        },
        "id": "stsNs_K8nn4r",
        "outputId": "0cceb095-520f-43ac-b7d6-a75bfbfd6c03"
      },
      "outputs": [
        {
          "name": "stdout",
          "output_type": "stream",
          "text": [
            "O vetor está vazio\n"
          ]
        }
      ],
      "source": [
        "vetor = VetorOrdenado(10)  # cria um objeto do tipo VetorOrdenado com capacidade 10\n",
        "vetor.imprime()"
      ]
    },
    {
      "cell_type": "code",
      "execution_count": 98,
      "metadata": {
        "colab": {
          "base_uri": "https://localhost:8080/",
          "height": 55
        },
        "id": "6OQR86hMnr74",
        "outputId": "24a67306-41ea-43cb-cb91-c2325a9eccef"
      },
      "outputs": [
        {
          "name": "stdout",
          "output_type": "stream",
          "text": [
            "0  -  6\n"
          ]
        }
      ],
      "source": [
        "vetor.insere(6)  # insere o valor 6 no vetor\n",
        "vetor.imprime()  # imprime o vetor"
      ]
    },
    {
      "cell_type": "code",
      "execution_count": 99,
      "metadata": {
        "colab": {
          "base_uri": "https://localhost:8080/",
          "height": 72
        },
        "id": "2SD9iJjrnzpB",
        "outputId": "90c4d2d2-0890-4c55-81a6-fa6f285fbf6e"
      },
      "outputs": [
        {
          "name": "stdout",
          "output_type": "stream",
          "text": [
            "0  -  4\n",
            "1  -  6\n"
          ]
        }
      ],
      "source": [
        "vetor.insere(4)  # insere o valor 4 no vetor\n",
        "vetor.imprime()  # imprime o vetor"
      ]
    },
    {
      "cell_type": "code",
      "execution_count": 100,
      "metadata": {
        "colab": {
          "base_uri": "https://localhost:8080/",
          "height": 90
        },
        "id": "UZiJuluyn4iq",
        "outputId": "a1139beb-1972-4002-8271-423437eb14f0"
      },
      "outputs": [
        {
          "name": "stdout",
          "output_type": "stream",
          "text": [
            "0  -  3\n",
            "1  -  4\n",
            "2  -  6\n"
          ]
        }
      ],
      "source": [
        "vetor.insere(3)  # insere o valor 3 no vetor\n",
        "vetor.imprime()  # imprime o vetor"
      ]
    },
    {
      "cell_type": "code",
      "execution_count": 101,
      "metadata": {
        "colab": {
          "base_uri": "https://localhost:8080/",
          "height": 108
        },
        "id": "-EtyqP3ln--6",
        "outputId": "f144630e-aefb-4e49-f7d3-b216acb9d6ad"
      },
      "outputs": [
        {
          "name": "stdout",
          "output_type": "stream",
          "text": [
            "0  -  3\n",
            "1  -  4\n",
            "2  -  5\n",
            "3  -  6\n"
          ]
        }
      ],
      "source": [
        "vetor.insere(5)  # insere o valor 5 no vetor\n",
        "vetor.imprime()  # imprime o vetor"
      ]
    },
    {
      "cell_type": "code",
      "execution_count": 102,
      "metadata": {
        "colab": {
          "base_uri": "https://localhost:8080/",
          "height": 125
        },
        "id": "Ij44GQWRoE8-",
        "outputId": "1afbfa5b-7a32-4695-db4b-a95890504ba3"
      },
      "outputs": [
        {
          "name": "stdout",
          "output_type": "stream",
          "text": [
            "0  -  1\n",
            "1  -  3\n",
            "2  -  4\n",
            "3  -  5\n",
            "4  -  6\n"
          ]
        }
      ],
      "source": [
        "vetor.insere(1)  # insere o valor 1 no vetor\n",
        "vetor.imprime()  # imprime o vetor"
      ]
    },
    {
      "cell_type": "code",
      "execution_count": 103,
      "metadata": {
        "colab": {
          "base_uri": "https://localhost:8080/",
          "height": 143
        },
        "id": "PHQuMp8aoKX3",
        "outputId": "70c5c040-7c42-4fa8-8cba-92793d0e7296"
      },
      "outputs": [
        {
          "name": "stdout",
          "output_type": "stream",
          "text": [
            "0  -  1\n",
            "1  -  3\n",
            "2  -  4\n",
            "3  -  5\n",
            "4  -  6\n",
            "5  -  8\n"
          ]
        }
      ],
      "source": [
        "vetor.insere(8)  # insere o valor 8 no vetor\n",
        "vetor.imprime()  # imprime o vetor"
      ]
    },
    {
      "cell_type": "code",
      "execution_count": 104,
      "metadata": {},
      "outputs": [
        {
          "data": {
            "text/plain": [
              "3"
            ]
          },
          "execution_count": 104,
          "metadata": {},
          "output_type": "execute_result"
        }
      ],
      "source": [
        "vetor.pesquisar(\n",
        "    5\n",
        ")  # pesquisa o valor 5 no vetor. levou 4 passos para encontrar o valor 5. O(n)"
      ]
    },
    {
      "cell_type": "code",
      "execution_count": 105,
      "metadata": {},
      "outputs": [
        {
          "data": {
            "text/plain": [
              "5"
            ]
          },
          "execution_count": 105,
          "metadata": {},
          "output_type": "execute_result"
        }
      ],
      "source": [
        "vetor.pesquisar(\n",
        "    8\n",
        ")  # pesquisa o valor 8 no vetor. levou 6 passos para encontrar o valor 8. O(n)"
      ]
    },
    {
      "cell_type": "code",
      "execution_count": 106,
      "metadata": {},
      "outputs": [
        {
          "data": {
            "text/plain": [
              "-1"
            ]
          },
          "execution_count": 106,
          "metadata": {},
          "output_type": "execute_result"
        }
      ],
      "source": [
        "vetor.pesquisar(\n",
        "    2\n",
        ")  # pesquisa o valor 2 no vetor. levou 2 passos para percorrer o vetor pesquisando o valor 2 que não existe pois ele já teria passado para o número 3 e não achou o número 2 antes dele. O(n). O return -1 indica que o valor não foi encontrado."
      ]
    },
    {
      "cell_type": "code",
      "execution_count": 107,
      "metadata": {},
      "outputs": [
        {
          "data": {
            "text/plain": [
              "-1"
            ]
          },
          "execution_count": 107,
          "metadata": {},
          "output_type": "execute_result"
        }
      ],
      "source": [
        "vetor.pesquisar(\n",
        "    9\n",
        ")  # pesquisa o valor 9 no vetor. levou 6 passos para percorrer o vetor pesquisando o valor 9 que não existe pois ele já teria passado o número 8 que é o último do array. O(n). O return -1 indica que o valor não foi encontrado."
      ]
    },
    {
      "cell_type": "code",
      "execution_count": 108,
      "metadata": {},
      "outputs": [
        {
          "name": "stdout",
          "output_type": "stream",
          "text": [
            "0  -  1\n",
            "1  -  3\n",
            "2  -  4\n",
            "3  -  5\n",
            "4  -  6\n",
            "5  -  8\n"
          ]
        }
      ],
      "source": [
        "vetor.imprime()  # imprime o vetor"
      ]
    },
    {
      "cell_type": "code",
      "execution_count": 109,
      "metadata": {},
      "outputs": [
        {
          "name": "stdout",
          "output_type": "stream",
          "text": [
            "0  -  1\n",
            "1  -  3\n",
            "2  -  4\n",
            "3  -  6\n",
            "4  -  8\n"
          ]
        }
      ],
      "source": [
        "vetor.excluir(5)  # exclui o valor 5 do vetor\n",
        "vetor.imprime()  # imprime o vetor"
      ]
    },
    {
      "cell_type": "code",
      "execution_count": 110,
      "metadata": {},
      "outputs": [
        {
          "name": "stdout",
          "output_type": "stream",
          "text": [
            "0  -  3\n",
            "1  -  4\n",
            "2  -  6\n",
            "3  -  8\n"
          ]
        }
      ],
      "source": [
        "vetor.excluir(1)  # exclui o valor 1 do vetor\n",
        "vetor.imprime()  # imprime o vetor"
      ]
    },
    {
      "cell_type": "code",
      "execution_count": 111,
      "metadata": {},
      "outputs": [
        {
          "name": "stdout",
          "output_type": "stream",
          "text": [
            "0  -  3\n",
            "1  -  4\n",
            "2  -  6\n"
          ]
        }
      ],
      "source": [
        "vetor.excluir(8)  # exclui o valor 8 do vetor\n",
        "vetor.imprime()  # imprime o vetor"
      ]
    },
    {
      "cell_type": "code",
      "execution_count": 112,
      "metadata": {},
      "outputs": [
        {
          "data": {
            "text/plain": [
              "-1"
            ]
          },
          "execution_count": 112,
          "metadata": {},
          "output_type": "execute_result"
        }
      ],
      "source": [
        "vetor.excluir(9)  # tenta excluir o valor 9 que não existe no vetor"
      ]
    },
    {
      "cell_type": "code",
      "execution_count": 113,
      "metadata": {},
      "outputs": [
        {
          "name": "stdout",
          "output_type": "stream",
          "text": [
            "0  -  1\n",
            "1  -  2\n",
            "2  -  4\n",
            "3  -  5\n",
            "4  -  7\n",
            "5  -  8\n",
            "6  -  9\n",
            "7  -  11\n",
            "8  -  13\n"
          ]
        }
      ],
      "source": [
        "vetor = VetorOrdenado(10)  # cria um objeto do tipo VetorOrdenado com capacidade 10\n",
        "vetor.insere(8)  # insere o valor 8 no vetor\n",
        "vetor.insere(9)  # insere o valor 9 no vetor\n",
        "vetor.insere(4)  # insere o valor 4 no vetor\n",
        "vetor.insere(1)  # insere o valor 1 no vetor\n",
        "vetor.insere(5)  # insere o valor 5 no vetor\n",
        "vetor.insere(7)  # insere o valor 7 no vetor\n",
        "vetor.insere(11)  # insere o valor 11 no vetor\n",
        "vetor.insere(13)  # insere o valor 13 no vetor\n",
        "vetor.insere(2)  # insere o valor 2 no vetor\n",
        "vetor.imprime()  # imprime o vetor"
      ]
    },
    {
      "cell_type": "code",
      "execution_count": 114,
      "metadata": {},
      "outputs": [
        {
          "data": {
            "text/plain": [
              "4"
            ]
          },
          "execution_count": 114,
          "metadata": {},
          "output_type": "execute_result"
        }
      ],
      "source": [
        "vetor.pesquisa_binaria(7)"
      ]
    },
    {
      "cell_type": "code",
      "execution_count": 115,
      "metadata": {},
      "outputs": [
        {
          "data": {
            "text/plain": [
              "3"
            ]
          },
          "execution_count": 115,
          "metadata": {},
          "output_type": "execute_result"
        }
      ],
      "source": [
        "vetor.pesquisa_binaria(5)"
      ]
    },
    {
      "cell_type": "code",
      "execution_count": 116,
      "metadata": {},
      "outputs": [
        {
          "data": {
            "text/plain": [
              "8"
            ]
          },
          "execution_count": 116,
          "metadata": {},
          "output_type": "execute_result"
        }
      ],
      "source": [
        "vetor.pesquisa_binaria(13)"
      ]
    },
    {
      "cell_type": "code",
      "execution_count": 117,
      "metadata": {},
      "outputs": [
        {
          "data": {
            "text/plain": [
              "-1"
            ]
          },
          "execution_count": 117,
          "metadata": {},
          "output_type": "execute_result"
        }
      ],
      "source": [
        "vetor.pesquisa_binaria(20)  # não existe no vetor."
      ]
    }
  ],
  "metadata": {
    "colab": {
      "provenance": []
    },
    "kernelspec": {
      "display_name": "Python 3",
      "name": "python3"
    },
    "language_info": {
      "codemirror_mode": {
        "name": "ipython",
        "version": 3
      },
      "file_extension": ".py",
      "mimetype": "text/x-python",
      "name": "python",
      "nbconvert_exporter": "python",
      "pygments_lexer": "ipython3",
      "version": "3.12.2"
    }
  },
  "nbformat": 4,
  "nbformat_minor": 0
}
