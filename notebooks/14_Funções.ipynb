{
  "cells": [
    {
      "cell_type": "markdown",
      "metadata": {
        "id": "IEcrEbE3Ff-i"
      },
      "source": [
        "# Funções\n",
        "\n",
        "- Trechos de programa que recebem um determinado nome e podem ser chamados várias vezes durante a execução\n",
        "- Principais vantagens: reutilização de código, modularidade e facilidade de manutenção do sistema"
      ]
    },
    {
      "cell_type": "markdown",
      "metadata": {
        "id": "hVl4JmCBFh35"
      },
      "source": [
        "## Função sem parâmetro e sem retorno\n",
        "\n"
      ]
    },
    {
      "cell_type": "code",
      "execution_count": 1,
      "metadata": {
        "id": "tDHyzEN6Y-E1"
      },
      "outputs": [],
      "source": [
        "def mensagem():\n",
        "    print(\"Texto da função\")"
      ]
    },
    {
      "cell_type": "code",
      "execution_count": 2,
      "metadata": {
        "colab": {
          "base_uri": "https://localhost:8080/",
          "height": 67
        },
        "id": "r-_JEbYrZHFR",
        "outputId": "decb5710-4510-4bc0-e81e-6973722f0c10"
      },
      "outputs": [
        {
          "name": "stdout",
          "output_type": "stream",
          "text": [
            "Texto da função\n",
            "Texto da função\n",
            "Texto da função\n"
          ]
        }
      ],
      "source": [
        "mensagem()\n",
        "mensagem()\n",
        "mensagem()"
      ]
    },
    {
      "cell_type": "markdown",
      "metadata": {
        "id": "acu6pXhQHffb"
      },
      "source": [
        "## Função com passagem de parâmetro"
      ]
    },
    {
      "cell_type": "code",
      "execution_count": 3,
      "metadata": {
        "id": "wCegzOSuZWNY"
      },
      "outputs": [],
      "source": [
        "def mensagem(texto):\n",
        "    print(texto)"
      ]
    },
    {
      "cell_type": "code",
      "execution_count": 4,
      "metadata": {
        "colab": {
          "base_uri": "https://localhost:8080/",
          "height": 67
        },
        "id": "5Mu-2bGUZdIZ",
        "outputId": "78a92c46-9d39-4a60-87f1-f37da1bd9316"
      },
      "outputs": [
        {
          "name": "stdout",
          "output_type": "stream",
          "text": [
            "texto 1\n",
            "texto 2\n",
            "texto 3\n"
          ]
        }
      ],
      "source": [
        "mensagem(\"texto 1\")\n",
        "mensagem(\"texto 2\")\n",
        "mensagem(\"texto 3\")"
      ]
    },
    {
      "cell_type": "code",
      "execution_count": 5,
      "metadata": {
        "id": "Qlf-zQJCZyZR"
      },
      "outputs": [],
      "source": [
        "def soma(a, b):\n",
        "    print(a + b)"
      ]
    },
    {
      "cell_type": "code",
      "execution_count": 6,
      "metadata": {
        "colab": {
          "base_uri": "https://localhost:8080/",
          "height": 34
        },
        "id": "ykaR-XQQZ2uf",
        "outputId": "99452147-adfe-432b-9cc1-c69f70f75d19"
      },
      "outputs": [
        {
          "name": "stdout",
          "output_type": "stream",
          "text": [
            "5\n"
          ]
        }
      ],
      "source": [
        "soma(2, 3)"
      ]
    },
    {
      "cell_type": "code",
      "execution_count": 7,
      "metadata": {
        "colab": {
          "base_uri": "https://localhost:8080/",
          "height": 50
        },
        "id": "el9_XnkxZ7PT",
        "outputId": "020bf038-de45-4d1a-a27f-4d5bdefbf549"
      },
      "outputs": [
        {
          "name": "stdout",
          "output_type": "stream",
          "text": [
            "6\n",
            "3\n"
          ]
        }
      ],
      "source": [
        "soma(3, 3)\n",
        "soma(1, 2)"
      ]
    },
    {
      "cell_type": "markdown",
      "metadata": {
        "id": "A_OYX7XBIBCU"
      },
      "source": [
        "## Função com passagem de parâmetros e retorno"
      ]
    },
    {
      "cell_type": "code",
      "execution_count": 8,
      "metadata": {
        "id": "SkkVQpIHaE14"
      },
      "outputs": [],
      "source": [
        "def soma(a, b):\n",
        "    return a + b"
      ]
    },
    {
      "cell_type": "code",
      "execution_count": 9,
      "metadata": {
        "colab": {
          "base_uri": "https://localhost:8080/",
          "height": 34
        },
        "id": "V8f3NdypaMzA",
        "outputId": "d2ef74b7-84a0-4b7a-f98f-8ca7f60e0981"
      },
      "outputs": [
        {
          "data": {
            "text/plain": [
              "5"
            ]
          },
          "execution_count": 9,
          "metadata": {},
          "output_type": "execute_result"
        }
      ],
      "source": [
        "soma(3, 2)"
      ]
    },
    {
      "cell_type": "code",
      "execution_count": 10,
      "metadata": {
        "colab": {
          "base_uri": "https://localhost:8080/",
          "height": 34
        },
        "id": "AhQErC_faRQl",
        "outputId": "2f428ede-f980-428a-ac93-3684673d05c1"
      },
      "outputs": [
        {
          "name": "stdout",
          "output_type": "stream",
          "text": [
            "5\n"
          ]
        }
      ],
      "source": [
        "# r = 7\n",
        "r = soma(3, 2)  # a variável r recebe o retorno da função soma\n",
        "print(r)"
      ]
    },
    {
      "cell_type": "code",
      "execution_count": 11,
      "metadata": {
        "id": "wRhqE2ubamj2"
      },
      "outputs": [],
      "source": [
        "def calcula_energia_potencial_gravitacional(m, h, g=10):\n",
        "    \"\"\"\n",
        "    Calcula a energia potencial gravitacional\n",
        "    Argumentos:\n",
        "    m: massa, entrada como uma variável float\n",
        "    h: altura, entrada como uma variável float\n",
        "\n",
        "    Argumento opcional:\n",
        "    g: aceleração gravitacional, com valor default de 10\n",
        "    \"\"\"\n",
        "    e = g * m * h\n",
        "    return e"
      ]
    },
    {
      "cell_type": "code",
      "execution_count": 12,
      "metadata": {
        "colab": {
          "base_uri": "https://localhost:8080/",
          "height": 34
        },
        "id": "QecHSc8aa2ai",
        "outputId": "52dafd66-4251-41eb-e6da-ed188c0a17e9"
      },
      "outputs": [
        {
          "data": {
            "text/plain": [
              "3600"
            ]
          },
          "execution_count": 12,
          "metadata": {},
          "output_type": "execute_result"
        }
      ],
      "source": [
        "calcula_energia_potencial_gravitacional(30, 12)"
      ]
    },
    {
      "cell_type": "code",
      "execution_count": 13,
      "metadata": {
        "colab": {
          "base_uri": "https://localhost:8080/",
          "height": 34
        },
        "id": "5ZnVlGc1a6kR",
        "outputId": "e384fabb-64ae-4e8c-e566-de450d741fad"
      },
      "outputs": [
        {
          "data": {
            "text/plain": [
              "3528.0"
            ]
          },
          "execution_count": 13,
          "metadata": {},
          "output_type": "execute_result"
        }
      ],
      "source": [
        "calcula_energia_potencial_gravitacional(30, 12, 9.8)"
      ]
    },
    {
      "cell_type": "code",
      "execution_count": 14,
      "metadata": {
        "colab": {
          "base_uri": "https://localhost:8080/",
          "height": 202
        },
        "id": "4w78UhKKbJ18",
        "outputId": "d634675f-bea1-46ac-ccf7-3d666660bcc1"
      },
      "outputs": [
        {
          "name": "stdout",
          "output_type": "stream",
          "text": [
            "Help on function calcula_energia_potencial_gravitacional in module __main__:\n",
            "\n",
            "calcula_energia_potencial_gravitacional(m, h, g=10)\n",
            "    Calcula a energia potencial gravitacional\n",
            "    Argumentos:\n",
            "    m: massa, entrada como uma variável float\n",
            "    h: altura, entrada como uma variável float\n",
            "\n",
            "    Argumento opcional:\n",
            "    g: aceleração gravitacional, com valor default de 10\n",
            "\n"
          ]
        }
      ],
      "source": [
        "help(calcula_energia_potencial_gravitacional)"
      ]
    }
  ],
  "metadata": {
    "colab": {
      "provenance": []
    },
    "kernelspec": {
      "display_name": "Python 3",
      "name": "python3"
    },
    "language_info": {
      "codemirror_mode": {
        "name": "ipython",
        "version": 3
      },
      "file_extension": ".py",
      "mimetype": "text/x-python",
      "name": "python",
      "nbconvert_exporter": "python",
      "pygments_lexer": "ipython3",
      "version": "3.12.2"
    }
  },
  "nbformat": 4,
  "nbformat_minor": 0
}
