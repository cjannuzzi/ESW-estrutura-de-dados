{
  "nbformat": 4,
  "nbformat_minor": 0,
  "metadata": {
    "colab": {
      "provenance": []
    },
    "kernelspec": {
      "name": "python3",
      "display_name": "Python 3"
    }
  },
  "cells": [
    {
      "cell_type": "markdown",
      "metadata": {
        "id": "IEcrEbE3Ff-i"
      },
      "source": [
        "# Funções\n",
        "\n",
        "- Trechos de programa que recebem um determinado nome e podem ser chamados várias vezes durante a execução\n",
        "- Principais vantagens: reutilização de código, modularidade e facilidade de manutenção do sistema"
      ]
    },
    {
      "cell_type": "markdown",
      "metadata": {
        "id": "hVl4JmCBFh35"
      },
      "source": [
        "## Função sem parâmetro e sem retorno\n",
        "\n"
      ]
    },
    {
      "cell_type": "code",
      "metadata": {
        "id": "tDHyzEN6Y-E1"
      },
      "source": [
        "def mensagem():\n",
        "  print('Texto da função')"
      ],
      "execution_count": null,
      "outputs": []
    },
    {
      "cell_type": "code",
      "metadata": {
        "id": "r-_JEbYrZHFR",
        "colab": {
          "base_uri": "https://localhost:8080/",
          "height": 67
        },
        "outputId": "decb5710-4510-4bc0-e81e-6973722f0c10"
      },
      "source": [
        "mensagem()\n",
        "mensagem()\n",
        "mensagem()"
      ],
      "execution_count": null,
      "outputs": [
        {
          "output_type": "stream",
          "text": [
            "Texto da função\n",
            "Texto da função\n",
            "Texto da função\n"
          ],
          "name": "stdout"
        }
      ]
    },
    {
      "cell_type": "markdown",
      "metadata": {
        "id": "acu6pXhQHffb"
      },
      "source": [
        "## Função com passagem de parâmetro"
      ]
    },
    {
      "cell_type": "code",
      "metadata": {
        "id": "wCegzOSuZWNY"
      },
      "source": [
        "def mensagem(texto):\n",
        "  print(texto)"
      ],
      "execution_count": null,
      "outputs": []
    },
    {
      "cell_type": "code",
      "metadata": {
        "id": "5Mu-2bGUZdIZ",
        "colab": {
          "base_uri": "https://localhost:8080/",
          "height": 67
        },
        "outputId": "78a92c46-9d39-4a60-87f1-f37da1bd9316"
      },
      "source": [
        "mensagem('texto 1')\n",
        "mensagem('texto 2')\n",
        "mensagem('texto 3')"
      ],
      "execution_count": null,
      "outputs": [
        {
          "output_type": "stream",
          "text": [
            "texto 1\n",
            "texto 2\n",
            "texto 3\n"
          ],
          "name": "stdout"
        }
      ]
    },
    {
      "cell_type": "code",
      "metadata": {
        "id": "Qlf-zQJCZyZR"
      },
      "source": [
        "def soma(a, b):\n",
        "  print(a + b)"
      ],
      "execution_count": null,
      "outputs": []
    },
    {
      "cell_type": "code",
      "metadata": {
        "id": "ykaR-XQQZ2uf",
        "colab": {
          "base_uri": "https://localhost:8080/",
          "height": 34
        },
        "outputId": "99452147-adfe-432b-9cc1-c69f70f75d19"
      },
      "source": [
        "soma(2, 3)"
      ],
      "execution_count": null,
      "outputs": [
        {
          "output_type": "stream",
          "text": [
            "5\n"
          ],
          "name": "stdout"
        }
      ]
    },
    {
      "cell_type": "code",
      "metadata": {
        "id": "el9_XnkxZ7PT",
        "colab": {
          "base_uri": "https://localhost:8080/",
          "height": 50
        },
        "outputId": "020bf038-de45-4d1a-a27f-4d5bdefbf549"
      },
      "source": [
        "soma(3, 3)\n",
        "soma(1, 2)"
      ],
      "execution_count": null,
      "outputs": [
        {
          "output_type": "stream",
          "text": [
            "6\n",
            "3\n"
          ],
          "name": "stdout"
        }
      ]
    },
    {
      "cell_type": "markdown",
      "metadata": {
        "id": "A_OYX7XBIBCU"
      },
      "source": [
        "## Função com passagem de parâmetros e retorno"
      ]
    },
    {
      "cell_type": "code",
      "metadata": {
        "id": "SkkVQpIHaE14"
      },
      "source": [
        "def soma(a, b):\n",
        "  return a + b"
      ],
      "execution_count": null,
      "outputs": []
    },
    {
      "cell_type": "code",
      "metadata": {
        "id": "V8f3NdypaMzA",
        "colab": {
          "base_uri": "https://localhost:8080/",
          "height": 34
        },
        "outputId": "d2ef74b7-84a0-4b7a-f98f-8ca7f60e0981"
      },
      "source": [
        "soma(3, 2)"
      ],
      "execution_count": null,
      "outputs": [
        {
          "output_type": "execute_result",
          "data": {
            "text/plain": [
              "5"
            ]
          },
          "metadata": {
            "tags": []
          },
          "execution_count": 14
        }
      ]
    },
    {
      "cell_type": "code",
      "metadata": {
        "id": "AhQErC_faRQl",
        "colab": {
          "base_uri": "https://localhost:8080/",
          "height": 34
        },
        "outputId": "2f428ede-f980-428a-ac93-3684673d05c1"
      },
      "source": [
        "# r = 7\n",
        "r = soma(3, 2)\n",
        "print(r)"
      ],
      "execution_count": null,
      "outputs": [
        {
          "output_type": "stream",
          "text": [
            "5\n"
          ],
          "name": "stdout"
        }
      ]
    },
    {
      "cell_type": "code",
      "metadata": {
        "id": "wRhqE2ubamj2"
      },
      "source": [
        "def calcula_energia_potencial_gravitacional(m, h, g = 10):\n",
        "  '''\n",
        "  Calcula a energia potencial gravitacional\n",
        "  Argumentos:\n",
        "  m: massa, entrada como uma variável float\n",
        "  h: altura, entrada como uma variável float\n",
        "\n",
        "  Argumento opcional:\n",
        "  g: aceleração gravitacional, com valor default de 10\n",
        "  '''\n",
        "  e = g * m * h\n",
        "  return e"
      ],
      "execution_count": null,
      "outputs": []
    },
    {
      "cell_type": "code",
      "metadata": {
        "id": "QecHSc8aa2ai",
        "colab": {
          "base_uri": "https://localhost:8080/",
          "height": 34
        },
        "outputId": "52dafd66-4251-41eb-e6da-ed188c0a17e9"
      },
      "source": [
        "calcula_energia_potencial_gravitacional(30, 12)"
      ],
      "execution_count": null,
      "outputs": [
        {
          "output_type": "execute_result",
          "data": {
            "text/plain": [
              "3600"
            ]
          },
          "metadata": {
            "tags": []
          },
          "execution_count": 17
        }
      ]
    },
    {
      "cell_type": "code",
      "metadata": {
        "id": "5ZnVlGc1a6kR",
        "colab": {
          "base_uri": "https://localhost:8080/",
          "height": 34
        },
        "outputId": "e384fabb-64ae-4e8c-e566-de450d741fad"
      },
      "source": [
        "calcula_energia_potencial_gravitacional(30, 12, 9.8)"
      ],
      "execution_count": null,
      "outputs": [
        {
          "output_type": "execute_result",
          "data": {
            "text/plain": [
              "3528.0"
            ]
          },
          "metadata": {
            "tags": []
          },
          "execution_count": 18
        }
      ]
    },
    {
      "cell_type": "code",
      "metadata": {
        "id": "4w78UhKKbJ18",
        "colab": {
          "base_uri": "https://localhost:8080/",
          "height": 202
        },
        "outputId": "d634675f-bea1-46ac-ccf7-3d666660bcc1"
      },
      "source": [
        "help(calcula_energia_potencial_gravitacional)"
      ],
      "execution_count": null,
      "outputs": [
        {
          "output_type": "stream",
          "text": [
            "Help on function calcula_energia_potencial_gravitacional in module __main__:\n",
            "\n",
            "calcula_energia_potencial_gravitacional(m, h, g=10)\n",
            "    Calcula a energia potencial gravitacional\n",
            "    Argumentos:\n",
            "    m: massa, entrada como uma variável float\n",
            "    h: altura, entrada como uma variável float\n",
            "    \n",
            "    Argumento opcional:\n",
            "    g: aceleração gravitacional, com valor default de 10\n",
            "\n"
          ],
          "name": "stdout"
        }
      ]
    }
  ]
}