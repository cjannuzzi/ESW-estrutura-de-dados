{
  "cells": [
    {
      "cell_type": "markdown",
      "metadata": {
        "id": "3L3hMZxPloS9"
      },
      "source": [
        "# Fila de prioridade"
      ]
    },
    {
      "cell_type": "code",
      "execution_count": 20,
      "metadata": {
        "id": "2IUgpxk2pQW1"
      },
      "outputs": [],
      "source": [
        "import numpy as np"
      ]
    },
    {
      "cell_type": "code",
      "execution_count": 21,
      "metadata": {
        "id": "P7m0dnXelSKq"
      },
      "outputs": [],
      "source": [
        "class FilaPrioridade:\n",
        "\n",
        "    def __init__(self, capacidade):  # método construtor\n",
        "        self.capacidade = capacidade\n",
        "        self.numero_elementos = 0\n",
        "        self.valores = np.empty(self.capacidade, dtype=int)\n",
        "\n",
        "    def __fila_vazia(self):  # método auxiliar\n",
        "        return self.numero_elementos == 0  # verifica se a fila esta vazia\n",
        "\n",
        "    def __fila_cheia(self):  # método auxiliar\n",
        "        return self.numero_elementos == self.capacidade  # verifica se a fila esta cheia\n",
        "\n",
        "    def enfileirar(self, valor):\n",
        "        if self.__fila_cheia():\n",
        "            print(\"A fila está cheia\")\n",
        "            return\n",
        "\n",
        "        if self.numero_elementos == 0:  # primeiro elemento\n",
        "            self.valores[self.numero_elementos] = valor\n",
        "            self.numero_elementos += 1  # incrementa o número de elementos na fila\n",
        "        else:\n",
        "            x = self.numero_elementos - 1  # posição do elemento\n",
        "            while x >= 0:  # busca binária\n",
        "                if valor > self.valores[x]:  # elemento é maior\n",
        "                    self.valores[x + 1] = self.valores[\n",
        "                        x\n",
        "                    ]  # desloca para a direita o elemento para abrir espaço para o novo elemento\n",
        "                else:\n",
        "                    break  # sai do loop quando o elemento for menor que o valor passado como parametro\n",
        "                x -= 1  # decrementa a posição do elemento\n",
        "            self.valores[x + 1] = valor  # coloca o elemento na nova posição\n",
        "            self.numero_elementos += 1  # incrementa o número de elementos na fila\n",
        "\n",
        "    def desenfileirar(self):  # remover o primeiro elemento da fila\n",
        "        if self.__fila_vazia():  # se a fila estiver vazia\n",
        "            print(\"A fila está vazia\")  # imprime a mensagem\n",
        "            return\n",
        "\n",
        "        valor = self.valores[\n",
        "            self.numero_elementos - 1\n",
        "        ]  # pega o valor do último elemento\n",
        "        self.numero_elementos -= 1  # decrementa o número de elementos na fila\n",
        "        return valor\n",
        "\n",
        "    def primeiro(self):\n",
        "        if self.__fila_vazia():  # se a fila estiver vazia\n",
        "            return -1\n",
        "        return self.valores[self.numero_elementos - 1]"
      ]
    },
    {
      "cell_type": "code",
      "execution_count": 22,
      "metadata": {
        "id": "6g6rj7FUTfoa"
      },
      "outputs": [],
      "source": [
        "fila = FilaPrioridade(5)"
      ]
    },
    {
      "cell_type": "code",
      "execution_count": 23,
      "metadata": {
        "colab": {
          "base_uri": "https://localhost:8080/",
          "height": 55
        },
        "id": "KNyQDO7QTk1x",
        "outputId": "c8b927c2-b9eb-4bda-8b97-d0fd7d616e12"
      },
      "outputs": [
        {
          "data": {
            "text/plain": [
              "-1"
            ]
          },
          "execution_count": 23,
          "metadata": {},
          "output_type": "execute_result"
        }
      ],
      "source": [
        "fila.primeiro()"
      ]
    },
    {
      "cell_type": "code",
      "execution_count": 24,
      "metadata": {
        "colab": {
          "base_uri": "https://localhost:8080/",
          "height": 55
        },
        "id": "S7gJ2EirTndC",
        "outputId": "77713504-210e-4d1e-f52d-88edce909e7a"
      },
      "outputs": [
        {
          "data": {
            "text/plain": [
              "30"
            ]
          },
          "execution_count": 24,
          "metadata": {},
          "output_type": "execute_result"
        }
      ],
      "source": [
        "# 30\n",
        "fila.enfileirar(30)\n",
        "fila.primeiro()"
      ]
    },
    {
      "cell_type": "code",
      "execution_count": 25,
      "metadata": {
        "colab": {
          "base_uri": "https://localhost:8080/",
          "height": 55
        },
        "id": "7Zx2KQqtTtwy",
        "outputId": "be2a5dbe-2fc9-401f-b3aa-861a395d149d"
      },
      "outputs": [
        {
          "data": {
            "text/plain": [
              "30"
            ]
          },
          "execution_count": 25,
          "metadata": {},
          "output_type": "execute_result"
        }
      ],
      "source": [
        "# 50 30\n",
        "fila.enfileirar(50)\n",
        "fila.primeiro()"
      ]
    },
    {
      "cell_type": "code",
      "execution_count": 26,
      "metadata": {
        "colab": {
          "base_uri": "https://localhost:8080/",
          "height": 55
        },
        "id": "PHbRrorRT1HW",
        "outputId": "7cf8465d-f6ca-4fd8-d42b-29aa105d83e6"
      },
      "outputs": [
        {
          "data": {
            "text/plain": [
              "10"
            ]
          },
          "execution_count": 26,
          "metadata": {},
          "output_type": "execute_result"
        }
      ],
      "source": [
        "# Tradicional: 10 50 30\n",
        "# Prioridade: 50 30 10\n",
        "fila.enfileirar(10)\n",
        "fila.primeiro()"
      ]
    },
    {
      "cell_type": "code",
      "execution_count": 27,
      "metadata": {
        "colab": {
          "base_uri": "https://localhost:8080/",
          "height": 72
        },
        "id": "AcOFUiyLUByX",
        "outputId": "7ca26c73-7d9e-42a5-adc4-05e5db5407cd"
      },
      "outputs": [
        {
          "data": {
            "text/plain": [
              "array([ 50,  30,  10, 559,   0])"
            ]
          },
          "execution_count": 27,
          "metadata": {},
          "output_type": "execute_result"
        }
      ],
      "source": [
        "fila.valores"
      ]
    },
    {
      "cell_type": "code",
      "execution_count": 28,
      "metadata": {
        "colab": {
          "base_uri": "https://localhost:8080/",
          "height": 55
        },
        "id": "P2yfTzhGUHZU",
        "outputId": "e8a78ec6-13b1-41c0-dd42-0ec360ec9776"
      },
      "outputs": [
        {
          "data": {
            "text/plain": [
              "10"
            ]
          },
          "execution_count": 28,
          "metadata": {},
          "output_type": "execute_result"
        }
      ],
      "source": [
        "# Tradicional: 40 10 50 30\n",
        "# Prioridade: 50 40 30 10\n",
        "fila.enfileirar(40)\n",
        "fila.primeiro()"
      ]
    },
    {
      "cell_type": "code",
      "execution_count": 29,
      "metadata": {
        "colab": {
          "base_uri": "https://localhost:8080/",
          "height": 72
        },
        "id": "dppNTh-fURpD",
        "outputId": "9bc4fb2d-c996-4e8f-eb0c-c86a124e7842"
      },
      "outputs": [
        {
          "data": {
            "text/plain": [
              "array([50, 40, 30, 10,  0])"
            ]
          },
          "execution_count": 29,
          "metadata": {},
          "output_type": "execute_result"
        }
      ],
      "source": [
        "fila.valores"
      ]
    },
    {
      "cell_type": "code",
      "execution_count": 30,
      "metadata": {
        "colab": {
          "base_uri": "https://localhost:8080/",
          "height": 55
        },
        "id": "UnyRL6PtUXeV",
        "outputId": "871d9d1f-5b0d-44fa-e62b-550b6290021c"
      },
      "outputs": [
        {
          "data": {
            "text/plain": [
              "10"
            ]
          },
          "execution_count": 30,
          "metadata": {},
          "output_type": "execute_result"
        }
      ],
      "source": [
        "# Tradicional: 20 40 10 50 30\n",
        "# Prioridade: 50 40 30 20 10\n",
        "fila.enfileirar(20)\n",
        "fila.primeiro()"
      ]
    },
    {
      "cell_type": "code",
      "execution_count": 31,
      "metadata": {
        "colab": {
          "base_uri": "https://localhost:8080/",
          "height": 55
        },
        "id": "Z1uzKXHjUegp",
        "outputId": "2e210570-2a48-42a3-f71b-5622291d1855"
      },
      "outputs": [
        {
          "data": {
            "text/plain": [
              "array([50, 40, 30, 20, 10])"
            ]
          },
          "execution_count": 31,
          "metadata": {},
          "output_type": "execute_result"
        }
      ],
      "source": [
        "fila.valores"
      ]
    },
    {
      "cell_type": "code",
      "execution_count": 32,
      "metadata": {
        "colab": {
          "base_uri": "https://localhost:8080/",
          "height": 55
        },
        "id": "VC6gi5A1Uj9U",
        "outputId": "1f1b0b16-f268-4937-9546-1db928d8dfe5"
      },
      "outputs": [
        {
          "name": "stdout",
          "output_type": "stream",
          "text": [
            "A fila está cheia\n"
          ]
        }
      ],
      "source": [
        "fila.enfileirar(2)"
      ]
    },
    {
      "cell_type": "code",
      "execution_count": 33,
      "metadata": {
        "colab": {
          "base_uri": "https://localhost:8080/",
          "height": 55
        },
        "id": "mCvs173RUoRc",
        "outputId": "ac3156bf-53a6-4755-b725-0380b9cd1935"
      },
      "outputs": [
        {
          "data": {
            "text/plain": [
              "20"
            ]
          },
          "execution_count": 33,
          "metadata": {},
          "output_type": "execute_result"
        }
      ],
      "source": [
        "fila.desenfileirar()\n",
        "fila.primeiro()"
      ]
    },
    {
      "cell_type": "code",
      "execution_count": 34,
      "metadata": {
        "colab": {
          "base_uri": "https://localhost:8080/",
          "height": 55
        },
        "id": "Z8s6kFeyUuhL",
        "outputId": "5267cda4-f962-442f-b34d-b12d8e56866a"
      },
      "outputs": [
        {
          "data": {
            "text/plain": [
              "30"
            ]
          },
          "execution_count": 34,
          "metadata": {},
          "output_type": "execute_result"
        }
      ],
      "source": [
        "fila.desenfileirar()\n",
        "fila.primeiro()"
      ]
    },
    {
      "cell_type": "code",
      "execution_count": 35,
      "metadata": {
        "colab": {
          "base_uri": "https://localhost:8080/",
          "height": 55
        },
        "id": "m_FTzPeQUy6-",
        "outputId": "f147e41e-0ca4-46c0-8522-c525f9a99317"
      },
      "outputs": [
        {
          "data": {
            "text/plain": [
              "40"
            ]
          },
          "execution_count": 35,
          "metadata": {},
          "output_type": "execute_result"
        }
      ],
      "source": [
        "fila.desenfileirar()\n",
        "fila.primeiro()"
      ]
    },
    {
      "cell_type": "code",
      "execution_count": 36,
      "metadata": {
        "colab": {
          "base_uri": "https://localhost:8080/",
          "height": 55
        },
        "id": "klnRh-uVU39A",
        "outputId": "368f11aa-7461-4813-8f16-bee19942c05b"
      },
      "outputs": [
        {
          "data": {
            "text/plain": [
              "array([50, 40, 30, 20, 10])"
            ]
          },
          "execution_count": 36,
          "metadata": {},
          "output_type": "execute_result"
        }
      ],
      "source": [
        "fila.valores"
      ]
    },
    {
      "cell_type": "code",
      "execution_count": 37,
      "metadata": {
        "colab": {
          "base_uri": "https://localhost:8080/",
          "height": 55
        },
        "id": "4Tj8LEPgU-S6",
        "outputId": "05135f9c-837e-4e91-db23-c1a3d0ce9447"
      },
      "outputs": [
        {
          "data": {
            "text/plain": [
              "5"
            ]
          },
          "execution_count": 37,
          "metadata": {},
          "output_type": "execute_result"
        }
      ],
      "source": [
        "fila.enfileirar(5)\n",
        "fila.primeiro()"
      ]
    },
    {
      "cell_type": "code",
      "execution_count": 38,
      "metadata": {
        "colab": {
          "base_uri": "https://localhost:8080/",
          "height": 55
        },
        "id": "o6euC1cZVDCv",
        "outputId": "58d5038b-2c2d-4a5e-e918-989bb9aad4ae"
      },
      "outputs": [
        {
          "data": {
            "text/plain": [
              "array([50, 40,  5, 20, 10])"
            ]
          },
          "execution_count": 38,
          "metadata": {},
          "output_type": "execute_result"
        }
      ],
      "source": [
        "fila.valores"
      ]
    }
  ],
  "metadata": {
    "colab": {
      "provenance": []
    },
    "kernelspec": {
      "display_name": "Python 3",
      "name": "python3"
    },
    "language_info": {
      "codemirror_mode": {
        "name": "ipython",
        "version": 3
      },
      "file_extension": ".py",
      "mimetype": "text/x-python",
      "name": "python",
      "nbconvert_exporter": "python",
      "pygments_lexer": "ipython3",
      "version": "3.12.2"
    }
  },
  "nbformat": 4,
  "nbformat_minor": 0
}
