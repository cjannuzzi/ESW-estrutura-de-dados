{
  "cells": [
    {
      "cell_type": "markdown",
      "metadata": {
        "id": "3L3hMZxPloS9"
      },
      "source": [
        "# Fila circular"
      ]
    },
    {
      "cell_type": "code",
      "execution_count": 16,
      "metadata": {
        "id": "2IUgpxk2pQW1"
      },
      "outputs": [],
      "source": [
        "import numpy as np"
      ]
    },
    {
      "cell_type": "code",
      "execution_count": 17,
      "metadata": {
        "id": "If-o0mg7HVWQ"
      },
      "outputs": [],
      "source": [
        "class FilaCircular:\n",
        "\n",
        "    def __init__(self, capacidade):\n",
        "        self.capacidade = capacidade\n",
        "        self.inicio = 0\n",
        "        self.final = -1\n",
        "        self.numero_elementos = 0\n",
        "        self.valores = np.empty(self.capacidade, dtype=int)\n",
        "\n",
        "    def __fila_vazia(self):  # O(1)\n",
        "        return self.numero_elementos == 0\n",
        "\n",
        "    def __fila_cheia(self):\n",
        "        return (\n",
        "            self.numero_elementos == self.capacidade\n",
        "        )  # retorna True se a fila estiver cheia\n",
        "\n",
        "    def enfileirar(self, valor):\n",
        "        if (\n",
        "            self.__fila_cheia()\n",
        "        ):  # Se a fila estiver cheia retorna True e encerra o programa\n",
        "            print(\"A fila está cheia\")\n",
        "            return\n",
        "\n",
        "        if (\n",
        "            self.final == self.capacidade - 1\n",
        "        ):  # Se o final estiver na ultima posicao retorna True e encerra o programa\n",
        "            self.final = -1  # Volta o final para a primeira posicao\n",
        "        self.final += 1  # Incrementa o final\n",
        "        self.valores[self.final] = valor  # Adiciona o valor\n",
        "        self.numero_elementos += 1  # Incrementa o numero de elementos\n",
        "\n",
        "    def desenfileirar(self):\n",
        "        if self.__fila_vazia():\n",
        "            print(\"A fila já está vazia\")\n",
        "            return\n",
        "\n",
        "        temp = self.valores[\n",
        "            self.inicio\n",
        "        ]  # Guarda o valor que vai ser removido na variável temp\n",
        "        self.inicio += 1  # Incrementa o inicio para a proxima posicao\n",
        "        if (\n",
        "            self.inicio == self.capacidade\n",
        "        ):  # Se o inicio estiver na ultima posicao retorna True\n",
        "            self.inicio = 0  # Volta o inicio para a primeira posicao\n",
        "        self.numero_elementos -= 1  # Decrementa o numero de elementos\n",
        "        return temp\n",
        "\n",
        "    def primeiro(self):  # Função que retorna o primeiro elemento da fila\n",
        "        if (\n",
        "            self.__fila_vazia()\n",
        "        ):  # Se a fila estiver vazia retorna -1 e encerra o programa\n",
        "            return -1  # Retorna -1\n",
        "        return self.valores[self.inicio]  # retorna o primeiro elemento da fila"
      ]
    },
    {
      "cell_type": "code",
      "execution_count": 18,
      "metadata": {
        "id": "HiqlbuXKJmwi"
      },
      "outputs": [],
      "source": [
        "fila = FilaCircular(5)"
      ]
    },
    {
      "cell_type": "code",
      "execution_count": 19,
      "metadata": {
        "colab": {
          "base_uri": "https://localhost:8080/"
        },
        "id": "GmSAoCYXJqcL",
        "outputId": "96cc41d6-b9ac-4cac-efe7-a28dc21541f5"
      },
      "outputs": [
        {
          "data": {
            "text/plain": [
              "-1"
            ]
          },
          "execution_count": 19,
          "metadata": {},
          "output_type": "execute_result"
        }
      ],
      "source": [
        "fila.primeiro()"
      ]
    },
    {
      "cell_type": "code",
      "execution_count": 20,
      "metadata": {
        "colab": {
          "base_uri": "https://localhost:8080/"
        },
        "id": "pKkqDfz4Js-9",
        "outputId": "c7bef7de-636a-42cf-aeb4-4d4c465e643c"
      },
      "outputs": [
        {
          "data": {
            "text/plain": [
              "1"
            ]
          },
          "execution_count": 20,
          "metadata": {},
          "output_type": "execute_result"
        }
      ],
      "source": [
        "# 1\n",
        "fila.enfileirar(1)\n",
        "fila.primeiro()"
      ]
    },
    {
      "cell_type": "code",
      "execution_count": 21,
      "metadata": {
        "colab": {
          "base_uri": "https://localhost:8080/"
        },
        "id": "uKUBWPjKJ1bs",
        "outputId": "9f622f31-bf1d-461f-ca2f-b5fb4c5da282"
      },
      "outputs": [
        {
          "data": {
            "text/plain": [
              "1"
            ]
          },
          "execution_count": 21,
          "metadata": {},
          "output_type": "execute_result"
        }
      ],
      "source": [
        "# 2 1\n",
        "fila.enfileirar(2)\n",
        "fila.primeiro()"
      ]
    },
    {
      "cell_type": "code",
      "execution_count": 22,
      "metadata": {
        "id": "qtHrnRv7J-HH"
      },
      "outputs": [],
      "source": [
        "# 5 4 3 2 1\n",
        "fila.enfileirar(3)\n",
        "fila.enfileirar(4)\n",
        "fila.enfileirar(5)"
      ]
    },
    {
      "cell_type": "code",
      "execution_count": 23,
      "metadata": {
        "colab": {
          "base_uri": "https://localhost:8080/"
        },
        "id": "YAaDA05xKXWU",
        "outputId": "7316be2f-f805-463e-bd41-d64eff4f471c"
      },
      "outputs": [
        {
          "name": "stdout",
          "output_type": "stream",
          "text": [
            "A fila está cheia\n"
          ]
        }
      ],
      "source": [
        "fila.enfileirar(6)"
      ]
    },
    {
      "cell_type": "code",
      "execution_count": 24,
      "metadata": {
        "colab": {
          "base_uri": "https://localhost:8080/"
        },
        "id": "xbZ2VaffKaiD",
        "outputId": "58dbcc11-901e-4e96-fad1-3b1e2cb4199b"
      },
      "outputs": [
        {
          "data": {
            "text/plain": [
              "3"
            ]
          },
          "execution_count": 24,
          "metadata": {},
          "output_type": "execute_result"
        }
      ],
      "source": [
        "# 5 4 3\n",
        "fila.desenfileirar()\n",
        "fila.desenfileirar()\n",
        "fila.primeiro()"
      ]
    },
    {
      "cell_type": "code",
      "execution_count": 25,
      "metadata": {
        "id": "aE7Xb5RlKth2"
      },
      "outputs": [],
      "source": [
        "# 7 6 5 4 3\n",
        "fila.enfileirar(6)\n",
        "fila.enfileirar(7)"
      ]
    },
    {
      "cell_type": "code",
      "execution_count": 26,
      "metadata": {
        "colab": {
          "base_uri": "https://localhost:8080/"
        },
        "id": "_bCtDyitK0YE",
        "outputId": "03d6f1d7-f97d-4cb3-e07a-26e42a03a4c4"
      },
      "outputs": [
        {
          "data": {
            "text/plain": [
              "3"
            ]
          },
          "execution_count": 26,
          "metadata": {},
          "output_type": "execute_result"
        }
      ],
      "source": [
        "fila.primeiro()"
      ]
    },
    {
      "cell_type": "code",
      "execution_count": 27,
      "metadata": {
        "colab": {
          "base_uri": "https://localhost:8080/"
        },
        "id": "EDxcQvYSK4_P",
        "outputId": "ef5bce39-a2ff-46c3-ef6d-a46a94614fc0"
      },
      "outputs": [
        {
          "data": {
            "text/plain": [
              "array([6, 7, 3, 4, 5])"
            ]
          },
          "execution_count": 27,
          "metadata": {},
          "output_type": "execute_result"
        }
      ],
      "source": [
        "fila.valores"
      ]
    },
    {
      "cell_type": "code",
      "execution_count": 28,
      "metadata": {
        "colab": {
          "base_uri": "https://localhost:8080/"
        },
        "id": "K2cWewV-LDGf",
        "outputId": "f8629516-681d-471b-84af-1b3553595c1c"
      },
      "outputs": [
        {
          "data": {
            "text/plain": [
              "(2, 1)"
            ]
          },
          "execution_count": 28,
          "metadata": {},
          "output_type": "execute_result"
        }
      ],
      "source": [
        "fila.inicio, fila.final"
      ]
    },
    {
      "cell_type": "code",
      "execution_count": 29,
      "metadata": {
        "colab": {
          "base_uri": "https://localhost:8080/"
        },
        "id": "hMdGkgf1LZhD",
        "outputId": "bf8c8591-f9ad-4cb7-e31e-925cf1a5caa5"
      },
      "outputs": [
        {
          "data": {
            "text/plain": [
              "7"
            ]
          },
          "execution_count": 29,
          "metadata": {},
          "output_type": "execute_result"
        }
      ],
      "source": [
        "fila.valores[fila.final]"
      ]
    },
    {
      "cell_type": "code",
      "execution_count": 30,
      "metadata": {
        "colab": {
          "base_uri": "https://localhost:8080/"
        },
        "id": "ONTy1yoJLdPj",
        "outputId": "27e7be63-5cf1-4ab9-988e-b2c9680252bb"
      },
      "outputs": [
        {
          "data": {
            "text/plain": [
              "3"
            ]
          },
          "execution_count": 30,
          "metadata": {},
          "output_type": "execute_result"
        }
      ],
      "source": [
        "fila.valores[fila.inicio]"
      ]
    }
  ],
  "metadata": {
    "colab": {
      "provenance": []
    },
    "kernelspec": {
      "display_name": "Python 3",
      "name": "python3"
    },
    "language_info": {
      "codemirror_mode": {
        "name": "ipython",
        "version": 3
      },
      "file_extension": ".py",
      "mimetype": "text/x-python",
      "name": "python",
      "nbconvert_exporter": "python",
      "pygments_lexer": "ipython3",
      "version": "3.12.2"
    }
  },
  "nbformat": 4,
  "nbformat_minor": 0
}
