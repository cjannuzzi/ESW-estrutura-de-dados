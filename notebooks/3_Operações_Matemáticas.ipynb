{
  "cells": [
    {
      "cell_type": "markdown",
      "metadata": {
        "id": "OdCqxB8wZkNZ"
      },
      "source": [
        "## Operações matemáticas"
      ]
    },
    {
      "cell_type": "code",
      "execution_count": 14,
      "metadata": {
        "colab": {
          "base_uri": "https://localhost:8080/",
          "height": 34
        },
        "id": "GjbDk0zuvZya",
        "outputId": "dcd64c55-959e-454b-cb1f-0209ab6e1752"
      },
      "outputs": [
        {
          "name": "stdout",
          "output_type": "stream",
          "text": [
            "5 3\n"
          ]
        }
      ],
      "source": [
        "a = 5\n",
        "b = 3\n",
        "print(a, b)"
      ]
    },
    {
      "cell_type": "code",
      "execution_count": 15,
      "metadata": {
        "colab": {
          "base_uri": "https://localhost:8080/",
          "height": 34
        },
        "id": "f-FunDS2vey-",
        "outputId": "5dcf7052-160a-4047-df0a-0bb16380a312"
      },
      "outputs": [
        {
          "data": {
            "text/plain": [
              "8"
            ]
          },
          "execution_count": 15,
          "metadata": {},
          "output_type": "execute_result"
        }
      ],
      "source": [
        "a + b"
      ]
    },
    {
      "cell_type": "code",
      "execution_count": 16,
      "metadata": {
        "colab": {
          "base_uri": "https://localhost:8080/",
          "height": 34
        },
        "id": "goI2V927vhKY",
        "outputId": "3b2fa84b-93bf-4d30-dcd1-20da644a6ae1"
      },
      "outputs": [
        {
          "name": "stdout",
          "output_type": "stream",
          "text": [
            "A soma é 8\n"
          ]
        }
      ],
      "source": [
        "print(\"A soma é\", a + b)"
      ]
    },
    {
      "cell_type": "code",
      "execution_count": 17,
      "metadata": {
        "colab": {
          "base_uri": "https://localhost:8080/",
          "height": 34
        },
        "id": "yZk9zH7xvnA3",
        "outputId": "fb089831-697b-4437-e5bf-bfb75cba83d1"
      },
      "outputs": [
        {
          "name": "stdout",
          "output_type": "stream",
          "text": [
            "A subtração é 2\n"
          ]
        }
      ],
      "source": [
        "print(\"A subtração é\", a - b)"
      ]
    },
    {
      "cell_type": "code",
      "execution_count": 18,
      "metadata": {
        "colab": {
          "base_uri": "https://localhost:8080/",
          "height": 34
        },
        "id": "fKFlQDMvvsFF",
        "outputId": "1721d204-1eac-490b-9ce8-f192be606636"
      },
      "outputs": [
        {
          "name": "stdout",
          "output_type": "stream",
          "text": [
            "A divisão é 1.6666666666666667\n"
          ]
        }
      ],
      "source": [
        "print(\"A divisão é\", a / b)"
      ]
    },
    {
      "cell_type": "code",
      "execution_count": 19,
      "metadata": {
        "colab": {
          "base_uri": "https://localhost:8080/",
          "height": 34
        },
        "id": "imRDwh3UvwPT",
        "outputId": "1cbb7246-8005-4337-fbfc-894bb3aaf3c2"
      },
      "outputs": [
        {
          "name": "stdout",
          "output_type": "stream",
          "text": [
            "A multiplicação é 15\n"
          ]
        }
      ],
      "source": [
        "print(\"A multiplicação é\", a * b)"
      ]
    },
    {
      "cell_type": "code",
      "execution_count": 20,
      "metadata": {
        "colab": {
          "base_uri": "https://localhost:8080/",
          "height": 34
        },
        "id": "OE3QUcJSv1Lg",
        "outputId": "52c04c76-870e-41d4-f47d-36e799ec424f"
      },
      "outputs": [
        {
          "name": "stdout",
          "output_type": "stream",
          "text": [
            "O resto da divisão é 1\n"
          ]
        }
      ],
      "source": [
        "print(\"O resto da divisão é\", 10 % 3)"
      ]
    },
    {
      "cell_type": "code",
      "execution_count": 21,
      "metadata": {
        "colab": {
          "base_uri": "https://localhost:8080/",
          "height": 34
        },
        "id": "qO0vvLZvwMKx",
        "outputId": "151d399c-a175-4e57-bd5c-2af732a5190a"
      },
      "outputs": [
        {
          "data": {
            "text/plain": [
              "625"
            ]
          },
          "execution_count": 21,
          "metadata": {},
          "output_type": "execute_result"
        }
      ],
      "source": [
        "5 * 5 * 5 * 5"
      ]
    },
    {
      "cell_type": "code",
      "execution_count": 22,
      "metadata": {
        "colab": {
          "base_uri": "https://localhost:8080/",
          "height": 34
        },
        "id": "8njb8NSXwEO2",
        "outputId": "8041da9b-5ed9-4c17-f9ed-590a76e98d7b"
      },
      "outputs": [
        {
          "name": "stdout",
          "output_type": "stream",
          "text": [
            "5 elevado a 4 é 625\n"
          ]
        }
      ],
      "source": [
        "print(\"5 elevado a 4 é\", 5**4)"
      ]
    },
    {
      "cell_type": "code",
      "execution_count": 23,
      "metadata": {
        "colab": {
          "base_uri": "https://localhost:8080/",
          "height": 34
        },
        "id": "eL3w6bgmwYdy",
        "outputId": "0a2cfba6-566e-4796-cc80-b8703aa919c4"
      },
      "outputs": [
        {
          "data": {
            "text/plain": [
              "9.0"
            ]
          },
          "execution_count": 23,
          "metadata": {},
          "output_type": "execute_result"
        }
      ],
      "source": [
        "import math\n",
        "\n",
        "math.sqrt(81)"
      ]
    },
    {
      "cell_type": "markdown",
      "metadata": {
        "id": "qGlWtUpyZijE"
      },
      "source": [
        "## Arredondamento"
      ]
    },
    {
      "cell_type": "code",
      "execution_count": 24,
      "metadata": {
        "colab": {
          "base_uri": "https://localhost:8080/",
          "height": 34
        },
        "id": "k_X9_e0lwq--",
        "outputId": "da1fbd2e-3e01-4c55-eb73-94050c5fc491"
      },
      "outputs": [
        {
          "name": "stdout",
          "output_type": "stream",
          "text": [
            "0.004119434802022268\n"
          ]
        }
      ],
      "source": [
        "casos_doenca_vass = 1430\n",
        "numero_habitantes_vass = 347135\n",
        "casos_por_habitante = casos_doenca_vass / numero_habitantes_vass\n",
        "print(casos_por_habitante)"
      ]
    },
    {
      "cell_type": "code",
      "execution_count": 25,
      "metadata": {
        "colab": {
          "base_uri": "https://localhost:8080/",
          "height": 34
        },
        "id": "DZrPZvK7w5op",
        "outputId": "b329f495-b506-4760-c114-3e255f6ac59c"
      },
      "outputs": [
        {
          "data": {
            "text/plain": [
              "0.004119"
            ]
          },
          "execution_count": 25,
          "metadata": {},
          "output_type": "execute_result"
        }
      ],
      "source": [
        "round(casos_por_habitante, 6)"
      ]
    },
    {
      "cell_type": "code",
      "execution_count": 26,
      "metadata": {
        "colab": {
          "base_uri": "https://localhost:8080/",
          "height": 34
        },
        "id": "LD--ZG0VxBPA",
        "outputId": "53c6e05b-02c0-4119-94c7-17f74babd11a"
      },
      "outputs": [
        {
          "name": "stdout",
          "output_type": "stream",
          "text": [
            "O número de casos por habitante é de 0.0041\n"
          ]
        }
      ],
      "source": [
        "print(\"O número de casos por habitante é de\", round(casos_por_habitante, 4))"
      ]
    }
  ],
  "metadata": {
    "colab": {
      "provenance": []
    },
    "kernelspec": {
      "display_name": "Python 3",
      "name": "python3"
    },
    "language_info": {
      "codemirror_mode": {
        "name": "ipython",
        "version": 3
      },
      "file_extension": ".py",
      "mimetype": "text/x-python",
      "name": "python",
      "nbconvert_exporter": "python",
      "pygments_lexer": "ipython3",
      "version": "0.0.0"
    }
  },
  "nbformat": 4,
  "nbformat_minor": 0
}
